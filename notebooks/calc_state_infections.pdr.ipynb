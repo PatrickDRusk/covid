{
 "cells": [
  {
   "cell_type": "markdown",
   "metadata": {},
   "source": [
    "# Calculating implied infection numbers"
   ]
  },
  {
   "cell_type": "markdown",
   "metadata": {},
   "source": [
    "This notebook tries to compute what the full infection numbers in the past and present likely were/are.\n",
    "\n",
    "It does so in the past by blending variables for \"median days from infection to death\" and \"infection fatility rate\" (IFR) with smoothed death rates. In other words, days_to_death days before date D, there must have been roughly (deaths_on_date_D / IFR) infections to end up with a given number of deaths on date D.\n",
    "\n",
    "It does in the present to looking at what percentage of infections were confirmed on the last day calculated in the past, and applying that percentage to the new infections found since then. That doesn't quite take into account if there is a significant ramping of testing during that time, but it should be close enough.\n",
    "\n",
    "The principal source of death data is files from the NY Times, supplemented by a more accurate DateOfDeath.csv from Massachusetts. The source of testing data is The COVID Tracking Project, maintained by The Atlantic."
   ]
  },
  {
   "cell_type": "markdown",
   "metadata": {},
   "source": [
    "NOTE: Prior to running this notebook, you should retrieve the latest DateOfDeath.csv file by:\n",
    "\n",
    "1. going to https://www.mass.gov/info-details/covid-19-response-reporting,\n",
    "2. downloading the raw data zip from the line saying \"Raw data used to create the dashboard is available here:\"\n",
    "3. copying the DateofDeath.csv in that file to the same directory as the notebook\n",
    "\n",
    "Yeah, that could be automated. Just haven't done it yet..."
   ]
  },
  {
   "cell_type": "code",
   "execution_count": null,
   "metadata": {},
   "outputs": [],
   "source": [
    "%matplotlib inline\n",
    "import numpy\n",
    "import pandas\n",
    "import matplotlib\n",
    "import matplotlib.pyplot as plt\n",
    "\n",
    "from common import load_data"
   ]
  },
  {
   "cell_type": "code",
   "execution_count": null,
   "metadata": {},
   "outputs": [],
   "source": [
    "# Earliest date that there is sufficient data for all states, including MA\n",
    "EARLIEST_DATE = pandas.Period('2020-03-10', freq='D')\n",
    "LATEST_DATE = None\n",
    "LATEST_DATE = pandas.Period('2020-07-29', freq='D')\n"
   ]
  },
  {
   "cell_type": "code",
   "execution_count": null,
   "metadata": {
    "scrolled": true
   },
   "outputs": [],
   "source": [
    "meta, nyt_stats, ct_stats = load_data(EARLIEST_DATE, LATEST_DATE)"
   ]
  },
  {
   "cell_type": "markdown",
   "metadata": {},
   "source": [
    "### Put the two datasets together"
   ]
  },
  {
   "cell_type": "code",
   "execution_count": null,
   "metadata": {},
   "outputs": [],
   "source": [
    "ct1 = ct_stats.set_index(['ST', 'Date']).sort_index()[['Pos']]\n",
    "nyt1 = nyt_stats.set_index(['ST', 'Date']).sort_index()[['Deaths']]\n",
    "stats = ct1.join(nyt1)\n",
    "stats.head()"
   ]
  },
  {
   "cell_type": "markdown",
   "metadata": {},
   "source": [
    "### Calculate new stats, state by state"
   ]
  },
  {
   "cell_type": "code",
   "execution_count": null,
   "metadata": {},
   "outputs": [],
   "source": [
    "def smooth_series(s):\n",
    "    i = 0\n",
    "    last_i = None\n",
    "    last_val = None\n",
    "    run_length = 0\n",
    "    foo = s.copy()\n",
    "    while i < len(foo):\n",
    "        val = foo[i]\n",
    "        if pandas.isna(val):\n",
    "            last_i, last_val = i, None\n",
    "            run_length = 0\n",
    "        elif last_val is None:\n",
    "            last_i, last_val = i, val\n",
    "            run_length = 1\n",
    "        elif val == last_val:\n",
    "            run_length += 1\n",
    "        #elif (val == (last_val + 1)) or (run_length == 1):\n",
    "        elif run_length == 1:\n",
    "            last_i, last_val = i, val\n",
    "            run_length = 1\n",
    "        else:\n",
    "            run_length += 1\n",
    "            new_vals = numpy.linspace(last_val, val, run_length)\n",
    "            foo[last_i:i+1] = new_vals\n",
    "            last_i, last_val = i, val\n",
    "            run_length = 1\n",
    "        i += 1\n",
    "\n",
    "    return foo"
   ]
  },
  {
   "cell_type": "code",
   "execution_count": null,
   "metadata": {},
   "outputs": [],
   "source": [
    "def calc_state_stats(state, state_stats, meta):\n",
    "    st = state_stats.groupby('Date').sum().sort_index().copy()\n",
    "\n",
    "    st['ST'] = state\n",
    "    st['Pop'] = meta.loc[state].Pop\n",
    "\n",
    "    # Prep for 7-day smoothing calculations\n",
    "    st7 = st.shift(7)\n",
    "    \n",
    "    # Smooth series that might not be reported daily in some states\n",
    "    st.Pos = smooth_series(st.Pos)\n",
    "    st.Deaths = smooth_series(st.Deaths)\n",
    "\n",
    "    # Calculate daily confirmed positive cases and deaths\n",
    "    st['Confirms'] = (st.Pos - st.shift().Pos)\n",
    "    st['Daily'] = (st.Deaths - st.shift().Deaths)\n",
    "\n",
    "    # Calculate both as trailing 7-day averages\n",
    "    st['Confirms7'] = (st.Pos - st7.Pos) / 7\n",
    "    st['Deaths7'] = (st.Deaths - st7.Deaths) / 7\n",
    "\n",
    "    # Convert into central 7-day mean, with special handling for last three days\n",
    "    #st.Confirms7 = st.Confirms7.shift(-3)\n",
    "    #st.Deaths7 = st.Deaths7.shift(-3)\n",
    "    specs = (\n",
    "        (8., numpy.array([1., 1., 1.1, 1.2, 1.4, 1.2, 1.1])),\n",
    "        (9., numpy.array([1., 1.1, 1.1, 1.2, 1.4, 1.7, 1.5])),\n",
    "        (10., numpy.array([1., 1.1, 1.2, 1.3, 1.4, 1.8, 2.2])),\n",
    "    )\n",
    "    for col in [-2, -1]:\n",
    "        st.iloc[:, col] = st.iloc[:, col].shift(-3)\n",
    "        dailies = st.iloc[-7:, col-2].values\n",
    "        vals = [((dailies * factors).sum() / divisor) for divisor, factors in specs]\n",
    "        st.iloc[-3:, col] = vals\n",
    "\n",
    "    return st.reset_index().set_index(['ST', 'Date']).copy()"
   ]
  },
  {
   "cell_type": "code",
   "execution_count": null,
   "metadata": {},
   "outputs": [],
   "source": [
    "meta_tmp = meta.set_index('ST')[['Pop']]"
   ]
  },
  {
   "cell_type": "code",
   "execution_count": null,
   "metadata": {},
   "outputs": [],
   "source": [
    "states = [calc_state_stats(state, df, meta_tmp)\n",
    "          for state, df in stats.reset_index().groupby('ST')]\n",
    "states[-17].tail()"
   ]
  },
  {
   "cell_type": "code",
   "execution_count": null,
   "metadata": {},
   "outputs": [],
   "source": [
    "def get_infections_df(states, death_lag, ifr_high, ifr_low, incubation, infectious):\n",
    "    new_states = []\n",
    "    for state in states:\n",
    "        state = state.copy()\n",
    "\n",
    "        # Calculate the IFR to apply for each day\n",
    "        ifr = pandas.Series(numpy.linspace(ifr_high, ifr_low, len(state)), index=state.index)\n",
    "        # Calculate the infections in the past\n",
    "        infections = state.shift(-death_lag).Deaths7 / ifr\n",
    "\n",
    "        # Find out the ratio of infections that were detected on the last date in the past\n",
    "        last_date = infections.index[-(death_lag+1)]\n",
    "        last_ratio = infections.loc[last_date] / (state.loc[last_date, 'Confirms7'] + 1)\n",
    "\n",
    "        # Apply that ratio to the dates since that date\n",
    "        infections.iloc[-death_lag:] = state.Confirms7.iloc[-death_lag:] * last_ratio\n",
    "\n",
    "        state['NewInfections'] = infections\n",
    "        state['TotInfections'] = infections.cumsum()\n",
    "        state['ActiveInfections'] = infections.rolling(infectious).sum().shift(incubation)\n",
    "        state['ActiveKnown'] = state.Confirms7.rolling(infectious).sum()\n",
    "        state['ActiveUnknown'] = state.ActiveInfections - state.ActiveKnown\n",
    "        state['APer1000'] = state.ActiveInfections / state.Pop / 1000.\n",
    "        state['AUPer1000'] = state.ActiveUnknown / state.Pop / 1000.\n",
    "        new_states.append(state)\n",
    "\n",
    "    return pandas.concat(new_states)"
   ]
  },
  {
   "cell_type": "code",
   "execution_count": null,
   "metadata": {},
   "outputs": [],
   "source": [
    "infected_states = get_infections_df(states, 18, 0.01, 0.006, 4, 13)\n",
    "infected_states.loc['WV', 'Deaths'].tail()"
   ]
  },
  {
   "cell_type": "code",
   "execution_count": null,
   "metadata": {},
   "outputs": [],
   "source": [
    "foo = infected_states.reset_index().set_index(['Date', 'ST']).sort_index()\n",
    "foo = foo[['Pop', 'Confirms7', 'Deaths7', 'NewInfections', 'APer1000', 'AUPer1000']]\n",
    "foo['PctFound'] = foo.Confirms7 / (foo.NewInfections + 1)"
   ]
  },
  {
   "cell_type": "code",
   "execution_count": null,
   "metadata": {},
   "outputs": [],
   "source": [
    "faz = foo.loc['2020-07-27', :].sort_values('AUPer1000', ascending=False).copy()\n",
    "faz = faz.reset_index()[['ST', 'Pop', 'Confirms7', 'Deaths7', 'AUPer1000', 'PctFound']]\n",
    "faz.columns = ['ST', 'Pop', 'Cases', 'Deaths', 'ActUnk1000', 'PctFound']\n",
    "faz.set_index('ST').head(12)"
   ]
  },
  {
   "cell_type": "code",
   "execution_count": null,
   "metadata": {},
   "outputs": [],
   "source": [
    "fam = foo.reset_index()\n",
    "fam = fam[fam.ST == 'NJ']\n",
    "fam.set_index('Date').tail(20)"
   ]
  },
  {
   "cell_type": "code",
   "execution_count": null,
   "metadata": {},
   "outputs": [],
   "source": []
  },
  {
   "cell_type": "code",
   "execution_count": null,
   "metadata": {},
   "outputs": [],
   "source": []
  },
  {
   "cell_type": "code",
   "execution_count": null,
   "metadata": {},
   "outputs": [],
   "source": [
    "SCENARIOS = (('1.0% - 0.6%', 20, 0.01, 0.006), )"
   ]
  },
  {
   "cell_type": "code",
   "execution_count": null,
   "metadata": {},
   "outputs": [],
   "source": [
    "raise ValueError()"
   ]
  },
  {
   "cell_type": "markdown",
   "metadata": {
    "slideshow": {
     "slide_type": "slide"
    }
   },
   "source": [
    "## Now for the charts..."
   ]
  },
  {
   "cell_type": "code",
   "execution_count": null,
   "metadata": {},
   "outputs": [],
   "source": [
    "SCENARIOS = (('20', 20, 0.01, 0.01), ('18', 18, 0.01, 0.01), ('16', 16, 0.01, 0.01), )\n",
    "\n",
    "df = get_infections_df(SCENARIOS)\n",
    "foo = df.plot(title=\"New Infections Estimates, varying average days to death, IFR = 1.0%\", figsize=(10,5))"
   ]
  },
  {
   "cell_type": "code",
   "execution_count": null,
   "metadata": {},
   "outputs": [],
   "source": [
    "SCENARIOS = (('1.3%', 18, 0.013, 0.013), ('1.0%', 18, 0.01, 0.01), ('0.7%', 18, 0.007, 0.007), )\n",
    "\n",
    "df = get_infections_df(SCENARIOS)\n",
    "foo = df.plot(title=\"New Infections Estimates, varying IFR, days to death = 18\", figsize=(10,5))"
   ]
  },
  {
   "cell_type": "code",
   "execution_count": null,
   "metadata": {},
   "outputs": [],
   "source": [
    "SCENARIOS = (('1.2% - 0.8%', 18, 0.012, 0.008), ('1.0% - 0.7%', 18, 0.01, 0.007), ('0.9% - 0.6%', 18, 0.009, 0.006), )\n",
    "\n",
    "df = get_infections_df(SCENARIOS)\n",
    "foo = df.plot(title=\"Infection Estimations, improving IFR, days to death = 18\", figsize=(10,5))"
   ]
  },
  {
   "cell_type": "code",
   "execution_count": null,
   "metadata": {},
   "outputs": [],
   "source": [
    "SCENARIOS = (('1.0% - 0.6%', 20, 0.01, 0.006), )\n",
    "\n",
    "df = get_infections_df(SCENARIOS)\n",
    "foo = df.plot(title=\"Infection Estimations, my hunch, 20 median days to death\", figsize=(10,5))"
   ]
  },
  {
   "cell_type": "code",
   "execution_count": null,
   "metadata": {},
   "outputs": [],
   "source": [
    "df.sum()"
   ]
  },
  {
   "cell_type": "code",
   "execution_count": null,
   "metadata": {},
   "outputs": [],
   "source": [
    "df.tail()"
   ]
  },
  {
   "cell_type": "code",
   "execution_count": null,
   "metadata": {},
   "outputs": [],
   "source": [
    "SCENARIOS = (('1.2% - 0.5%', 21, 0.012, 0.005), )\n",
    "\n",
    "df = get_infections_df(SCENARIOS)\n",
    "foo = df.plot(title=\"Worst case? 21 days to death, improving IFR\", figsize=(10,5))"
   ]
  },
  {
   "cell_type": "code",
   "execution_count": null,
   "metadata": {},
   "outputs": [],
   "source": [
    "numpy.linspace(1, 2, 3)"
   ]
  },
  {
   "cell_type": "code",
   "execution_count": null,
   "metadata": {},
   "outputs": [],
   "source": []
  }
 ],
 "metadata": {
  "kernelspec": {
   "display_name": "Python 3",
   "language": "python",
   "name": "python3"
  },
  "language_info": {
   "codemirror_mode": {
    "name": "ipython",
    "version": 3
   },
   "file_extension": ".py",
   "mimetype": "text/x-python",
   "name": "python",
   "nbconvert_exporter": "python",
   "pygments_lexer": "ipython3",
   "version": "3.6.8"
  }
 },
 "nbformat": 4,
 "nbformat_minor": 2
}
