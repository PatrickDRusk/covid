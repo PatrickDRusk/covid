{
 "cells": [
  {
   "cell_type": "markdown",
   "metadata": {},
   "source": [
    "# Calculating state-by-state implied infection numbers"
   ]
  },
  {
   "cell_type": "markdown",
   "metadata": {},
   "source": [
    "This notebook tries to compute what the full infection numbers in the past and present likely were/are.\n",
    "\n",
    "It does so in the past by blending variables for \"median days from infection to death\" and \"infection fatility rate\" (IFR) with smoothed death rates. In other words, days_to_death days before date D, there must have been roughly (deaths_on_date_D / IFR) infections to end up with a given number of deaths on date D.\n",
    "\n",
    "It does in the present to looking at what percentage of infections were confirmed on the last day calculated in the past, and applying that percentage to the new infections found since then. That doesn't quite take into account if there is a significant ramping of testing during that time, but it should be close enough.\n",
    "\n",
    "The principal source of death data is files from the NY Times, supplemented by a more accurate DateOfDeath.csv from Massachusetts. The source of testing data is The COVID Tracking Project, maintained by The Atlantic."
   ]
  },
  {
   "cell_type": "markdown",
   "metadata": {},
   "source": [
    "NOTE: Prior to running this notebook, you should retrieve the latest DateOfDeath.csv file by:\n",
    "\n",
    "1. going to https://www.mass.gov/info-details/covid-19-response-reporting,\n",
    "2. downloading the raw data zip from the line saying \"Raw data used to create the dashboard is available here:\"\n",
    "3. copying the DateofDeath.csv in that file to the same directory as the notebook\n",
    "\n",
    "Yeah, that could be automated. Just haven't done it yet..."
   ]
  },
  {
   "cell_type": "code",
   "execution_count": null,
   "metadata": {},
   "outputs": [],
   "source": [
    "%matplotlib inline\n",
    "import numpy\n",
    "import pandas\n",
    "import matplotlib\n",
    "import matplotlib.pyplot as plt\n",
    "\n",
    "from common import load_data, smooth_series, calc_mid_weekly_average"
   ]
  },
  {
   "cell_type": "code",
   "execution_count": null,
   "metadata": {},
   "outputs": [],
   "source": [
    "# Earliest date that there is sufficient data for all states, including MA\n",
    "EARLIEST_DATE = pandas.Period('2020-03-10', freq='D')\n",
    "LATEST_DATE = pandas.Period('2020-08-11', freq='D')\n",
    "LATEST_DATE = None\n"
   ]
  },
  {
   "cell_type": "code",
   "execution_count": null,
   "metadata": {
    "scrolled": true
   },
   "outputs": [],
   "source": [
    "latest_date, meta, nyt_stats, ct_stats = load_data(EARLIEST_DATE, LATEST_DATE)\n",
    "print(f\"Latest date = {str(latest_date)}\")"
   ]
  },
  {
   "cell_type": "code",
   "execution_count": null,
   "metadata": {},
   "outputs": [],
   "source": [
    "ct_stats.tail()"
   ]
  },
  {
   "cell_type": "markdown",
   "metadata": {},
   "source": [
    "### Put the two datasets together"
   ]
  },
  {
   "cell_type": "code",
   "execution_count": null,
   "metadata": {},
   "outputs": [],
   "source": [
    "ct1 = ct_stats.set_index(['ST', 'Date']).sort_index()[['Pos', 'Tests']]\n",
    "nyt1 = nyt_stats.set_index(['ST', 'Date']).sort_index()[['Deaths']]\n",
    "stats = ct1.join(nyt1)\n",
    "stats.head()"
   ]
  },
  {
   "cell_type": "markdown",
   "metadata": {},
   "source": [
    "### Calculate new stats, state by state"
   ]
  },
  {
   "cell_type": "code",
   "execution_count": null,
   "metadata": {},
   "outputs": [],
   "source": [
    "def calc_state_stats(state, state_stats, meta):\n",
    "    st = state_stats.groupby('Date').sum().sort_index().copy()\n",
    "\n",
    "    st['ST'] = state\n",
    "    st['Pop'] = meta.loc[state].Pop\n",
    "\n",
    "    # Smooth series that might not be reported daily in some states\n",
    "    st.Pos = smooth_series(st.Pos)\n",
    "    st.Deaths = smooth_series(st.Deaths)\n",
    "\n",
    "    # Prep for 7-day smoothing calculations\n",
    "    st['Confirms'], st['Confirms7'] = calc_mid_weekly_average(st.Pos)\n",
    "    st['Daily'], st['Deaths7'] = calc_mid_weekly_average(st.Deaths)\n",
    "    st['DTests'], st['DTests7'] = calc_mid_weekly_average(st.Tests)\n",
    "\n",
    "    return st.reset_index().set_index(['ST', 'Date']).copy()"
   ]
  },
  {
   "cell_type": "code",
   "execution_count": null,
   "metadata": {},
   "outputs": [],
   "source": [
    "meta_tmp = meta.set_index('ST')[['Pop']]"
   ]
  },
  {
   "cell_type": "code",
   "execution_count": null,
   "metadata": {},
   "outputs": [],
   "source": [
    "states = [calc_state_stats(state, df, meta_tmp)\n",
    "          for state, df in stats.reset_index().groupby('ST')]\n",
    "states[-17].tail()"
   ]
  },
  {
   "cell_type": "code",
   "execution_count": null,
   "metadata": {},
   "outputs": [],
   "source": [
    "def get_infections_df(states, death_lag, ifr_high, ifr_low, incubation, infectious,\n",
    "                      max_confirmed_ratio=0.7):\n",
    "    new_states = []\n",
    "    for state in states:\n",
    "        state = state.copy()\n",
    "\n",
    "        # Calculate the IFR to apply for each day\n",
    "        ifr = pandas.Series(numpy.linspace(ifr_high, ifr_low, len(state)), index=state.index)\n",
    "        # Calculate the infections in the past\n",
    "        infections = state.shift(-death_lag).Deaths7 / ifr\n",
    "        \n",
    "        # Calculate the min infections based on max_confirmed_ratio\n",
    "        min_infections = state.Confirms7 / max_confirmed_ratio\n",
    "        infections = infections.combine(min_infections, max, 0)\n",
    "\n",
    "        # Find out the ratio of infections that were detected on the last date in the past\n",
    "        last_date = infections.index[-(death_lag+1)]\n",
    "        last_ratio = infections.loc[last_date] / (state.loc[last_date, 'Confirms7'] + 1)\n",
    "\n",
    "        # Apply that ratio to the dates since that date\n",
    "        infections.iloc[-death_lag:] = state.Confirms7.iloc[-death_lag:] * last_ratio\n",
    "\n",
    "        state['DPerM'] = state.Deaths7 / state.Pop\n",
    "        state['NewInf'] = infections\n",
    "        state['TotInf'] = infections.cumsum()\n",
    "        state['ActInf'] = infections.rolling(infectious).sum().shift(incubation)\n",
    "        state['ActKnown'] = state.Confirms7.rolling(infectious).sum()\n",
    "        state['ActUnk'] = state.ActInf - state.ActKnown\n",
    "        state['AIPer1000'] = state.ActInf / state.Pop / 1000.\n",
    "        state['AUPer1000'] = state.ActUnk / state.Pop / 1000.\n",
    "        state['PctFound'] = state.Confirms7 / (state.NewInf + 1)\n",
    "        new_states.append(state)\n",
    "\n",
    "    return pandas.concat(new_states)"
   ]
  },
  {
   "cell_type": "code",
   "execution_count": null,
   "metadata": {
    "scrolled": false
   },
   "outputs": [],
   "source": [
    "infected_states = get_infections_df(states, 19, 0.011, 0.004, 4, 10)\n",
    "print(infected_states.NewInf.sum())\n",
    "fam = infected_states.reset_index()[['Date', 'NewInf']].groupby('Date').sum().plot(\n",
    "    title=\"Infection Estimations, 19 median days to death, IFR improving 1.1% - 0.4%\",\n",
    "    figsize=(13,5), legend=None, ylim=0\n",
    ")"
   ]
  },
  {
   "cell_type": "code",
   "execution_count": null,
   "metadata": {},
   "outputs": [],
   "source": [
    "fam = infected_states.reset_index()[['Date', 'Deaths7']].groupby('Date').sum().plot(\n",
    "    title=\"Deaths\", figsize=(13,5),\n",
    "    legend=None, ylim=0\n",
    ")"
   ]
  },
  {
   "cell_type": "code",
   "execution_count": null,
   "metadata": {},
   "outputs": [],
   "source": [
    "foozle = infected_states.reset_index()[['Date', 'NewInf', 'Deaths7']].groupby('Date').sum()\n",
    "foozle.columns = ['Infections', 'Deaths']\n",
    "ax = foozle.plot(\n",
    "    title=\"Daily Infections vs. Deaths, 19 median days to death, IFR improving 1.1% - 0.4%\",\n",
    "    secondary_y='Deaths', figsize=(13,5), ylim=0)"
   ]
  },
  {
   "cell_type": "code",
   "execution_count": null,
   "metadata": {},
   "outputs": [],
   "source": [
    "foo = infected_states.reset_index().set_index(['Date', 'ST']).sort_index()\n",
    "foo = foo[['Pop', 'Confirms7', 'Deaths7', 'NewInf', 'AIPer1000', 'AUPer1000', 'PctFound']]"
   ]
  },
  {
   "cell_type": "code",
   "execution_count": null,
   "metadata": {},
   "outputs": [],
   "source": [
    "faz = foo.loc[latest_date, :].sort_values('AUPer1000', ascending=False).copy()\n",
    "faz = faz.reset_index()[['ST', 'Pop', 'Confirms7', 'Deaths7', 'AUPer1000', 'PctFound']]\n",
    "faz.columns = ['ST', 'Pop', 'Cases', 'Deaths', 'ActUnk1000', 'PctFound']\n",
    "faz = faz.set_index('ST')\n",
    "faz.head(15)"
   ]
  },
  {
   "cell_type": "code",
   "execution_count": null,
   "metadata": {},
   "outputs": [],
   "source": [
    "faz"
   ]
  },
  {
   "cell_type": "code",
   "execution_count": null,
   "metadata": {},
   "outputs": [],
   "source": [
    "faz[faz.PctFound <= 0.3].sort_values('PctFound')"
   ]
  },
  {
   "cell_type": "code",
   "execution_count": null,
   "metadata": {},
   "outputs": [],
   "source": [
    "fam = infected_states[['Pop', 'Confirms7', 'Deaths7', 'NewInf']].copy()\n",
    "fam['C7Per'] = fam.Confirms7 / fam.Pop\n",
    "fam['D7Per'] = fam.Deaths7 / fam.Pop\n",
    "fam['NIPer'] = fam.NewInf / fam.Pop\n",
    "fam = fam.reset_index()[['ST', 'NIPer', 'C7Per', 'D7Per']]\n",
    "fam.columns = ['ST', 'Infections', 'Confirms', 'Deaths']\n",
    "fam = fam.groupby('ST').max().copy()\n",
    "fam.sort_values('Deaths', ascending=False)"
   ]
  },
  {
   "cell_type": "code",
   "execution_count": null,
   "metadata": {},
   "outputs": [],
   "source": []
  },
  {
   "cell_type": "code",
   "execution_count": null,
   "metadata": {},
   "outputs": [],
   "source": []
  },
  {
   "cell_type": "code",
   "execution_count": null,
   "metadata": {},
   "outputs": [],
   "source": [
    "raise ValueError()"
   ]
  },
  {
   "cell_type": "markdown",
   "metadata": {
    "slideshow": {
     "slide_type": "slide"
    }
   },
   "source": [
    "## Now for the charts..."
   ]
  },
  {
   "cell_type": "code",
   "execution_count": null,
   "metadata": {
    "scrolled": true
   },
   "outputs": [],
   "source": [
    "st_names = ['AL', 'AZ', 'FL', 'GA', 'LA', 'MS', 'NV', 'SC', 'TX']\n",
    "st_names = list(infected_states.index.get_level_values(0).unique())\n",
    "st_names = ['NY', 'NJ', 'MA']\n",
    "st_names = ['GA']\n",
    "num_plots = max(len(st_names), 2)\n",
    "fig, axes = plt.subplots(num_plots, figsize=(10, 4*num_plots))\n",
    "for i, state in enumerate(st_names):\n",
    "    try:\n",
    "        infected_states.loc[state, :].DPerM.plot(ax=axes[i], title=state)\n",
    "    except:\n",
    "        pass\n"
   ]
  },
  {
   "cell_type": "code",
   "execution_count": null,
   "metadata": {},
   "outputs": [],
   "source": [
    "infected_states.index.get_level_values(0).unique()"
   ]
  },
  {
   "cell_type": "code",
   "execution_count": null,
   "metadata": {},
   "outputs": [],
   "source": [
    "df = pandas.concat(states)[['DTests7']].reset_index()\n",
    "st_names = list(df.ST.unique())\n",
    "fig, axes = plt.subplots(len(st_names), figsize=(10, 4*len(st_names)))\n",
    "for i, state in enumerate(st_names):\n",
    "    try:\n",
    "        df[df.ST == state].set_index('Date').DTests7.plot(ax=axes[i], title=state)\n",
    "    except:\n",
    "        pass\n"
   ]
  },
  {
   "cell_type": "code",
   "execution_count": null,
   "metadata": {},
   "outputs": [],
   "source": []
  },
  {
   "cell_type": "code",
   "execution_count": null,
   "metadata": {},
   "outputs": [],
   "source": [
    "infected_states.loc['GA', :].DPerM.plot(title='GA')"
   ]
  },
  {
   "cell_type": "code",
   "execution_count": null,
   "metadata": {},
   "outputs": [],
   "source": [
    "infected_states.tail()"
   ]
  },
  {
   "cell_type": "code",
   "execution_count": null,
   "metadata": {},
   "outputs": [],
   "source": []
  }
 ],
 "metadata": {
  "kernelspec": {
   "display_name": "Python 3",
   "language": "python",
   "name": "python3"
  },
  "language_info": {
   "codemirror_mode": {
    "name": "ipython",
    "version": 3
   },
   "file_extension": ".py",
   "mimetype": "text/x-python",
   "name": "python",
   "nbconvert_exporter": "python",
   "pygments_lexer": "ipython3",
   "version": "3.6.8"
  }
 },
 "nbformat": 4,
 "nbformat_minor": 2
}
