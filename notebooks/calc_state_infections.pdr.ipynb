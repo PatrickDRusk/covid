{
 "cells": [
  {
   "cell_type": "markdown",
   "metadata": {},
   "source": [
    "# Calculating state-by-state implied infection numbers"
   ]
  },
  {
   "cell_type": "markdown",
   "metadata": {},
   "source": [
    "This notebook tries to compute what the full infection numbers in the past and present likely were/are.\n",
    "\n",
    "It does so in the past by blending variables for \"median days from infection to death\" and \"infection fatility rate\" (IFR) with smoothed death rates. In other words, days_to_death days before date D, there must have been roughly (deaths_on_date_D / IFR) infections to end up with a given number of deaths on date D.\n",
    "\n",
    "It does in the present to looking at what percentage of infections were confirmed on the last day calculated in the past, and applying that percentage to the new infections found since then. That doesn't quite take into account if there is a significant ramping of testing during that time, but it should be close enough.\n",
    "\n",
    "The principal source of death data is files from the NY Times, supplemented by a more accurate DateOfDeath.csv from Massachusetts. The source of testing data is The COVID Tracking Project, maintained by The Atlantic."
   ]
  },
  {
   "cell_type": "markdown",
   "metadata": {},
   "source": [
    "NOTE: Prior to running this notebook, you should retrieve the latest DateOfDeath.csv file by:\n",
    "\n",
    "1. going to https://www.mass.gov/info-details/covid-19-response-reporting,\n",
    "2. downloading the raw data zip from the line saying \"Raw data used to create the dashboard is available here:\"\n",
    "3. copying the DateofDeath.csv in that file to the same directory as the notebook\n",
    "\n",
    "Yeah, that could be automated. Just haven't done it yet..."
   ]
  },
  {
   "cell_type": "code",
   "execution_count": null,
   "metadata": {},
   "outputs": [],
   "source": [
    "%matplotlib inline\n",
    "import numpy\n",
    "import pandas\n",
    "import matplotlib\n",
    "import matplotlib.pyplot as plt\n",
    "\n",
    "from common import load_data, smooth_series, calc_mid_weekly_average"
   ]
  },
  {
   "cell_type": "code",
   "execution_count": null,
   "metadata": {},
   "outputs": [],
   "source": [
    "# Earliest date that there is sufficient data for all states, including MA\n",
    "EARLIEST_DATE = pandas.Period('2020-03-10', freq='D')\n",
    "LATEST_DATE = pandas.Period('2020-08-07', freq='D')\n",
    "LATEST_DATE = None\n"
   ]
  },
  {
   "cell_type": "code",
   "execution_count": null,
   "metadata": {
    "scrolled": true
   },
   "outputs": [],
   "source": [
    "meta, nyt_stats, ct_stats = load_data(EARLIEST_DATE, LATEST_DATE)"
   ]
  },
  {
   "cell_type": "code",
   "execution_count": null,
   "metadata": {},
   "outputs": [],
   "source": [
    "ct_stats.tail()"
   ]
  },
  {
   "cell_type": "markdown",
   "metadata": {},
   "source": [
    "### Put the two datasets together"
   ]
  },
  {
   "cell_type": "code",
   "execution_count": null,
   "metadata": {},
   "outputs": [],
   "source": [
    "ct1 = ct_stats.set_index(['ST', 'Date']).sort_index()[['Pos', 'Tests']]\n",
    "nyt1 = nyt_stats.set_index(['ST', 'Date']).sort_index()[['Deaths']]\n",
    "stats = ct1.join(nyt1)\n",
    "stats.head()"
   ]
  },
  {
   "cell_type": "markdown",
   "metadata": {},
   "source": [
    "### Calculate new stats, state by state"
   ]
  },
  {
   "cell_type": "code",
   "execution_count": null,
   "metadata": {},
   "outputs": [],
   "source": [
    "def calc_state_stats(state, state_stats, meta):\n",
    "    st = state_stats.groupby('Date').sum().sort_index().copy()\n",
    "\n",
    "    st['ST'] = state\n",
    "    st['Pop'] = meta.loc[state].Pop\n",
    "\n",
    "    # Smooth series that might not be reported daily in some states\n",
    "    st.Pos = smooth_series(st.Pos)\n",
    "    st.Deaths = smooth_series(st.Deaths)\n",
    "\n",
    "    # Prep for 7-day smoothing calculations\n",
    "    st7 = st.shift(7)\n",
    "    \n",
    "#     # Calculate daily confirmed positive cases and deaths\n",
    "#     st['Confirms'] = (st.Pos - st.shift().Pos)\n",
    "#     st['Daily'] = (st.Deaths - st.shift().Deaths)\n",
    "\n",
    "#     # Calculate both as trailing 7-day averages\n",
    "#     st['Confirms7'] = (st.Pos - st7.Pos) / 7\n",
    "#     st['Deaths7'] = (st.Deaths - st7.Deaths) / 7\n",
    "\n",
    "#     # Convert into central 7-day mean, with special handling for last three days\n",
    "#     specs = (\n",
    "#         (8., numpy.array([1., 1., 1.1, 1.2, 1.4, 1.2, 1.1])),\n",
    "#         (9., numpy.array([1., 1.1, 1.1, 1.2, 1.4, 1.7, 1.5])),\n",
    "#         (10., numpy.array([1., 1.1, 1.2, 1.3, 1.4, 1.8, 2.2])),\n",
    "#     )\n",
    "#     for col in [-2, -1]:\n",
    "#         st.iloc[:, col] = st.iloc[:, col].shift(-3)\n",
    "#         dailies = st.iloc[-7:, col-2].values\n",
    "#         vals = [((dailies * factors).sum() / divisor) for divisor, factors in specs]\n",
    "#         st.iloc[-3:, col] = vals\n",
    "\n",
    "    st['Confirms'], st['Confirms7'] = calc_mid_weekly_average(st.Pos)\n",
    "    st['Daily'], st['Deaths7'] = calc_mid_weekly_average(st.Deaths)\n",
    "\n",
    "    return st.reset_index().set_index(['ST', 'Date']).copy()"
   ]
  },
  {
   "cell_type": "code",
   "execution_count": null,
   "metadata": {},
   "outputs": [],
   "source": [
    "meta_tmp = meta.set_index('ST')[['Pop']]"
   ]
  },
  {
   "cell_type": "code",
   "execution_count": null,
   "metadata": {},
   "outputs": [],
   "source": [
    "states = [calc_state_stats(state, df, meta_tmp)\n",
    "          for state, df in stats.reset_index().groupby('ST')]\n",
    "states[-17].tail()"
   ]
  },
  {
   "cell_type": "code",
   "execution_count": null,
   "metadata": {},
   "outputs": [],
   "source": [
    "def get_infections_df(states, death_lag, ifr_high, ifr_low, incubation, infectious,\n",
    "                      max_confirmed_ratio=0.7):\n",
    "    new_states = []\n",
    "    for state in states:\n",
    "        state = state.copy()\n",
    "\n",
    "        # Calculate the IFR to apply for each day\n",
    "        ifr = pandas.Series(numpy.linspace(ifr_high, ifr_low, len(state)), index=state.index)\n",
    "        # Calculate the infections in the past\n",
    "        infections = state.shift(-death_lag).Deaths7 / ifr\n",
    "        \n",
    "        # Calculate the min infections based on max_confirmed_ratio\n",
    "        min_infections = state.Confirms7 / max_confirmed_ratio\n",
    "        infections = infections.combine(min_infections, max, 0)\n",
    "\n",
    "        # Find out the ratio of infections that were detected on the last date in the past\n",
    "        last_date = infections.index[-(death_lag+1)]\n",
    "        last_ratio = infections.loc[last_date] / (state.loc[last_date, 'Confirms7'] + 1)\n",
    "\n",
    "        # Apply that ratio to the dates since that date\n",
    "        infections.iloc[-death_lag:] = state.Confirms7.iloc[-death_lag:] * last_ratio\n",
    "\n",
    "        state['NewInf'] = infections\n",
    "        state['TotInf'] = infections.cumsum()\n",
    "        state['ActInf'] = infections.rolling(infectious).sum().shift(incubation)\n",
    "        state['ActKnown'] = state.Confirms7.rolling(infectious).sum()\n",
    "        state['ActUnk'] = state.ActInf - state.ActKnown\n",
    "        state['AIPer1000'] = state.ActInf / state.Pop / 1000.\n",
    "        state['AUPer1000'] = state.ActUnk / state.Pop / 1000.\n",
    "        state['PctFound'] = state.Confirms7 / (state.NewInf + 1)\n",
    "        new_states.append(state)\n",
    "\n",
    "    return pandas.concat(new_states)"
   ]
  },
  {
   "cell_type": "code",
   "execution_count": null,
   "metadata": {},
   "outputs": [],
   "source": [
    "infected_states = get_infections_df(states, 19, 0.011, 0.004, 4, 10)\n",
    "print(infected_states.NewInf.sum())\n",
    "fam = infected_states.reset_index()[['Date', 'NewInf']].groupby('Date').sum().plot(\n",
    "    title=\"Infection Estimations, 19 median days to death, IFR improving 1.1% - 0.4%\", figsize=(10,5),\n",
    "    legend=None, ylim=0\n",
    ")"
   ]
  },
  {
   "cell_type": "code",
   "execution_count": null,
   "metadata": {},
   "outputs": [],
   "source": [
    "fam = infected_states.reset_index()[['Date', 'Deaths7']].groupby('Date').sum().plot(\n",
    "    title=\"Deaths\", figsize=(10,5),\n",
    "    legend=None, ylim=0\n",
    ")"
   ]
  },
  {
   "cell_type": "code",
   "execution_count": null,
   "metadata": {},
   "outputs": [],
   "source": [
    "foozle = infected_states.reset_index()[['Date', 'NewInf', 'Deaths7']].groupby('Date').sum()\n",
    "foozle.columns = ['Infections', 'Deaths']\n",
    "ax = foozle.plot(\n",
    "    title=\"Daily Infections vs. Deaths, 19 median days to death, IFR improving 1.1% - 0.4%\",\n",
    "    secondary_y='Deaths', figsize=(10,5), ylim=0)\n",
    "#ax2 = ax.twinx()"
   ]
  },
  {
   "cell_type": "code",
   "execution_count": null,
   "metadata": {},
   "outputs": [],
   "source": [
    "foo = infected_states.reset_index().set_index(['Date', 'ST']).sort_index()\n",
    "foo = foo[['Pop', 'Confirms7', 'Deaths7', 'NewInf', 'AIPer1000', 'AUPer1000', 'PctFound']]\n"
   ]
  },
  {
   "cell_type": "code",
   "execution_count": null,
   "metadata": {},
   "outputs": [],
   "source": [
    "faz = foo.loc['2020-08-08', :].sort_values('AUPer1000', ascending=False).copy()\n",
    "faz = faz.reset_index()[['ST', 'Pop', 'Confirms7', 'Deaths7', 'AUPer1000', 'PctFound']]\n",
    "faz.columns = ['ST', 'Pop', 'Cases', 'Deaths', 'ActUnk1000', 'PctFound']\n",
    "faz = faz.set_index('ST')\n",
    "faz.head(15)"
   ]
  },
  {
   "cell_type": "code",
   "execution_count": null,
   "metadata": {},
   "outputs": [],
   "source": [
    "faz.tail(10)"
   ]
  },
  {
   "cell_type": "code",
   "execution_count": null,
   "metadata": {},
   "outputs": [],
   "source": [
    "faz[faz.PctFound <= 0.3].sort_values('PctFound')"
   ]
  },
  {
   "cell_type": "code",
   "execution_count": null,
   "metadata": {},
   "outputs": [],
   "source": []
  },
  {
   "cell_type": "code",
   "execution_count": null,
   "metadata": {},
   "outputs": [],
   "source": [
    "fam = foo.reset_index()\n",
    "fam = fam[fam.ST == 'NJ']\n",
    "fam.set_index('Date').tail(20)"
   ]
  },
  {
   "cell_type": "code",
   "execution_count": null,
   "metadata": {},
   "outputs": [],
   "source": []
  },
  {
   "cell_type": "code",
   "execution_count": null,
   "metadata": {},
   "outputs": [],
   "source": [
    "testing = ct_stats[['ST', 'Date', 'Pos', 'Neg']].copy()\n",
    "testing['Total'] = testing.Pos + testing.Neg\n",
    "testing['Daily'], testing['Smoothed'] = calc_mid_weekly_average(testing.Total)\n",
    "testing.tail()"
   ]
  },
  {
   "cell_type": "code",
   "execution_count": null,
   "metadata": {},
   "outputs": [],
   "source": []
  },
  {
   "cell_type": "code",
   "execution_count": null,
   "metadata": {},
   "outputs": [],
   "source": [
    "SCENARIOS = (('1.0% - 0.6%', 20, 0.01, 0.006), )"
   ]
  },
  {
   "cell_type": "code",
   "execution_count": null,
   "metadata": {},
   "outputs": [],
   "source": [
    "raise ValueError()"
   ]
  },
  {
   "cell_type": "markdown",
   "metadata": {
    "slideshow": {
     "slide_type": "slide"
    }
   },
   "source": [
    "## Now for the charts..."
   ]
  },
  {
   "cell_type": "code",
   "execution_count": null,
   "metadata": {},
   "outputs": [],
   "source": [
    "SCENARIOS = (('20', 20, 0.01, 0.01), ('18', 18, 0.01, 0.01), ('16', 16, 0.01, 0.01), )\n",
    "\n",
    "df = get_infections_df(SCENARIOS)\n",
    "foo = df.plot(title=\"New Infections Estimates, varying average days to death, IFR = 1.0%\", figsize=(10,5))"
   ]
  },
  {
   "cell_type": "code",
   "execution_count": null,
   "metadata": {},
   "outputs": [],
   "source": [
    "SCENARIOS = (('1.3%', 18, 0.013, 0.013), ('1.0%', 18, 0.01, 0.01), ('0.7%', 18, 0.007, 0.007), )\n",
    "\n",
    "df = get_infections_df(SCENARIOS)\n",
    "foo = df.plot(title=\"New Infections Estimates, varying IFR, days to death = 18\", figsize=(10,5))"
   ]
  },
  {
   "cell_type": "code",
   "execution_count": null,
   "metadata": {},
   "outputs": [],
   "source": [
    "SCENARIOS = (('1.2% - 0.8%', 18, 0.012, 0.008), ('1.0% - 0.7%', 18, 0.01, 0.007), ('0.9% - 0.6%', 18, 0.009, 0.006), )\n",
    "\n",
    "df = get_infections_df(SCENARIOS)\n",
    "foo = df.plot(title=\"Infection Estimations, improving IFR, days to death = 18\", figsize=(10,5))"
   ]
  },
  {
   "cell_type": "code",
   "execution_count": null,
   "metadata": {},
   "outputs": [],
   "source": [
    "SCENARIOS = (('1.0% - 0.6%', 20, 0.01, 0.006), )\n",
    "\n",
    "df = get_infections_df(SCENARIOS)\n",
    "foo = df.plot(title=\"Infection Estimations, my hunch, 20 median days to death\", figsize=(10,5))"
   ]
  },
  {
   "cell_type": "code",
   "execution_count": null,
   "metadata": {},
   "outputs": [],
   "source": [
    "df.sum()"
   ]
  },
  {
   "cell_type": "code",
   "execution_count": null,
   "metadata": {},
   "outputs": [],
   "source": [
    "df.tail()"
   ]
  },
  {
   "cell_type": "code",
   "execution_count": null,
   "metadata": {},
   "outputs": [],
   "source": [
    "SCENARIOS = (('1.2% - 0.5%', 21, 0.012, 0.005), )\n",
    "\n",
    "df = get_infections_df(SCENARIOS)\n",
    "foo = df.plot(title=\"Worst case? 21 days to death, improving IFR\", figsize=(10,5))"
   ]
  },
  {
   "cell_type": "code",
   "execution_count": null,
   "metadata": {},
   "outputs": [],
   "source": [
    "numpy.linspace(1, 2, 3)"
   ]
  },
  {
   "cell_type": "code",
   "execution_count": null,
   "metadata": {},
   "outputs": [],
   "source": [
    "tests = ct_stats[['ST', 'Date', 'Pos', 'Neg']].copy()\n",
    "tests['Tests'] = tests.Pos + tests.Neg\n",
    "tests['Daily'] = tests.Tests - tests.shift().Tests\n",
    "tests = tests[['ST', 'Date', 'Daily']]\n",
    "last_5 = tests[tests.Date >= '2020-07-30'].groupby('ST').sum()\n",
    "prior_5 = tests[(tests.Date > '2020-07-24') & (tests.Date < '2020-07-30')].groupby('ST').sum()\n",
    "diffs = ((prior_5 - last_5) / 5)\n",
    "diffs.sort_values('Daily', ascending=False)"
   ]
  },
  {
   "cell_type": "code",
   "execution_count": null,
   "metadata": {},
   "outputs": [],
   "source": []
  },
  {
   "cell_type": "code",
   "execution_count": null,
   "metadata": {},
   "outputs": [],
   "source": [
    "last_5 = ct_stats[ct_stats.Date >= '2020-07-30']\n",
    "last_5.tail(10)"
   ]
  },
  {
   "cell_type": "code",
   "execution_count": null,
   "metadata": {},
   "outputs": [],
   "source": [
    "infected_states.reset_index()[['Date', 'Deaths7']].groupby('Date').sum().tail(30)"
   ]
  },
  {
   "cell_type": "code",
   "execution_count": null,
   "metadata": {},
   "outputs": [],
   "source": [
    "infected_states.tail()"
   ]
  },
  {
   "cell_type": "code",
   "execution_count": null,
   "metadata": {},
   "outputs": [],
   "source": [
    "# ['AL', 'AZ', 'FL', 'GA', 'LA', 'MS', 'NV', 'SC', 'TX']\n",
    "infected_states.loc['AL', :].NewInf.plot()\n",
    "infected_states.loc['TX', :].NewInf.plot()"
   ]
  },
  {
   "cell_type": "code",
   "execution_count": null,
   "metadata": {
    "scrolled": false
   },
   "outputs": [],
   "source": [
    "states = ['AL', 'AZ', 'FL', 'GA', 'LA', 'MS', 'NV', 'SC', 'TX']\n",
    "states = list(infected_states.index.get_level_values(0).unique())\n",
    "fig, axes = plt.subplots(len(states), figsize=(10, 4*len(states)))\n",
    "for i, state in enumerate(states):\n",
    "    try:\n",
    "        infected_states.loc[state, :].AIPer1000.plot(ax=axes[i], title=state)\n",
    "    except:\n",
    "        pass\n"
   ]
  },
  {
   "cell_type": "code",
   "execution_count": null,
   "metadata": {},
   "outputs": [],
   "source": [
    "infected_states.index.get_level_values(0).unique()"
   ]
  },
  {
   "cell_type": "code",
   "execution_count": null,
   "metadata": {},
   "outputs": [],
   "source": [
    "s = pandas.Series([10, 15, 25, 26, 39, 46, 57, 61, 87, 100])\n",
    "d, m7 = calc_mid_weekly_average(s)\n",
    "d, m7"
   ]
  },
  {
   "cell_type": "code",
   "execution_count": null,
   "metadata": {},
   "outputs": [],
   "source": [
    "d.sum(), m7.sum()"
   ]
  },
  {
   "cell_type": "code",
   "execution_count": null,
   "metadata": {},
   "outputs": [],
   "source": []
  }
 ],
 "metadata": {
  "kernelspec": {
   "display_name": "Python 3",
   "language": "python",
   "name": "python3"
  },
  "language_info": {
   "codemirror_mode": {
    "name": "ipython",
    "version": 3
   },
   "file_extension": ".py",
   "mimetype": "text/x-python",
   "name": "python",
   "nbconvert_exporter": "python",
   "pygments_lexer": "ipython3",
   "version": "3.6.8"
  }
 },
 "nbformat": 4,
 "nbformat_minor": 2
}
