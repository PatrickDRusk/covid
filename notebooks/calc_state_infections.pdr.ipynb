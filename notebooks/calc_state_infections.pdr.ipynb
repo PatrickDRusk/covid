{
 "cells": [
  {
   "cell_type": "markdown",
   "metadata": {},
   "source": [
    "# Calculating state-by-state implied infection numbers"
   ]
  },
  {
   "cell_type": "markdown",
   "metadata": {},
   "source": [
    "This notebook tries to compute what the full infection numbers in the past and present likely were/are.\n",
    "\n",
    "It does so in the past by blending variables for \"median days from infection to death\" and \"infection fatility rate\" (IFR) with smoothed death rates. In other words, days_to_death days before date D, there must have been roughly (deaths_on_date_D / IFR) infections to end up with a given number of deaths on date D.\n",
    "\n",
    "It does in the present to looking at what percentage of infections were confirmed on the last day calculated in the past, and applying that percentage to the new infections found since then. That doesn't quite take into account if there is a significant ramping of testing during that time, but it should be close enough.\n",
    "\n",
    "The principal source of death data is files from the NY Times, supplemented by a more accurate DateOfDeath.csv from Massachusetts. The source of testing data is The COVID Tracking Project, maintained by The Atlantic."
   ]
  },
  {
   "cell_type": "markdown",
   "metadata": {},
   "source": [
    "NOTE: Prior to running this notebook, you should retrieve the latest DateOfDeath.csv file by:\n",
    "\n",
    "1. going to https://www.mass.gov/info-details/covid-19-response-reporting,\n",
    "2. downloading the raw data zip from the line saying \"Raw data used to create the dashboard is available here:\"\n",
    "3. copying the DateofDeath.csv in that file to the same directory as the notebook\n",
    "\n",
    "Yeah, that could be automated. Just haven't done it yet..."
   ]
  },
  {
   "cell_type": "code",
   "execution_count": null,
   "metadata": {},
   "outputs": [],
   "source": [
    "%matplotlib inline\n",
    "import numpy\n",
    "import pandas\n",
    "import matplotlib\n",
    "import matplotlib.pyplot as plt\n",
    "\n",
    "from common import load_data, smooth_series, calc_mid_weekly_average\n",
    "from common import calc_state_stats, get_infections_df, find_smooth_dates"
   ]
  },
  {
   "cell_type": "code",
   "execution_count": null,
   "metadata": {},
   "outputs": [],
   "source": [
    "# Earliest date that there is sufficient data for all states, including MA\n",
    "EARLIEST_DATE = pandas.Period('2020-03-10', freq='D')\n",
    "LATEST_DATE = pandas.Period('2020-12-05', freq='D')\n",
    "LATEST_DATE = None"
   ]
  },
  {
   "cell_type": "code",
   "execution_count": null,
   "metadata": {
    "scrolled": true
   },
   "outputs": [],
   "source": [
    "latest_date, meta, nyt_stats, ct_stats = load_data(EARLIEST_DATE, LATEST_DATE)\n",
    "print(f\"Latest date = {str(latest_date)}\")"
   ]
  },
  {
   "cell_type": "code",
   "execution_count": null,
   "metadata": {},
   "outputs": [],
   "source": [
    "nyt_stats.tail(2)"
   ]
  },
  {
   "cell_type": "code",
   "execution_count": null,
   "metadata": {},
   "outputs": [],
   "source": [
    "ct_stats.tail()"
   ]
  },
  {
   "cell_type": "code",
   "execution_count": null,
   "metadata": {},
   "outputs": [],
   "source": [
    "# raise ValueError()"
   ]
  },
  {
   "cell_type": "markdown",
   "metadata": {},
   "source": [
    "### Put the two datasets together"
   ]
  },
  {
   "cell_type": "code",
   "execution_count": null,
   "metadata": {},
   "outputs": [],
   "source": [
    "ct1 = ct_stats.set_index(['ST', 'Date']).sort_index()[['Pos', 'Neg']]\n",
    "nyt1 = nyt_stats.set_index(['ST', 'Date']).sort_index()[['Deaths']]\n",
    "both = ct1.join(nyt1)\n",
    "meta_tmp = meta.set_index('ST')"
   ]
  },
  {
   "cell_type": "code",
   "execution_count": null,
   "metadata": {},
   "outputs": [],
   "source": [
    "states = [calc_state_stats(state, df, meta_tmp, latest_date)\n",
    "          for state, df in both.reset_index().groupby('ST')]\n",
    "states[-17].tail(2)"
   ]
  },
  {
   "cell_type": "code",
   "execution_count": null,
   "metadata": {},
   "outputs": [],
   "source": []
  },
  {
   "cell_type": "code",
   "execution_count": null,
   "metadata": {},
   "outputs": [],
   "source": [
    "stats = pandas.concat(states).reset_index()\n",
    "stats[stats.ST == 'WV'].tail(5)[['Date', 'RawDeaths', 'Deaths', 'Deaths7']]"
   ]
  },
  {
   "cell_type": "markdown",
   "metadata": {},
   "source": [
    "### Calculate new stats, state by state"
   ]
  },
  {
   "cell_type": "code",
   "execution_count": null,
   "metadata": {
    "scrolled": false
   },
   "outputs": [],
   "source": [
    "INCUBATION, INFECTIOUS, DEATH_LAG = 4, 10, 19\n",
    "IFR_S, IFR_E = 0.011, 0.003\n",
    "IFR_BREAKS = [['2020-04-30', 0.008], ['2020-07-31', 0.004], ['2020-09-15', 0.003]]\n",
    "IFR_S, IFR_E = 0.012, 0.004\n",
    "IFR_BREAKS = [['2020-04-30', 0.0085], ['2020-07-31', 0.005], ['2020-09-15', 0.004]]\n",
    "IFR_S_S, IFR_E_S = f'{100*IFR_S:.1f}%', f'{100*IFR_E:.2f}%'\n",
    "infected_states = get_infections_df(states, meta, DEATH_LAG, IFR_S, IFR_E, IFR_BREAKS, INCUBATION, INFECTIOUS)\n",
    "EST_LINE = str(latest_date - (DEATH_LAG - 1))\n",
    "print(infected_states.NewInf.sum())\n",
    "print(EST_LINE)\n",
    "infected_states.tail(3)"
   ]
  },
  {
   "cell_type": "code",
   "execution_count": null,
   "metadata": {},
   "outputs": [],
   "source": [
    "# state = states[34]\n",
    "# st, start = state.index[0]\n",
    "# spans = []\n",
    "# start_amt = IFR_S\n",
    "# for end, end_amt in IFR_BREAKS:\n",
    "#     end = pandas.Period(end, 'D')\n",
    "#     idx = pandas.period_range(start=start, end=end, freq='D')\n",
    "#     spans.append(pandas.Series(numpy.linspace(start_amt, end_amt, len(idx)), index=idx).iloc[0:-1])\n",
    "#     start, start_amt = end, end_amt\n",
    "\n",
    "# st, end = state.index[-1]\n",
    "# idx = pandas.period_range(start=start, end=end, freq='D')\n",
    "# spans.append(pandas.Series(numpy.linspace(start_amt, IFR_E, len(idx)), index=idx))\n",
    "# span = pandas.concat(spans)\n",
    "# span = pandas.Series(span.values, index=state.index)\n",
    "# span\n",
    "# # ifr = pandas.Series(numpy.linspace(IFR_S, IFR_E, len(state)), index=state.index)\n",
    "# # ifr[0], ifr[-1]"
   ]
  },
  {
   "cell_type": "code",
   "execution_count": null,
   "metadata": {},
   "outputs": [],
   "source": [
    "fam = infected_states.reset_index()[['Date', 'NewInf']].groupby('Date').sum().plot(\n",
    "    title=f\"Infection Estimations, 19 median days to death, \"\n",
    "          f\"IFR improving {IFR_S_S} - {IFR_E_S}\",\n",
    "    figsize=(13,5), legend=None, ylim=0\n",
    ")\n",
    "__ = fam.axvline(EST_LINE, color=\"red\", linestyle=\"--\")"
   ]
  },
  {
   "cell_type": "code",
   "execution_count": null,
   "metadata": {},
   "outputs": [],
   "source": [
    "infected_states.reset_index()[['Date', 'NewInf']].groupby('Date').sum().tail(2)"
   ]
  },
  {
   "cell_type": "code",
   "execution_count": null,
   "metadata": {},
   "outputs": [],
   "source": [
    "fam = infected_states.reset_index()[['Date', 'Deaths7']].groupby('Date').sum().plot(\n",
    "    title=\"Deaths\", figsize=(13,5),\n",
    "    legend=None, ylim=0, secondary_y='Deaths7'\n",
    ")"
   ]
  },
  {
   "cell_type": "code",
   "execution_count": null,
   "metadata": {},
   "outputs": [],
   "source": [
    "foozle = infected_states.reset_index()[['Date', 'NewInf', 'Deaths7']].groupby('Date').sum()\n",
    "foozle.columns = ['Infections', 'Deaths']\n",
    "fam = foozle.plot(\n",
    "    title=f\"Daily Infections vs. Deaths, 19 median days to death, \"\n",
    "          f\"IFR improving {IFR_S_S} - {IFR_E_S}\",\n",
    "    secondary_y='Deaths', figsize=(13,5), ylim=0)\n",
    "__ = fam.axvline(EST_LINE, color=\"red\", linestyle=\"--\")\n",
    "__ = fam.get_figure().get_axes()[1].set_ylim(0)"
   ]
  },
  {
   "cell_type": "code",
   "execution_count": null,
   "metadata": {},
   "outputs": [],
   "source": [
    "foo = infected_states.reset_index()[['Date', 'Region', 'NewInf', 'Deaths7', 'Pop']]\n",
    "foo = foo.groupby(['Region', 'Date']).sum()\n",
    "foo['NIPerM'] = foo.NewInf / foo.Pop\n",
    "foo['DPerM'] = foo.Deaths7 / foo.Pop"
   ]
  },
  {
   "cell_type": "code",
   "execution_count": null,
   "metadata": {},
   "outputs": [],
   "source": [
    "fam = pandas.pivot_table(foo.reset_index(), values = 'NIPerM', index=['Date'],\n",
    "                         columns = 'Region').plot(title=\"New Daily Infections per Million\", figsize=(15,5))\n",
    "__ = fam.axvline(EST_LINE, color=\"red\", linestyle=\"--\")"
   ]
  },
  {
   "cell_type": "code",
   "execution_count": null,
   "metadata": {
    "scrolled": false
   },
   "outputs": [],
   "source": [
    "fam = pandas.pivot_table(foo.reset_index(), values = 'DPerM', index=['Date'],\n",
    "                         columns = 'Region').plot(title=\"Daily Deaths per Million\", figsize=(15,5))"
   ]
  },
  {
   "cell_type": "code",
   "execution_count": null,
   "metadata": {
    "scrolled": false
   },
   "outputs": [],
   "source": [
    "foo = infected_states.reset_index().set_index(['Date', 'ST']).sort_index()\n",
    "foo = foo[['Pop', 'Confirms7', 'Deaths7', 'NewInf', 'AIPer1000', 'AUPer1000', 'PctFound']]\n",
    "faz = foo.loc[latest_date, :].sort_values('AUPer1000', ascending=False).copy()\n",
    "faz = faz.reset_index()[['ST', 'Pop', 'Confirms7', 'Deaths7', 'AIPer1000', 'AUPer1000', 'PctFound']]\n",
    "faz.columns = ['ST', 'Pop', 'Cases', 'Deaths', 'AIPer1000', 'ActUnk1000', 'PctFound']\n",
    "faz.head(10)"
   ]
  },
  {
   "cell_type": "code",
   "execution_count": null,
   "metadata": {},
   "outputs": [],
   "source": [
    "foo[foo.AUPer1000 > 36.6].loc[:'2020-11-18', :]"
   ]
  },
  {
   "cell_type": "code",
   "execution_count": null,
   "metadata": {},
   "outputs": [],
   "source": [
    "faz.sort_values('PctFound').head()  # [faz.PctFound <= 0.15]"
   ]
  },
  {
   "cell_type": "code",
   "execution_count": null,
   "metadata": {},
   "outputs": [],
   "source": [
    "fam = infected_states[['Pop', 'Confirms7', 'Deaths7', 'NewInf']].copy()\n",
    "fam['C7Per'] = fam.Confirms7 / fam.Pop\n",
    "fam['D7Per'] = fam.Deaths7 / fam.Pop\n",
    "fam['NIPer'] = fam.NewInf / fam.Pop\n",
    "fam = fam.reset_index()[['ST', 'NIPer', 'C7Per', 'D7Per']]\n",
    "fam.columns = ['ST', 'Infections', 'Confirms', 'Deaths']\n",
    "fam = fam.groupby('ST').max().copy()\n",
    "print(\"Maximum deaths/M/day states ever had\")\n",
    "fam.sort_values('Deaths', ascending=False)"
   ]
  },
  {
   "cell_type": "code",
   "execution_count": null,
   "metadata": {
    "scrolled": false
   },
   "outputs": [],
   "source": [
    "st_names = list(infected_states.index.get_level_values(0).unique())\n",
    "st_names = ['ND', 'SD', 'MS', 'ID', 'NM', 'WY']\n",
    "st_names = ['AR', 'CO', 'CT', 'DE', 'IA', 'ID', 'IL', 'IN', 'KY', 'MA',\n",
    "            'MI', 'MN', 'MO', 'MT', 'NC', 'ND', 'NE', 'NM', 'OK', 'PA', 'RI',\n",
    "            'SD', 'TN', 'TX', 'UT', 'WI', 'WV', 'WY',]\n",
    "st_names = ['AK', 'WY', 'SD', 'NM', 'ND']\n",
    "st_names = ['AZ', 'SD', 'ND', 'NM', 'GA', 'MS', 'NV', 'NJ', 'WY', 'ID',\n",
    "            'SC', 'MA', 'DC', 'LA', 'FL', 'MT', 'IL', 'TX', 'NY']\n",
    "st_names = ['AK', 'ME', 'OR', 'UT', 'VT', 'WA', 'WY']\n",
    "st_names = ['AZ', 'NE', 'MT', 'NM', 'WY', 'ND', 'SD']\n",
    "st_names = ['MA', 'RI', 'CT', 'NY', 'NJ', 'DC']\n",
    "st_names = ['DC', 'MA']\n",
    "st_names = ['SD', 'ND', 'OR']\n",
    "st_names = list(infected_states.index.get_level_values(0).unique())\n",
    "st_names = ['IA', 'IL', 'MN', 'MT', 'ND', 'NM', 'SD']\n",
    "st_names = ['DC', 'MA', 'NM']\n",
    "num_plots = max(len(st_names), 2)\n",
    "fig, axes = plt.subplots(num_plots, figsize=(15, 5*num_plots))\n",
    "for i, st in enumerate(st_names):\n",
    "    data = infected_states.loc[st, :].reset_index()[['Date', 'NIPerM', 'DPerM']].copy()\n",
    "    # data = data[data.Date >= '2020-10-01']\n",
    "    data.columns = ['Date', 'Infections/M', 'Deaths/M']\n",
    "    fam = data.groupby('Date').sum().plot(\n",
    "        ax=axes[i], title=st, ylim=0, secondary_y='Deaths/M',\n",
    "    )\n",
    "    fam.axvline(EST_LINE, color=\"red\", linestyle=\"--\")"
   ]
  },
  {
   "cell_type": "code",
   "execution_count": null,
   "metadata": {},
   "outputs": [],
   "source": [
    "ni = infected_states.reset_index()[['ST', 'Date', 'NIPerM']].copy()\n",
    "# ni = ni[ni.Date < '2020-11-23'].copy()\n",
    "ni = (ni.groupby('ST').sum().NIPerM.sort_values(ascending=False) / 10000)\n",
    "ni.head(15)"
   ]
  },
  {
   "cell_type": "code",
   "execution_count": null,
   "metadata": {},
   "outputs": [],
   "source": [
    "raise ValueError()"
   ]
  },
  {
   "cell_type": "markdown",
   "metadata": {
    "slideshow": {
     "slide_type": "slide"
    }
   },
   "source": [
    "## Now for the charts..."
   ]
  },
  {
   "cell_type": "code",
   "execution_count": null,
   "metadata": {},
   "outputs": [],
   "source": [
    "infected_states.reset_index().columns"
   ]
  },
  {
   "cell_type": "code",
   "execution_count": null,
   "metadata": {},
   "outputs": [],
   "source": [
    "df = pandas.concat(states)[['DTests7']].reset_index()\n",
    "st_names = list(df.ST.unique())\n",
    "fig, axes = plt.subplots(len(st_names), figsize=(10, 4*len(st_names)))\n",
    "for i, state in enumerate(st_names):\n",
    "    try:\n",
    "        df[df.ST == state].set_index('Date').DTests7.plot(ax=axes[i], title=state)\n",
    "    except:\n",
    "        pass\n"
   ]
  },
  {
   "cell_type": "code",
   "execution_count": null,
   "metadata": {},
   "outputs": [],
   "source": [
    "foo = {}\n",
    "for st in ['FL', 'MA']:\n",
    "    data = infected_states.loc[st, :].loc['2020-07-01':, :]\n",
    "    data = infected_states.loc[st, :]\n",
    "    foo[st] = data.NIPerM  # data.DPerM\n",
    "foo = pandas.DataFrame(foo)\n",
    "fam = foo.plot(figsize=(15,5), legend=True, ylim=0)"
   ]
  },
  {
   "cell_type": "code",
   "execution_count": null,
   "metadata": {},
   "outputs": [],
   "source": [
    "spaz = nyt_stats[['ST', 'Nursing', 'Pop', 'Median']].drop_duplicates().copy()\n",
    "spaz['NPerM'] = spaz.Nursing / spaz.Pop\n",
    "spaz.sort_values('Median', ascending=False)"
   ]
  },
  {
   "cell_type": "code",
   "execution_count": null,
   "metadata": {},
   "outputs": [],
   "source": []
  }
 ],
 "metadata": {
  "kernelspec": {
   "display_name": "Python 3",
   "language": "python",
   "name": "python3"
  },
  "language_info": {
   "codemirror_mode": {
    "name": "ipython",
    "version": 3
   },
   "file_extension": ".py",
   "mimetype": "text/x-python",
   "name": "python",
   "nbconvert_exporter": "python",
   "pygments_lexer": "ipython3",
   "version": "3.8.2"
  }
 },
 "nbformat": 4,
 "nbformat_minor": 2
}
