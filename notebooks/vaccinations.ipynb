{
 "cells": [
  {
   "cell_type": "code",
   "execution_count": null,
   "metadata": {},
   "outputs": [],
   "source": [
    "%matplotlib inline\n",
    "import sys, os, requests\n",
    "import datetime\n",
    "import io\n",
    "import json\n",
    "import urllib\n",
    "import zipfile\n",
    "\n",
    "import pytz\n",
    "\n",
    "import numpy\n",
    "import pandas\n",
    "import requests\n",
    "\n",
    "from common import calc_mid_weekly_average, smooth_series"
   ]
  },
  {
   "cell_type": "code",
   "execution_count": null,
   "metadata": {},
   "outputs": [],
   "source": [
    "df = pandas.read_excel('owid-covid-data.xlsx', parse_dates=['date'])"
   ]
  },
  {
   "cell_type": "code",
   "execution_count": null,
   "metadata": {},
   "outputs": [],
   "source": [
    "df.columns"
   ]
  },
  {
   "cell_type": "code",
   "execution_count": null,
   "metadata": {},
   "outputs": [],
   "source": [
    "df.groupby('iso_code').mean()[['population']].sort_values('population', ascending=False)"
   ]
  },
  {
   "cell_type": "code",
   "execution_count": null,
   "metadata": {},
   "outputs": [],
   "source": [
    "world = df[df.iso_code == 'OWID_WRL'].set_index('date')[['total_vaccinations']].loc['2020-12-10':, :]\n",
    "world.columns = ['Total']\n",
    "world['Daily'], world['Daily7'] = calc_mid_weekly_average(world.Total)\n",
    "world"
   ]
  },
  {
   "cell_type": "code",
   "execution_count": null,
   "metadata": {},
   "outputs": [],
   "source": [
    "for v in world.Daily7.dropna().values:\n",
    "    print(int(v))"
   ]
  },
  {
   "cell_type": "code",
   "execution_count": null,
   "metadata": {},
   "outputs": [],
   "source": [
    "us = df[df.iso_code == 'USA'].set_index('date')[['total_vaccinations']].loc['2020-12-12':, :]\n",
    "us.columns = ['Total']\n",
    "us['Raw'] = us.Total\n",
    "us.Total = us.Total.fillna(method='ffill').fillna(0.0)\n",
    "us.Total = smooth_series(us.Total)\n",
    "us['Daily'], us['Daily7'] = calc_mid_weekly_average(us.Total)\n",
    "us.loc['2020-12-12':, :].head(20)"
   ]
  },
  {
   "cell_type": "code",
   "execution_count": null,
   "metadata": {},
   "outputs": [],
   "source": []
  },
  {
   "cell_type": "code",
   "execution_count": null,
   "metadata": {},
   "outputs": [],
   "source": [
    "for v in us.Daily7.dropna().values:\n",
    "    print(int(v))"
   ]
  },
  {
   "cell_type": "code",
   "execution_count": null,
   "metadata": {},
   "outputs": [],
   "source": [
    "uri = '~/Downloads/us-daily-covid-vaccine-doses-administered.csv'\n",
    "df2 = pandas.read_csv(uri, parse_dates=['Date'])\n",
    "df2"
   ]
  },
  {
   "cell_type": "code",
   "execution_count": null,
   "metadata": {},
   "outputs": [],
   "source": [
    "spaz = df2[df2.Entity != 'United States'].groupby('Date').sum().sort_index()\n",
    "spaz['smooth_vaccinations'] = [int(v) for v in spaz.daily_vaccinations.rolling(window=7, center=True, min_periods=1).mean()]\n",
    "spaz"
   ]
  },
  {
   "cell_type": "code",
   "execution_count": null,
   "metadata": {},
   "outputs": [],
   "source": [
    "uri = (\"https://raw.githubusercontent.com/owid/covid-19-data/master\"\n",
    "       \"/public/data/vaccinations/us_state_vaccinations.csv\")\n",
    "df2 = pandas.read_csv(uri, parse_dates=['date'])\n",
    "df2"
   ]
  },
  {
   "cell_type": "code",
   "execution_count": null,
   "metadata": {},
   "outputs": [],
   "source": [
    "df2.groupby('date').sum()[['total_vaccinations']]"
   ]
  },
  {
   "cell_type": "code",
   "execution_count": null,
   "metadata": {},
   "outputs": [],
   "source": []
  }
 ],
 "metadata": {
  "kernelspec": {
   "display_name": "Python 3",
   "language": "python",
   "name": "python3"
  },
  "language_info": {
   "codemirror_mode": {
    "name": "ipython",
    "version": 3
   },
   "file_extension": ".py",
   "mimetype": "text/x-python",
   "name": "python",
   "nbconvert_exporter": "python",
   "pygments_lexer": "ipython3",
   "version": "3.8.2"
  }
 },
 "nbformat": 4,
 "nbformat_minor": 4
}
