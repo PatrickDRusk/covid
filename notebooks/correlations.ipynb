{
 "cells": [
  {
   "cell_type": "code",
   "execution_count": null,
   "metadata": {},
   "outputs": [],
   "source": [
    "%matplotlib inline\n",
    "import datetime\n",
    "\n",
    "import numpy\n",
    "import pandas\n",
    "import matplotlib\n",
    "import matplotlib.pyplot as plt\n",
    "import scipy.stats\n",
    "\n",
    "import cdc_common\n",
    "from cdc_common import load_data"
   ]
  },
  {
   "cell_type": "code",
   "execution_count": null,
   "metadata": {},
   "outputs": [],
   "source": [
    "# Earliest date that there is sufficient data for all states, including MA\n",
    "EARLIEST_DATE = pandas.Period('2020-03-13', freq='D')\n",
    "\n",
    "# Set a latest date when the most recent days have garbage (like on or after holidays)\n",
    "LATEST_DATE = pandas.Period('2022-02-03', freq='D')\n",
    "LATEST_DATE = pandas.Period(datetime.date.today(), freq='D')\n",
    "\n",
    "MIN_STAT_DATE = '2021-02-01'\n",
    "STATS_LAG = 14\n",
    "RATIO_DAYS = 14\n",
    "MIN_SHIFT = 4\n",
    "MAX_SHIFT = 12"
   ]
  },
  {
   "cell_type": "code",
   "execution_count": null,
   "metadata": {},
   "outputs": [],
   "source": [
    "latest_date, meta, all_stats, cdc_stats, hosp_stats = load_data(EARLIEST_DATE, LATEST_DATE, skip_projection=True)"
   ]
  },
  {
   "cell_type": "code",
   "execution_count": null,
   "metadata": {},
   "outputs": [],
   "source": [
    "all_stats.tail()"
   ]
  },
  {
   "cell_type": "code",
   "execution_count": null,
   "metadata": {},
   "outputs": [],
   "source": [
    "STATES = all_stats.reset_index().ST.unique()\n",
    "STATES"
   ]
  },
  {
   "cell_type": "code",
   "execution_count": null,
   "metadata": {},
   "outputs": [],
   "source": [
    "cnt = 40"
   ]
  },
  {
   "cell_type": "code",
   "execution_count": null,
   "metadata": {
    "scrolled": false
   },
   "outputs": [],
   "source": [
    "cnt += 1\n",
    "idx = cnt // 2\n",
    "USE_BEST = False\n",
    "\n",
    "DOD_META = [\n",
    "    ('AK', 8, 35), ('AL', 12, 24), ('AR', 9, 28),  ('AZ', 6, 28),  ('CA', 12, 28),\n",
    "    ('CO', 10, 28), ('CT', 7, 24), ('DC', 9, 42),  ('DE', 11, 26), ('FL', 11, 28),\n",
    "    ('GA', 9, 30),  ('HI', 12, 21), ('IA', 12, 21), ('ID', 11, 28), ('IL', 9, 28),\n",
    "    ('IN', 10, 33), ('KS', 7, 21),  ('KY', 12, 28), ('LA', 11, 28), ('MA', 7, 18),\n",
    "    ('MD', 9, 28), ('ME', 6, 28), ('MI', 9, 28), ('MN', 9, 25), ('MO', 8, 28),\n",
    "    ('MS', 12, 21), ('MT', 7, 28),  ('NC', 10, 34), ('ND', 5, 21),  ('NE', 12, 28),\n",
    "    ('NH', 9, 24),  ('NJ', 11, 24), ('NM', 6, 31),  ('NV', 12, 26), ('NY', 10, 24),\n",
    "    ('OH', 9, 30), ('OK', 8, 30),  ('OR', 7, 35),  ('PA', 6, 28),  ('RI', 12, 28),  \n",
    "    ('SC', 9, 27),  ('SD', 9, 28), ('TN', 11, 21), ('TX', 11, 31), ('UT', 4, 32),\n",
    "    ('VA', 9, 28),  ('VT', 6, 28),  ('WA', 11, 31), ('WI', 6, 38), ('WV', 11, 28),\n",
    "    ('WY', 12, 28),\n",
    "]\n",
    "\n",
    "st, hosp_lag, max_lag = DOD_META[idx]  # MO 9, OH 15, VA 22\n",
    "min_date, max_date = pandas.Period(MIN_STAT_DATE, freq='D'), LATEST_DATE - max_lag\n",
    "stats_max_date = max_date - STATS_LAG\n",
    "print(idx, st, min_date, max_date, stats_max_date, max_lag)\n",
    "\n",
    "both = all_stats.loc[st, :].loc['2020-08-01':, :][['Daily', 'NewHosp']].copy()\n",
    "both.columns = ['Deaths', 'Hospital']\n",
    "fam = both.plot(title=f\"New Hospitalizations vs. Daily Deaths\", secondary_y='Deaths', figsize=(16,5), ylim=0)\n",
    "__ = fam.axvline(min_date, color=\"red\", linestyle=\"--\")\n",
    "__ = fam.axvline(stats_max_date, color=\"red\", linestyle=\"--\")\n",
    "__ = fam.axvline(max_date, color=\"green\", linestyle=\"--\")\n",
    "__ = fam.get_figure().get_axes()[1].set_ylim(0)\n",
    "\n",
    "best, best_sh, best_corr = None, 0.0, 0.0\n",
    "for shift in range(MIN_SHIFT-4, MAX_SHIFT+4):\n",
    "    h = both.Hospital.shift(shift).loc[min_date:stats_max_date]\n",
    "    d = both.Deaths.loc[min_date:stats_max_date]\n",
    "    corr = d.corr(h)\n",
    "    if corr > best_corr:\n",
    "        best_sh, best_corr = shift, corr\n",
    "        best = pandas.concat([d, h], axis=1)\n",
    "if best_sh < MIN_SHIFT:\n",
    "    best_sh = MIN_SHIFT\n",
    "if best_sh > MAX_SHIFT:\n",
    "    best_sh = MAX_SHIFT\n",
    "print(f\"Best shift is {best_sh}\")    \n",
    "\n",
    "if USE_BEST:\n",
    "    h = both.Hospital.shift(best_sh).loc[max_date-RATIO_DAYS:max_date].sum()\n",
    "else:\n",
    "    h = both.Hospital.shift(hosp_lag).loc[max_date-RATIO_DAYS:max_date].sum()\n",
    "d = both.Deaths.loc[max_date-RATIO_DAYS:max_date].sum()\n",
    "hd_ratio = h / d\n",
    "\n",
    "proj = both.copy()\n",
    "proj.Hospital = proj.Hospital.shift(hosp_lag)\n",
    "proj['Projected'] = proj.Deaths\n",
    "\n",
    "old_vals = proj.Projected.loc[max_date:]\n",
    "new_vals = proj.Hospital.loc[max_date:] / hd_ratio\n",
    "proj.Projected.loc[max_date:] = new_vals.combine(old_vals, max)\n",
    "print(f\"proj={proj.Projected.sum()}, deaths={proj.Deaths.sum()}\")\n",
    "\n",
    "fam = proj.plot(title=f\"Current Hospitalizations vs. Daily Deaths\", secondary_y='Hospital', figsize=(16,5), ylim=0)\n",
    "__ = fam.get_figure().get_axes()[1].set_ylim(0)\n",
    "__ = fam.axvline(min_date, color=\"red\", linestyle=\"--\")\n",
    "__ = fam.axvline(stats_max_date, color=\"red\", linestyle=\"--\")\n",
    "__ = fam.axvline(max_date, color=\"green\", linestyle=\"--\")"
   ]
  },
  {
   "cell_type": "code",
   "execution_count": null,
   "metadata": {},
   "outputs": [],
   "source": []
  },
  {
   "cell_type": "code",
   "execution_count": null,
   "metadata": {},
   "outputs": [],
   "source": [
    "both.loc['2021-01-02':'2021-01-10', :].Deaths.sum()"
   ]
  },
  {
   "cell_type": "code",
   "execution_count": null,
   "metadata": {},
   "outputs": [],
   "source": [
    "spaz = both.copy()\n",
    "spaz.loc['2021-01-02':'2021-01-10', 'Deaths'] += 17\n",
    "fam = spaz.plot(\n",
    "    title=f\"Current Hospitalizations vs. Daily Deaths\",\n",
    "    secondary_y='Hospital', figsize=(16,5), ylim=0)"
   ]
  },
  {
   "cell_type": "code",
   "execution_count": null,
   "metadata": {},
   "outputs": [],
   "source": [
    "both.Deaths.sum()"
   ]
  },
  {
   "cell_type": "code",
   "execution_count": null,
   "metadata": {},
   "outputs": [],
   "source": [
    "raise ValueError()"
   ]
  },
  {
   "cell_type": "code",
   "execution_count": null,
   "metadata": {},
   "outputs": [],
   "source": [
    "MAX_SHIFT = 7\n",
    "for st, orig_shift, min_date, max_lag in ST_STATS:\n",
    "    min_date, max_date = pandas.Period(min_date, freq='D'), LATEST_DATE - max_lag\n",
    "    stats_max_date = max_date - STATS_LAG\n",
    "    both = STATES[st]\n",
    "\n",
    "    best, best_sh, best_corr = None, 0.0, 0.0\n",
    "    for shift in range(-MAX_SHIFT, MAX_SHIFT+1):\n",
    "        h = both.Hospital.shift(shift).loc[min_date:stats_max_date]\n",
    "        d = both.Deaths.loc[min_date:stats_max_date]\n",
    "        corr = d.corr(h)\n",
    "        # print(shift, corr)\n",
    "        if corr > best_corr:\n",
    "            best_sh, best_corr = shift, corr\n",
    "            best = pandas.concat([d, h], axis=1)\n",
    "    print(f\"{st}: {best_sh}, {best_corr}\")\n",
    "#     if best_sh < MIN_SHIFT:\n",
    "#         best_sh = MIN_SHIFT\n",
    "#         print(f\"Pinning shift to {MIN_SHIFT}\")\n",
    "#     if best_sh > MAX_SHIFT:\n",
    "#         best_sh = MAX_SHIFT\n",
    "#         print(f\"Pinning shift to {MAX_SHIFT}\")"
   ]
  },
  {
   "cell_type": "code",
   "execution_count": null,
   "metadata": {},
   "outputs": [],
   "source": []
  },
  {
   "cell_type": "code",
   "execution_count": null,
   "metadata": {},
   "outputs": [],
   "source": []
  },
  {
   "cell_type": "code",
   "execution_count": null,
   "metadata": {},
   "outputs": [],
   "source": []
  }
 ],
 "metadata": {
  "kernelspec": {
   "display_name": "Python 3",
   "language": "python",
   "name": "python3"
  },
  "language_info": {
   "codemirror_mode": {
    "name": "ipython",
    "version": 3
   },
   "file_extension": ".py",
   "mimetype": "text/x-python",
   "name": "python",
   "nbconvert_exporter": "python",
   "pygments_lexer": "ipython3",
   "version": "3.9.4"
  }
 },
 "nbformat": 4,
 "nbformat_minor": 2
}
