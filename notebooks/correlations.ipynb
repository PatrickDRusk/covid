{
 "cells": [
  {
   "cell_type": "code",
   "execution_count": null,
   "metadata": {},
   "outputs": [],
   "source": [
    "%matplotlib inline\n",
    "import datetime\n",
    "\n",
    "import numpy\n",
    "import pandas\n",
    "import matplotlib\n",
    "import matplotlib.pyplot as plt\n",
    "import scipy.stats\n",
    "\n",
    "import common2\n",
    "from common2 import load_data"
   ]
  },
  {
   "cell_type": "code",
   "execution_count": null,
   "metadata": {},
   "outputs": [],
   "source": [
    "# Earliest date that there is sufficient data for all states, including MA\n",
    "EARLIEST_DATE = pandas.Period('2020-03-13', freq='D')\n",
    "\n",
    "# Set a latest date when the most recent days have garbage (like on or after holidays)\n",
    "LATEST_DATE = pandas.Period(datetime.date.today(), freq='D')\n",
    "LATEST_DATE = pandas.Period('2021-05-22', freq='D')\n",
    "\n",
    "STATS_LAG = 14\n",
    "RATIO_DAYS = 14\n",
    "MIN_SHIFT = 4\n",
    "MAX_SHIFT = 12"
   ]
  },
  {
   "cell_type": "code",
   "execution_count": null,
   "metadata": {},
   "outputs": [],
   "source": [
    "latest_date, meta, all_stats, cdc_stats, hosp_stats = load_data(EARLIEST_DATE, LATEST_DATE)"
   ]
  },
  {
   "cell_type": "code",
   "execution_count": null,
   "metadata": {},
   "outputs": [],
   "source": [
    "all_stats.tail()"
   ]
  },
  {
   "cell_type": "code",
   "execution_count": null,
   "metadata": {},
   "outputs": [],
   "source": [
    "STATES = all_stats.reset_index().ST.unique()\n",
    "STATES"
   ]
  },
  {
   "cell_type": "code",
   "execution_count": null,
   "metadata": {},
   "outputs": [],
   "source": [
    "# DOD_STATES"
   ]
  },
  {
   "cell_type": "code",
   "execution_count": null,
   "metadata": {},
   "outputs": [],
   "source": [
    "EXCLUDED = ['AK', 'HI', 'VT', ]\n",
    "\n",
    "DOD_META = [\n",
    "    ('AL', 7, 28, True),   ('AR', 5, 42, False),  ('AZ', 6, 28, True),   ('CA', 4, 28, False),\n",
    "    ('CO', 10, 28, False), ('CT', 5, 20, True),   ('DC', 7, 28, False),  ('DE', 4, 28, True),\n",
    "    ('FL', 7, 24, True),   ('GA', 8, 30, True),   ('IA', 8, 30, True),   ('ID', 4, 28, False),\n",
    "    ('IL', 11, 28, False), ('IN', 5, 30, True),   ('KS', 5, 35, True),   ('KY', 8, 28, False),\n",
    "    ('LA', 8, 28, False),  ('MA', 11, 7, True),   ('MD', 10, 32, False), ('ME', 4, 28, False),\n",
    "    ('MI', 10, 21, True),  ('MN', 11, 28, False), ('MO', 5, 35, True),   ('MS', 8, 25, True),\n",
    "    ('MT', 10, 28, False), ('NC', 6, 28, True),   ('ND', 6, 25, True),   ('NE', 7, 28, False),\n",
    "    ('NH', 10, 35, False), ('NJ', 10, 28, True),  ('NM', 5, 28, False),  ('NV', 10, 24, True),\n",
    "    ('NY', 7, 28, False),  ('OH', 9, 21, True),   ('OK', 4, 35, False),  ('OR', 5, 35, False),\n",
    "    ('PA', 8, 30, True),   ('RI', 0, 20, True),   ('SC', 9, 35, True),   ('SD', 12, 38, True),\n",
    "    ('TN', 9, 25, True),   ('TX', 4, 28, True),   ('UT', 2, 32, False),  ('VA', 5, 28, True),\n",
    "    ('WA', 4, 28, False),  ('WI', 4, 28, False),  ('WV', 4, 28, False),  ('WY', 12, 28, False),\n",
    "]\n",
    "\n",
    "idx = 24\n",
    "\n",
    "st, hosp_lag, max_lag, __ = DOD_META[idx]  # MO 9, OH 15, VA 22\n",
    "min_date = '2020-08-01'\n",
    "# idx = (idx + 1) % len(DOD_META)\n",
    "min_date, max_date = pandas.Period(min_date, freq='D'), LATEST_DATE - max_lag\n",
    "stats_max_date = max_date - STATS_LAG\n",
    "print(idx, st, min_date, max_date, stats_max_date, max_lag)"
   ]
  },
  {
   "cell_type": "code",
   "execution_count": null,
   "metadata": {},
   "outputs": [],
   "source": [
    "both = all_stats.loc[st, :].loc['2020-08-01':, :][['Daily', 'NewHosp']].copy()\n",
    "both.tail(60)"
   ]
  },
  {
   "cell_type": "code",
   "execution_count": null,
   "metadata": {},
   "outputs": [],
   "source": [
    "both = all_stats.loc[st, :].loc['2020-08-01':, :][['Daily', 'NewHosp']].copy()\n",
    "both.columns = ['Deaths', 'Hospital']\n",
    "fam = both.plot(\n",
    "    title=f\"New Hospitalizations vs. Daily Deaths\",\n",
    "    secondary_y='Deaths', figsize=(16,5), ylim=0)\n",
    "__ = fam.axvline(min_date, color=\"red\", linestyle=\"--\")\n",
    "__ = fam.axvline(stats_max_date, color=\"red\", linestyle=\"--\")\n",
    "__ = fam.axvline(max_date, color=\"green\", linestyle=\"--\")\n",
    "__ = fam.get_figure().get_axes()[1].set_ylim(0)\n",
    "\n",
    "best, best_sh, best_corr = None, 0.0, 0.0\n",
    "for shift in range(MIN_SHIFT-4, MAX_SHIFT+4):\n",
    "    h = both.Hospital.shift(shift).loc[min_date:stats_max_date]\n",
    "    d = both.Deaths.loc[min_date:stats_max_date]\n",
    "    corr = d.corr(h)\n",
    "    print(shift, corr)\n",
    "    if corr > best_corr:\n",
    "        best_sh, best_corr = shift, corr\n",
    "        best = pandas.concat([d, h], axis=1)\n",
    "print(\"Best:\", best_sh, best_corr)\n",
    "if best_sh < MIN_SHIFT:\n",
    "    best_sh = MIN_SHIFT\n",
    "    print(f\"Pinning shift to {MIN_SHIFT}\")\n",
    "if best_sh > MAX_SHIFT:\n",
    "    best_sh = MAX_SHIFT\n",
    "    print(f\"Pinning shift to {MAX_SHIFT}\")\n",
    "\n",
    "# fam = best.plot(\n",
    "#     title=f\"Current Hospitalizations vs. Daily Deaths\",\n",
    "#     secondary_y='Deaths', figsize=(16,5), ylim=0)\n",
    "# __ = fam.get_figure().get_axes()[1].set_ylim(0)\n",
    "\n",
    "# h = both.Hospital.shift(best_sh).loc[max_date-RATIO_DAYS:max_date].sum()\n",
    "h = both.Hospital.shift(hosp_lag).loc[max_date-RATIO_DAYS:max_date].sum()\n",
    "d = both.Deaths.loc[max_date-RATIO_DAYS:max_date].sum()\n",
    "hd_ratio = h / d\n",
    "\n",
    "proj = both.copy()\n",
    "proj.Hospital = proj.Hospital.shift(hosp_lag)\n",
    "proj['Projected'] = proj.Deaths\n",
    "\n",
    "old_vals = proj.Projected.loc[max_date:]\n",
    "new_vals = proj.Hospital.loc[max_date:] / hd_ratio\n",
    "proj.Projected.loc[max_date:] = new_vals.combine(old_vals, max)\n",
    "\n",
    "print(f\"proj={proj.Projected.sum()}, deaths={proj.Deaths.sum()}\")\n",
    "\n",
    "fam = proj.plot(\n",
    "    title=f\"Current Hospitalizations vs. Daily Deaths\",\n",
    "    secondary_y='Hospital', figsize=(16,5), ylim=0)\n",
    "__ = fam.get_figure().get_axes()[1].set_ylim(0)"
   ]
  },
  {
   "cell_type": "code",
   "execution_count": null,
   "metadata": {},
   "outputs": [],
   "source": []
  },
  {
   "cell_type": "code",
   "execution_count": null,
   "metadata": {},
   "outputs": [],
   "source": [
    "both.loc['2021-01-02':'2021-01-10', :].Deaths.sum()"
   ]
  },
  {
   "cell_type": "code",
   "execution_count": null,
   "metadata": {},
   "outputs": [],
   "source": [
    "spaz = both.copy()\n",
    "spaz.loc['2021-01-02':'2021-01-10', 'Deaths'] += 17\n",
    "fam = spaz.plot(\n",
    "    title=f\"Current Hospitalizations vs. Daily Deaths\",\n",
    "    secondary_y='Hospital', figsize=(16,5), ylim=0)"
   ]
  },
  {
   "cell_type": "code",
   "execution_count": null,
   "metadata": {},
   "outputs": [],
   "source": [
    "both.Deaths.sum()"
   ]
  },
  {
   "cell_type": "code",
   "execution_count": null,
   "metadata": {},
   "outputs": [],
   "source": [
    "raise ValueError()"
   ]
  },
  {
   "cell_type": "code",
   "execution_count": null,
   "metadata": {},
   "outputs": [],
   "source": [
    "MAX_SHIFT = 7\n",
    "for st, orig_shift, min_date, max_lag in ST_STATS:\n",
    "    min_date, max_date = pandas.Period(min_date, freq='D'), LATEST_DATE - max_lag\n",
    "    stats_max_date = max_date - STATS_LAG\n",
    "    both = STATES[st]\n",
    "\n",
    "    best, best_sh, best_corr = None, 0.0, 0.0\n",
    "    for shift in range(-MAX_SHIFT, MAX_SHIFT+1):\n",
    "        h = both.Hospital.shift(shift).loc[min_date:stats_max_date]\n",
    "        d = both.Deaths.loc[min_date:stats_max_date]\n",
    "        corr = d.corr(h)\n",
    "        # print(shift, corr)\n",
    "        if corr > best_corr:\n",
    "            best_sh, best_corr = shift, corr\n",
    "            best = pandas.concat([d, h], axis=1)\n",
    "    print(f\"{st}: {best_sh}, {best_corr}\")\n",
    "#     if best_sh < MIN_SHIFT:\n",
    "#         best_sh = MIN_SHIFT\n",
    "#         print(f\"Pinning shift to {MIN_SHIFT}\")\n",
    "#     if best_sh > MAX_SHIFT:\n",
    "#         best_sh = MAX_SHIFT\n",
    "#         print(f\"Pinning shift to {MAX_SHIFT}\")"
   ]
  },
  {
   "cell_type": "code",
   "execution_count": null,
   "metadata": {},
   "outputs": [],
   "source": []
  },
  {
   "cell_type": "code",
   "execution_count": null,
   "metadata": {},
   "outputs": [],
   "source": []
  },
  {
   "cell_type": "code",
   "execution_count": null,
   "metadata": {},
   "outputs": [],
   "source": []
  }
 ],
 "metadata": {
  "kernelspec": {
   "display_name": "Python 3",
   "language": "python",
   "name": "python3"
  },
  "language_info": {
   "codemirror_mode": {
    "name": "ipython",
    "version": 3
   },
   "file_extension": ".py",
   "mimetype": "text/x-python",
   "name": "python",
   "nbconvert_exporter": "python",
   "pygments_lexer": "ipython3",
   "version": "3.9.4"
  }
 },
 "nbformat": 4,
 "nbformat_minor": 2
}
