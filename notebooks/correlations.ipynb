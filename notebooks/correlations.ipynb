{
 "cells": [
  {
   "cell_type": "code",
   "execution_count": null,
   "metadata": {},
   "outputs": [],
   "source": [
    "%matplotlib inline\n",
    "import datetime\n",
    "\n",
    "import numpy\n",
    "import pandas\n",
    "import matplotlib\n",
    "import matplotlib.pyplot as plt\n",
    "import scipy.stats\n",
    "\n",
    "import common\n",
    "from common import load_ctp_stats, ST_STATS"
   ]
  },
  {
   "cell_type": "code",
   "execution_count": null,
   "metadata": {},
   "outputs": [],
   "source": [
    "# Earliest date that there is sufficient data for all states, including MA\n",
    "EARLIEST_DATE = pandas.Period('2020-03-13', freq='D')\n",
    "\n",
    "# Set a latest date when the most recent days have garbage (like on or after holidays)\n",
    "LATEST_DATE = pandas.Period('2021-01-27', freq='D')\n",
    "LATEST_DATE = pandas.Period(datetime.date.today(), freq='D')\n",
    "\n",
    "STATS_LAG = 10\n",
    "RATIO_DAYS = 14\n",
    "MIN_SHIFT = 0\n",
    "MAX_SHIFT = 7"
   ]
  },
  {
   "cell_type": "code",
   "execution_count": null,
   "metadata": {},
   "outputs": [],
   "source": [
    "ctp_stats = load_ctp_stats().set_index(['ST', 'Date']).sort_index()[['Hospital']]\n",
    "ctp_stats.tail(5)"
   ]
  },
  {
   "cell_type": "code",
   "execution_count": null,
   "metadata": {},
   "outputs": [],
   "source": [
    "# Hospitalization shifts, earliest good data, and ignore days for date-of-death states\n",
    "_ST_STATS = [\n",
    "#     ('AL', 6, '2020-07-15', 28), ('AZ', 1, '2020-07-15', 23),\n",
    "#             ('CT', 4, '2020-07-15', 20), ('FL', 6, '2020-07-15', 21),\n",
    "#             ('GA', 7, '2020-07-15', 22),\n",
    "#    ('DE', 3, '2020-07-15', 28), \n",
    "#     ('KS', 2, '2020-07-15', 28),\n",
    "#     ('IA', 1, '2020-07-15', 30),\n",
    "#             ('IN', 6, '2020-07-15', 25), ('MA', 0, '2020-07-15', 12),\n",
    "#             ('MI', 6, '2020-07-15', 14), ('MO', 0, '2020-07-15', 44),\n",
    "#             ('MS', 3, '2020-07-15', 18), ('NC', 5, '2020-07-15', 18),\n",
    "#             ('ND', 0, '2020-07-15', 20), ('NJ', 5, '2020-07-15', 22),\n",
    "#             ('NV', 4, '2020-07-15', 16),\n",
    "#    ('OH', 7, '2020-07-15', 36),\n",
    "#             ('PA', 2, '2020-07-15', 30), ('RI', 4, '2020-07-15', 20),\n",
    "#             ('SC', 2, '2020-07-25', 15), ('SD', 0, '2020-07-15', 38),\n",
    "#             ('TN', 1, '2020-07-15', 20), ('TX', 3, '2020-07-15', 25),\n",
    "             ('VA', 0, '2020-07-15', 22),\n",
    "]"
   ]
  },
  {
   "cell_type": "code",
   "execution_count": null,
   "metadata": {},
   "outputs": [],
   "source": [
    "STATES = {}\n",
    "for st, __, __, __ in _ST_STATS:\n",
    "    deaths = common.__dict__[f'load_{st.lower()}_data']().set_index('Date')\n",
    "    deaths.Deaths = (deaths.Deaths - deaths.Deaths.shift())\n",
    "    deaths.Deaths = deaths.Deaths.rolling(window=5, center=True, min_periods=1).mean()\n",
    "    hosp = ctp_stats.loc[st, :]\n",
    "    hosp.Hospital = hosp.Hospital.rolling(window=5, center=True, min_periods=1).mean()\n",
    "    min_ = max(deaths.dropna().index.min(), hosp.dropna().index.min())\n",
    "    max_ = min(deaths.dropna().index.max(), hosp.dropna().index.max())\n",
    "    both = deaths.loc[min_:max_, :].join(hosp.loc[min_:max_])\n",
    "    STATES[st] = both"
   ]
  },
  {
   "cell_type": "code",
   "execution_count": null,
   "metadata": {},
   "outputs": [],
   "source": [
    "idx = 0"
   ]
  },
  {
   "cell_type": "code",
   "execution_count": null,
   "metadata": {},
   "outputs": [],
   "source": [
    "st, __, min_date, max_lag = _ST_STATS[idx]  # MO 9, OH 15, VA 22\n",
    "idx = (idx + 1) % len(_ST_STATS)\n",
    "# max_lag = 45\n",
    "min_date, max_date = pandas.Period(min_date, freq='D'), LATEST_DATE - max_lag\n",
    "stats_max_date = max_date - STATS_LAG\n",
    "both = STATES[st]\n",
    "print(idx-1, st, min_date, max_date, stats_max_date, max_lag)\n",
    "fam = both[['Deaths', 'Hospital']].plot(\n",
    "    title=f\"Current Hospitalizations vs. Daily Deaths\",\n",
    "    secondary_y='Deaths', figsize=(16,5), ylim=0)\n",
    "__ = fam.axvline(min_date, color=\"red\", linestyle=\"--\")\n",
    "__ = fam.axvline(stats_max_date, color=\"red\", linestyle=\"--\")\n",
    "__ = fam.axvline(max_date, color=\"green\", linestyle=\"--\")\n",
    "__ = fam.get_figure().get_axes()[1].set_ylim(0)"
   ]
  },
  {
   "cell_type": "code",
   "execution_count": null,
   "metadata": {},
   "outputs": [],
   "source": [
    "both.Deaths.sum()"
   ]
  },
  {
   "cell_type": "code",
   "execution_count": null,
   "metadata": {},
   "outputs": [],
   "source": []
  },
  {
   "cell_type": "code",
   "execution_count": null,
   "metadata": {},
   "outputs": [],
   "source": [
    "both.columns"
   ]
  },
  {
   "cell_type": "code",
   "execution_count": null,
   "metadata": {},
   "outputs": [],
   "source": [
    "best, best_sh, best_corr = None, 0.0, 0.0\n",
    "for shift in range(-MAX_SHIFT, MAX_SHIFT+4):\n",
    "    h = both.Hospital.shift(shift).loc[min_date:stats_max_date]\n",
    "    d = both.Deaths.loc[min_date:stats_max_date]\n",
    "    corr = d.corr(h)\n",
    "    print(shift, corr)\n",
    "    if corr > best_corr:\n",
    "        best_sh, best_corr = shift, corr\n",
    "        best = pandas.concat([d, h], axis=1)\n",
    "print(\"Best:\", best_sh, best_corr)\n",
    "if best_sh < MIN_SHIFT:\n",
    "    best_sh = MIN_SHIFT\n",
    "    print(f\"Pinning shift to {MIN_SHIFT}\")\n",
    "if best_sh > MAX_SHIFT:\n",
    "    best_sh = MAX_SHIFT\n",
    "    print(f\"Pinning shift to {MAX_SHIFT}\")\n",
    "fam = best.plot(\n",
    "    title=f\"Current Hospitalizations vs. Daily Deaths\",\n",
    "    secondary_y='Deaths', figsize=(16,5), ylim=0)"
   ]
  },
  {
   "cell_type": "code",
   "execution_count": null,
   "metadata": {},
   "outputs": [],
   "source": [
    "h = both.Hospital.shift(best_sh).loc[max_date-RATIO_DAYS:max_date].sum()\n",
    "d = both.Deaths.loc[max_date-RATIO_DAYS:max_date].sum()\n",
    "hd_ratio = h / d"
   ]
  },
  {
   "cell_type": "code",
   "execution_count": null,
   "metadata": {},
   "outputs": [],
   "source": [
    "both['Projected'] = both.Deaths\n",
    "both.Projected.loc[max_date:] = both.Hospital.shift(best_sh).loc[max_date:] / hd_ratio\n",
    "both.tail()"
   ]
  },
  {
   "cell_type": "code",
   "execution_count": null,
   "metadata": {},
   "outputs": [],
   "source": [
    "fam = both.plot(\n",
    "    title=f\"Current Hospitalizations vs. Daily Deaths\",\n",
    "    secondary_y='Hospital', figsize=(16,5), ylim=0)"
   ]
  },
  {
   "cell_type": "code",
   "execution_count": null,
   "metadata": {},
   "outputs": [],
   "source": [
    "both.Projected.sum(), both.Deaths.sum()  # 160"
   ]
  },
  {
   "cell_type": "code",
   "execution_count": null,
   "metadata": {},
   "outputs": [],
   "source": [
    "both.loc['2021-01-02':'2021-01-10', :].Deaths.sum()"
   ]
  },
  {
   "cell_type": "code",
   "execution_count": null,
   "metadata": {},
   "outputs": [],
   "source": [
    "spaz = both.copy()\n",
    "spaz.loc['2021-01-02':'2021-01-10', 'Deaths'] += 17\n",
    "fam = spaz.plot(\n",
    "    title=f\"Current Hospitalizations vs. Daily Deaths\",\n",
    "    secondary_y='Hospital', figsize=(16,5), ylim=0)"
   ]
  },
  {
   "cell_type": "code",
   "execution_count": null,
   "metadata": {},
   "outputs": [],
   "source": [
    "spaz.Deaths.sum()"
   ]
  },
  {
   "cell_type": "code",
   "execution_count": null,
   "metadata": {},
   "outputs": [],
   "source": [
    "raise ValueError()"
   ]
  },
  {
   "cell_type": "code",
   "execution_count": null,
   "metadata": {},
   "outputs": [],
   "source": [
    "MAX_SHIFT = 7\n",
    "for st, orig_shift, min_date, max_lag in ST_STATS:\n",
    "    min_date, max_date = pandas.Period(min_date, freq='D'), LATEST_DATE - max_lag\n",
    "    stats_max_date = max_date - STATS_LAG\n",
    "    both = STATES[st]\n",
    "\n",
    "    best, best_sh, best_corr = None, 0.0, 0.0\n",
    "    for shift in range(-MAX_SHIFT, MAX_SHIFT+1):\n",
    "        h = both.Hospital.shift(shift).loc[min_date:stats_max_date]\n",
    "        d = both.Deaths.loc[min_date:stats_max_date]\n",
    "        corr = d.corr(h)\n",
    "        # print(shift, corr)\n",
    "        if corr > best_corr:\n",
    "            best_sh, best_corr = shift, corr\n",
    "            best = pandas.concat([d, h], axis=1)\n",
    "    print(f\"{st}: {best_sh}, {best_corr}\")\n",
    "#     if best_sh < MIN_SHIFT:\n",
    "#         best_sh = MIN_SHIFT\n",
    "#         print(f\"Pinning shift to {MIN_SHIFT}\")\n",
    "#     if best_sh > MAX_SHIFT:\n",
    "#         best_sh = MAX_SHIFT\n",
    "#         print(f\"Pinning shift to {MAX_SHIFT}\")"
   ]
  },
  {
   "cell_type": "code",
   "execution_count": null,
   "metadata": {},
   "outputs": [],
   "source": []
  },
  {
   "cell_type": "code",
   "execution_count": null,
   "metadata": {},
   "outputs": [],
   "source": []
  },
  {
   "cell_type": "code",
   "execution_count": null,
   "metadata": {},
   "outputs": [],
   "source": []
  }
 ],
 "metadata": {
  "kernelspec": {
   "display_name": "Python 3",
   "language": "python",
   "name": "python3"
  },
  "language_info": {
   "codemirror_mode": {
    "name": "ipython",
    "version": 3
   },
   "file_extension": ".py",
   "mimetype": "text/x-python",
   "name": "python",
   "nbconvert_exporter": "python",
   "pygments_lexer": "ipython3",
   "version": "3.8.2"
  }
 },
 "nbformat": 4,
 "nbformat_minor": 2
}
