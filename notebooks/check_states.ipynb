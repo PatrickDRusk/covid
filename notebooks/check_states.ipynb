{
 "cells": [
  {
   "cell_type": "code",
   "execution_count": null,
   "metadata": {},
   "outputs": [],
   "source": [
    "%matplotlib inline\n",
    "import datetime\n",
    "\n",
    "import numpy\n",
    "import pandas\n",
    "import matplotlib\n",
    "import matplotlib.pyplot as plt\n",
    "\n",
    "from common2 import load_data, calc_mid_weekly_average, smooth_series, spread_deaths"
   ]
  },
  {
   "cell_type": "code",
   "execution_count": null,
   "metadata": {},
   "outputs": [],
   "source": [
    "# Earliest date that there is sufficient data for all states, including MA\n",
    "EARLIEST_DATE = pandas.Period('2020-03-10', freq='D')\n",
    "LATEST_DATE = pandas.Period('2020-08-11', freq='D')\n",
    "LATEST_DATE = None"
   ]
  },
  {
   "cell_type": "code",
   "execution_count": null,
   "metadata": {
    "scrolled": true
   },
   "outputs": [],
   "source": [
    "latest_date, meta, nyt_stats, ct_stats = load_data(EARLIEST_DATE, LATEST_DATE)\n",
    "print(f\"Latest date = {str(latest_date)}\")"
   ]
  },
  {
   "cell_type": "code",
   "execution_count": null,
   "metadata": {},
   "outputs": [],
   "source": [
    "nyt1 = nyt_stats.set_index(['ST', 'Date']).sort_index()[['Deaths']]\n",
    "meta_tmp = meta.set_index('ST')\n",
    "nyt1.head()"
   ]
  },
  {
   "cell_type": "code",
   "execution_count": null,
   "metadata": {},
   "outputs": [],
   "source": [
    "def create_smooth_dates(earliest_date, latest_date):\n",
    "    sd = str(earliest_date)\n",
    "    ed = str(latest_date)\n",
    "    all_dates = pandas.date_range(start=sd, end=ed, freq='D')\n",
    "\n",
    "    for k, cfg in SMOOTH_CONFIGS.items():\n",
    "        # Start empty\n",
    "        dates = pandas.DatetimeIndex([], freq='D')\n",
    "        \n",
    "        # Compile date ranges excluding certain days of the week\n",
    "        for dow in cfg['DaysOfWeek']:\n",
    "            dates = dates.union(pandas.date_range(start=sd, end=ed, freq=dow))\n",
    "        \n",
    "        # Add the holidays (and some surrounding days sometimes)\n",
    "        holidays = cfg.get('Holidays', [])\n",
    "        if len(holidays):\n",
    "            dates = dates.union(pandas.DatetimeIndex(holidays))\n",
    "        \n",
    "        # Make sure that there is at least one non-excluded day at the end\n",
    "        for i in range(1, len(dates)):\n",
    "            if dates[-i] != all_dates[-i]:\n",
    "                break\n",
    "        if i > 1:\n",
    "            i -= 1\n",
    "            print(f\"Keeping date(s) {list(dates[-i:])}\")\n",
    "            dates = dates[:-i].copy()\n",
    "\n",
    "        SMOOTH_DATES[k] = pandas.PeriodIndex([pandas.Period(str(v), freq='D') for v in dates])\n",
    "\n",
    "def find_smooth_dates(st):\n",
    "    for k, states in SMOOTH_MAPS.items():\n",
    "        if st in states:\n",
    "            return SMOOTH_DATES[k]\n",
    "    return None"
   ]
  },
  {
   "cell_type": "code",
   "execution_count": null,
   "metadata": {},
   "outputs": [],
   "source": [
    "def calc_state_stats(state, state_stats, meta, latest_date):\n",
    "    st = state_stats.groupby('Date').sum().sort_index().copy()\n",
    "\n",
    "    st['ST'] = state\n",
    "    st['RawDeaths'] = st.Deaths\n",
    "    st['RawInc'] = st.Deaths - st.Deaths.shift()\n",
    "\n",
    "    st = st.reset_index().copy()\n",
    "\n",
    "    # Correct for various jumps in the data\n",
    "    STATE_DEATH_ADJUSTMENTS = (\n",
    "        ('AL', -20, '2020-04-23'),\n",
    "        ('AZ', 45, '2020-05-08'),\n",
    "        ('AR', 143, '2020-09-15'),\n",
    "        ('CO', 65, '2020-04-24'),\n",
    "        ('CO', -29, '2020-04-25'),\n",
    "        ('DE', 67, '2020-06-23'),\n",
    "        ('DE', 47, '2020-07-24'),\n",
    "        ('IL', 123, '2020-06-08'),\n",
    "        ('IN', 11, '2020-07-03'),\n",
    "        ('LA', 40, '2020-04-14'),\n",
    "        ('LA', 40, '2020-04-22'),\n",
    "        ('MD', 68, '2020-04-15'),\n",
    "        ('MI', 220, '2020-06-05'),\n",
    "        ('MI', 60, '2020-09-09'),\n",
    "        ('NJ', 1854, '2020-06-25'),\n",
    "        ('NJ', 75, '2020-07-08'),\n",
    "        ('NJ', -54, '2020-07-22'),\n",
    "        ('NJ', -38, '2020-07-29'),\n",
    "        ('NJ', -25, '2020-08-05'),\n",
    "        ('NJ', -10, '2020-08-12'),\n",
    "        ('NJ', -44, '2020-08-26'),\n",
    "        ('NY', 608, '2020-06-30'),  # most apparently happened at least three weeks earlier\n",
    "        ('NY', -113, '2020-08-06'),\n",
    "        ('NY', -11, '2020-09-09'),\n",
    "        ('OH', 80, '2020-04-29'),\n",
    "        ('SC', 25, '2020-04-29'),\n",
    "        ('SC', 37, '2020-07-16'),\n",
    "        ('TN', 16, '2020-06-12'),\n",
    "        ('TX', 636, '2020-07-27'),\n",
    "        ('WA', -12, '2020-06-17'),\n",
    "        ('WA', 7, '2020-06-18'),\n",
    "        ('WA', 30, '2020-07-24'),\n",
    "        ('WA', -11, '2020-08-05'),\n",
    "        ('WI', 8, '2020-06-10'),\n",
    "    )\n",
    "\n",
    "    for state_, deaths, deaths_date in STATE_DEATH_ADJUSTMENTS:\n",
    "        if state_ != state:\n",
    "            continue\n",
    "        if pandas.Period(deaths_date) <= latest_date:\n",
    "            spread_deaths(st, state_, deaths, deaths_date)\n",
    "\n",
    "    # Blank out and forward fill entries for days with wimpy reporting\n",
    "    dates = find_smooth_dates(state)\n",
    "    if dates is not None:\n",
    "        st = st.set_index('Date')\n",
    "        indices = st.index.isin(dates)\n",
    "        st.loc[indices, 'Deaths'] = numpy.nan\n",
    "        st.Deaths = st.Deaths.fillna(method='ffill')\n",
    "        st = st.reset_index().copy()\n",
    "\n",
    "    # Smooth series that might not be reported daily in some states\n",
    "    st.Deaths = smooth_series(st.Deaths)\n",
    "\n",
    "    # Prep for 7-day smoothing calculations\n",
    "    st['Daily'], st['Deaths7'] = calc_mid_weekly_average(st.Deaths)\n",
    "\n",
    "    return st.reset_index().set_index(['ST', 'Date']).copy()"
   ]
  },
  {
   "cell_type": "code",
   "execution_count": null,
   "metadata": {},
   "outputs": [],
   "source": []
  },
  {
   "cell_type": "code",
   "execution_count": null,
   "metadata": {},
   "outputs": [],
   "source": [
    "SMOOTH_CONFIGS = dict(\n",
    "    SatSun=\n",
    "        dict(\n",
    "            DaysOfWeek = ('W-SAT', 'W-SUN', ),\n",
    "            Holidays = (\n",
    "                '05-23-2020', '05-26-2020', '05-27-2020',  # Memorial Day\n",
    "                '07-03-2020', '07-04-2020', # Independence Day\n",
    "                '09-05-2020', '09-08-2020', '09-09-2020',  # Labor Day\n",
    "            )\n",
    "        ),\n",
    "    SatSunMon=\n",
    "        dict(\n",
    "            DaysOfWeek = ('W-SAT', 'W-SUN', 'W-MON', ),\n",
    "            Holidays = (\n",
    "                '05-23-2020', '05-26-2020', '05-27-2020',  # Memorial Day\n",
    "                '07-03-2020', '07-04-2020', # Independence Day\n",
    "                '09-05-2020', '09-08-2020', '09-09-2020',  # Labor Day\n",
    "            )\n",
    "        ),\n",
    "    SunMon=\n",
    "        dict(\n",
    "            DaysOfWeek = ('W-SUN', 'W-MON'),\n",
    "            Holidays = (\n",
    "                '05-23-2020', '05-26-2020', '05-27-2020',  # Memorial Day\n",
    "                '07-03-2020', '07-04-2020', # Independence Day\n",
    "                '09-05-2020', '09-08-2020', '09-09-2020',  # Labor Day\n",
    "            )\n",
    "        ),\n",
    "    SunMonTue=\n",
    "        dict(\n",
    "            DaysOfWeek = ('W-SUN', 'W-MON', 'W-TUE'),\n",
    "            Holidays = (\n",
    "                '05-23-2020', '05-26-2020', '05-27-2020',  # Memorial Day\n",
    "                '07-03-2020', '07-04-2020', # Independence Day\n",
    "                '09-05-2020', '09-08-2020', '09-09-2020',  # Labor Day\n",
    "            )\n",
    "        ),\n",
    "    NewYork=\n",
    "        dict(\n",
    "            DaysOfWeek = (),\n",
    "            Holidays = (\n",
    "                '04-30-2020', '05-01-2020', '05-02-2020',\n",
    "                '05-03-2020', '05-04-2020', '05-05-2020', \n",
    "                '05-23-2020', '05-24-2020', '05-25-2020',  # Memorial Day\n",
    "            )\n",
    "        ),\n",
    "    Penn=\n",
    "        dict(\n",
    "            DaysOfWeek = ('W-SUN', 'W-MON'),\n",
    "            Holidays = (\n",
    "                '04-21-2020', '04-22-2020', '04-23-2020',\n",
    "                '04-24-2020', '04-25-2020', '04-26-2020',\n",
    "                '04-27-2020', '04-28-2020', '04-29-2020',\n",
    "\n",
    "                '05-03-2020', '05-04-2020', '05-05-2020',\n",
    "                '05-06-2020', '05-07-2020',\n",
    "\n",
    "                '05-23-2020', '05-26-2020', '05-27-2020',  # Memorial Day\n",
    "                '07-03-2020', '07-04-2020', # Independence Day\n",
    "                '09-05-2020', '09-08-2020', '09-09-2020',  # Labor Day\n",
    "            )\n",
    "        ),\n",
    "    Virginia=\n",
    "        dict(\n",
    "            DaysOfWeek = ('W-SUN', 'W-MON'),\n",
    "            Holidays = (\n",
    "                '05-23-2020', '05-26-2020', '05-27-2020',  # Memorial Day\n",
    "                '07-03-2020', '07-04-2020', # Independence Day\n",
    "                '09-05-2020', '09-08-2020', '09-09-2020',  # Labor Day\n",
    "\n",
    "                '2020-09-10', '2020-09-11', '2020-09-12', \n",
    "                '2020-09-13', '2020-09-14',\n",
    "            )\n",
    "        ),\n",
    ")\n",
    "\n",
    "SMOOTH_DATES = dict()\n",
    "\n",
    "SMOOTH_MAPS = dict(\n",
    "    SatSun=('GA', 'IA', 'ID', 'KS', 'TN', 'UT', ),\n",
    "    SatSunMon=('CA', 'CO', 'DE', 'IL', 'LA', 'NV', 'OH', 'SC', ),\n",
    "    SunMon=('AR', 'AZ', 'FL', 'HI', 'IN', 'KY', 'MD', 'MI', 'MN', 'MO',\n",
    "       'MS', 'NC', 'NE', 'NH', 'NJ', 'OK', 'OR', 'SD', 'TX', 'WA', 'WI', ),\n",
    "    SunMonTue=('AL', ),\n",
    "    NewYork=('NY', ),\n",
    "    Penn=('PA', ),\n",
    "    Virginia=('VA', ),\n",
    ")\n",
    "\n",
    "create_smooth_dates(EARLIEST_DATE, latest_date)\n",
    "\n",
    "states = {state: calc_state_stats(state, df, meta_tmp, latest_date)\n",
    "          for state, df in nyt1.reset_index().groupby('ST')}\n",
    "states['AZ'].tail(2)"
   ]
  },
  {
   "cell_type": "code",
   "execution_count": null,
   "metadata": {
    "scrolled": false
   },
   "outputs": [],
   "source": [
    "# AK, AL, AR, AZ, CA, CO, CT, DC, DE, FL, GA, HI, IA, ID, IL, IN, KS,\n",
    "# KY, LA, MA, MD, ME, MI, MN, MO, MS, MT, NC, ND, NE, NH, NJ, NM, NV,\n",
    "# NY, OH, OK, OR, PA, RI, SC, SD, TN, TX, UT, VA, VT, WA, WI, WV, WY\n",
    "\n",
    "st_names = list(states.keys())\n",
    "for st in st_names:\n",
    "    if st != 'WY':\n",
    "        continue\n",
    "    st_df = states[st]\n",
    "    fam = st_df.loc[st, :].reset_index()[['Date', 'RawInc']].groupby('Date').sum().plot(\n",
    "        title=f\"{st}\",\n",
    "        figsize=(13,5), legend=None, ylim=0\n",
    "    )\n",
    "    fam = st_df.loc[st, :].reset_index()[['Date', 'Daily']].groupby('Date').sum().plot(\n",
    "        title=f\"{st}\",\n",
    "        figsize=(13,5), legend=None, ylim=0\n",
    "    )\n",
    "    fam = st_df.loc[st, :].reset_index()[['Date', 'Deaths7']].groupby('Date').sum().plot(\n",
    "        title=f\"{st}\",\n",
    "        figsize=(13,5), legend=None, ylim=0\n",
    "    )\n",
    "    break"
   ]
  },
  {
   "cell_type": "code",
   "execution_count": null,
   "metadata": {},
   "outputs": [],
   "source": [
    "#st_df.Daily.tail(115).head(30)"
   ]
  },
  {
   "cell_type": "code",
   "execution_count": null,
   "metadata": {},
   "outputs": [],
   "source": []
  },
  {
   "cell_type": "code",
   "execution_count": null,
   "metadata": {},
   "outputs": [],
   "source": [
    "# states[st][['RawInc', 'Daily', 'Deaths7']].tail(60)"
   ]
  },
  {
   "cell_type": "code",
   "execution_count": null,
   "metadata": {},
   "outputs": [],
   "source": [
    "raise ValueError()"
   ]
  },
  {
   "cell_type": "markdown",
   "metadata": {},
   "source": [
    "### Calculate new stats, state by state"
   ]
  },
  {
   "cell_type": "code",
   "execution_count": null,
   "metadata": {
    "scrolled": false
   },
   "outputs": [],
   "source": [
    "IFR_S, IFR_E = 0.011, 0.0035\n",
    "IFR_S_S, IFR_E_S = f'{100*IFR_S:.1f}%', f'{100*IFR_E:.2f}%', \n",
    "infected_states = get_infections_df(states, 19, IFR_S, IFR_E, 4, 10)\n",
    "print(infected_states.NewInf.sum())\n",
    "infected_states.tail(3)"
   ]
  },
  {
   "cell_type": "code",
   "execution_count": null,
   "metadata": {},
   "outputs": [],
   "source": [
    "fam = infected_states.reset_index()[['Date', 'NewInf']].groupby('Date').sum().plot(\n",
    "    title=f\"Infection Estimations, 19 median days to death, \"\n",
    "          f\"IFR improving {IFR_S_S} - {IFR_E_S}\",\n",
    "    figsize=(13,5), legend=None, ylim=0\n",
    ")"
   ]
  },
  {
   "cell_type": "code",
   "execution_count": null,
   "metadata": {},
   "outputs": [],
   "source": [
    "fam = infected_states.reset_index()[['Date', 'Deaths7']].groupby('Date').sum().plot(\n",
    "    title=\"Deaths\", figsize=(10,4),\n",
    "    legend=None, ylim=0\n",
    ")"
   ]
  },
  {
   "cell_type": "code",
   "execution_count": null,
   "metadata": {},
   "outputs": [],
   "source": [
    "foozle = infected_states.reset_index()[['Date', 'NewInf', 'Deaths7']].groupby('Date').sum()\n",
    "foozle.columns = ['Infections', 'Deaths']\n",
    "ax = foozle.plot(\n",
    "    title=f\"Daily Infections vs. Deaths, 19 median days to death, \"\n",
    "          f\"IFR improving {IFR_S_S} - {IFR_E_S}\",\n",
    "    secondary_y='Deaths', figsize=(13,5), ylim=0)"
   ]
  },
  {
   "cell_type": "code",
   "execution_count": null,
   "metadata": {},
   "outputs": [],
   "source": [
    "uri = \"https://dshs.texas.gov/coronavirus/TexasCOVID19DailyCountyFatalityCountData.xlsx\"\n",
    "df = pandas.read_excel(uri, skiprows=[0, 1], nrows=256)"
   ]
  },
  {
   "cell_type": "code",
   "execution_count": null,
   "metadata": {},
   "outputs": [],
   "source": [
    "s = df.iloc[-1, 1:]\n",
    "s.index = pandas.period_range('2020-03-07', freq='D', periods=len(s))\n",
    "daily, mid7 = calc_mid_weekly_average(s)\n",
    "fig = mid7.plot(figsize=(13,5), title=\"Texas smoothed death rate\")"
   ]
  },
  {
   "cell_type": "code",
   "execution_count": null,
   "metadata": {},
   "outputs": [],
   "source": []
  }
 ],
 "metadata": {
  "kernelspec": {
   "display_name": "Python 3",
   "language": "python",
   "name": "python3"
  },
  "language_info": {
   "codemirror_mode": {
    "name": "ipython",
    "version": 3
   },
   "file_extension": ".py",
   "mimetype": "text/x-python",
   "name": "python",
   "nbconvert_exporter": "python",
   "pygments_lexer": "ipython3",
   "version": "3.8.2"
  }
 },
 "nbformat": 4,
 "nbformat_minor": 2
}
