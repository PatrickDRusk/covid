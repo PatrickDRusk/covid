{
 "cells": [
  {
   "cell_type": "code",
   "execution_count": null,
   "metadata": {},
   "outputs": [],
   "source": [
    "import datetime\n",
    "import math\n",
    "\n",
    "import numpy\n",
    "import pandas\n",
    "from common import calc_mid_weekly_average"
   ]
  },
  {
   "cell_type": "code",
   "execution_count": null,
   "metadata": {},
   "outputs": [],
   "source": [
    "# Earliest date that there is sufficient data for all states, including MA\n",
    "earliest_date = pandas.Period('2020-03-10', freq='D')\n",
    "\n",
    "# Set a latest date when the most recent days have garbage (like on or after holidays)\n",
    "latest_date = None\n",
    "if not latest_date:\n",
    "    latest_date = pandas.Period((datetime.datetime.now() - datetime.timedelta(hours=19)).date(), freq='D')"
   ]
  },
  {
   "cell_type": "code",
   "execution_count": null,
   "metadata": {},
   "outputs": [],
   "source": [
    "raw_us_stats = pandas.read_csv('https://covidtracking.com/api/v1/us/daily.csv', low_memory=False)"
   ]
  },
  {
   "cell_type": "code",
   "execution_count": null,
   "metadata": {},
   "outputs": [],
   "source": [
    "# Remove territories\n",
    "us_stats = raw_us_stats.copy()\n",
    "us_stats.date = [pandas.Period(str(v)) for v in us_stats.date]\n",
    "\n",
    "# Choose and rename a subset of columns\n",
    "us_stats = us_stats[['date', 'hospitalizedCurrently', 'inIcuCurrently']]\n",
    "us_stats.columns = ['Date', 'HospitalRaw', 'ICURaw']\n",
    "\n",
    "us_stats = us_stats[us_stats.Date >= earliest_date]\n",
    "us_stats = us_stats[us_stats.Date <= latest_date]\n",
    "us_stats = us_stats.set_index(['Date']).sort_index()\n",
    "\n",
    "us_stats['Hospital'], us_stats['Hospital7'] = calc_mid_weekly_average(us_stats.HospitalRaw.cumsum())\n",
    "us_stats['ICU'], us_stats['ICU7'] = calc_mid_weekly_average(us_stats.ICURaw.cumsum())"
   ]
  },
  {
   "cell_type": "code",
   "execution_count": null,
   "metadata": {},
   "outputs": [],
   "source": [
    "us_stats.tail(20)"
   ]
  },
  {
   "cell_type": "code",
   "execution_count": null,
   "metadata": {},
   "outputs": [],
   "source": [
    "foo = us_stats[['Hospital7', 'ICU7']].iloc[180:-2].copy()\n",
    "foo.columns = ['Hospitalizations', 'ICU Beds']\n",
    "fam = foo.plot(\n",
    "    title=\"Current Hospitalizations and ICU Beds\", secondary_y='ICU Beds', figsize=(15,5),\n",
    ")"
   ]
  },
  {
   "cell_type": "code",
   "execution_count": null,
   "metadata": {},
   "outputs": [],
   "source": []
  }
 ],
 "metadata": {
  "kernelspec": {
   "display_name": "Python 3",
   "language": "python",
   "name": "python3"
  },
  "language_info": {
   "codemirror_mode": {
    "name": "ipython",
    "version": 3
   },
   "file_extension": ".py",
   "mimetype": "text/x-python",
   "name": "python",
   "nbconvert_exporter": "python",
   "pygments_lexer": "ipython3",
   "version": "3.8.2"
  }
 },
 "nbformat": 4,
 "nbformat_minor": 4
}
