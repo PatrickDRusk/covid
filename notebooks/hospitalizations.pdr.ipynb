{
 "cells": [
  {
   "cell_type": "code",
   "execution_count": null,
   "metadata": {},
   "outputs": [],
   "source": [
    "import datetime\n",
    "import math\n",
    "\n",
    "import numpy\n",
    "import pandas\n",
    "import matplotlib.pyplot as plt\n",
    "\n",
    "from common import calc_mid_weekly_average"
   ]
  },
  {
   "cell_type": "code",
   "execution_count": null,
   "metadata": {},
   "outputs": [],
   "source": [
    "# Earliest date that there is sufficient data for all states, including MA\n",
    "earliest_date = pandas.Period('2020-03-10', freq='D')\n",
    "\n",
    "# Set a latest date when the most recent days have garbage (like on or after holidays)\n",
    "latest_date = None\n",
    "if not latest_date:\n",
    "    latest_date = pandas.Period((datetime.datetime.now() - datetime.timedelta(hours=19)).date(), freq='D')"
   ]
  },
  {
   "cell_type": "code",
   "execution_count": null,
   "metadata": {},
   "outputs": [],
   "source": [
    "raw_us_stats = pandas.read_csv('https://covidtracking.com/api/v1/us/daily.csv', low_memory=False)"
   ]
  },
  {
   "cell_type": "code",
   "execution_count": null,
   "metadata": {},
   "outputs": [],
   "source": [
    "# Remove territories\n",
    "us_stats = raw_us_stats.copy()\n",
    "us_stats.date = [pandas.Period(str(v)) for v in us_stats.date]\n",
    "\n",
    "# Choose and rename a subset of columns\n",
    "us_stats = us_stats[['date', 'hospitalizedCurrently', 'inIcuCurrently']]\n",
    "us_stats.columns = ['Date', 'HospitalRaw', 'ICURaw']\n",
    "\n",
    "us_stats = us_stats[us_stats.Date >= earliest_date]\n",
    "us_stats = us_stats[us_stats.Date <= latest_date]\n",
    "us_stats = us_stats.set_index(['Date']).sort_index()\n",
    "\n",
    "# us_stats['Hospital'], us_stats['Hospital7'] = calc_mid_weekly_average(us_stats.HospitalRaw.cumsum())\n",
    "# us_stats['ICU'], us_stats['ICU7'] = calc_mid_weekly_average(us_stats.ICURaw.cumsum())\n",
    "us_stats['Hospital5'] = us_stats.HospitalRaw.rolling(window=3, center=True, min_periods=1).mean()\n",
    "us_stats['ICU5'] = us_stats.ICURaw.rolling(window=3, center=True, min_periods=1).mean()\n",
    "\n",
    "# us_stats.Hospital5 = us_stats.Hospital5.rolling(window=3, center=True, min_periods=2).mean()\n",
    "# us_stats.ICU5 = us_stats.ICU5.rolling(window=3, center=True, min_periods=2).mean()"
   ]
  },
  {
   "cell_type": "code",
   "execution_count": null,
   "metadata": {},
   "outputs": [],
   "source": [
    "us_stats.loc['2021-01-05':, :]"
   ]
  },
  {
   "cell_type": "code",
   "execution_count": null,
   "metadata": {},
   "outputs": [],
   "source": [
    "foo = us_stats[['Hospital5', 'ICU5']].iloc[200:].copy()\n",
    "foo.columns = ['Hospitalizations', 'ICU Beds']\n",
    "fam = foo.plot(\n",
    "    title=\"Current Hospitalizations and ICU Beds\", secondary_y='ICU Beds', figsize=(15,5),\n",
    ")"
   ]
  },
  {
   "cell_type": "code",
   "execution_count": null,
   "metadata": {},
   "outputs": [],
   "source": [
    "meta = pandas.read_csv('nyt_states_meta.csv')\n",
    "meta = meta.set_index('ST')\n",
    "meta.tail()"
   ]
  },
  {
   "cell_type": "code",
   "execution_count": null,
   "metadata": {},
   "outputs": [],
   "source": [
    "raw_st_stats = pandas.read_csv('https://covidtracking.com/api/v1/states/daily.csv', low_memory=False)\n",
    "raw_st_stats.tail(3)"
   ]
  },
  {
   "cell_type": "code",
   "execution_count": null,
   "metadata": {},
   "outputs": [],
   "source": [
    "st_stats = raw_st_stats[['date', 'state', 'hospitalizedCurrently', 'inIcuCurrently']]\n",
    "st_stats.columns = ['Date', 'ST', 'HospitalRaw', 'ICURaw']\n",
    "st_stats = st_stats[~st_stats.ST.isin(['AS', 'GU', 'MP', 'PR', 'VI'])].copy()\n",
    "st_stats = st_stats.set_index(['ST', 'Date'])\n",
    "st_stats = st_stats.join(meta)\n",
    "st_stats.tail()"
   ]
  },
  {
   "cell_type": "code",
   "execution_count": null,
   "metadata": {},
   "outputs": [],
   "source": [
    "raw_st_stats.tail()"
   ]
  },
  {
   "cell_type": "code",
   "execution_count": null,
   "metadata": {},
   "outputs": [],
   "source": [
    "# Remove territories\n",
    "st_stats = raw_st_stats[~raw_st_stats.state.isin(['AS', 'GU', 'MP', 'PR', 'VI'])].copy()\n",
    "st_stats.date = [pandas.Period(str(v)) for v in st_stats.date]\n",
    "\n",
    "# Choose and rename a subset of columns\n",
    "st_stats = st_stats[['date', 'state', 'hospitalizedCurrently', 'inIcuCurrently']]\n",
    "st_stats.columns = ['Date', 'ST', 'HospitalRaw', 'ICURaw']\n",
    "\n",
    "st_stats = st_stats[st_stats.Date >= earliest_date]\n",
    "st_stats = st_stats[st_stats.Date <= latest_date]\n",
    "st_stats = st_stats.set_index(['ST', 'Date']).sort_index()\n",
    "\n",
    "st_stats = st_stats.join(meta[['Pop']])\n",
    "st_stats['HospPerM'] = st_stats.HospitalRaw / st_stats.Pop\n",
    "st_stats['HospPerM5'] = 1.0\n",
    "st_stats.tail(10)\n",
    "# us_stats['Hospital5'] = us_stats.HospitalRaw.rolling(window=5, center=True, min_periods=2).mean()\n",
    "# us_stats['ICU5'] = us_stats.ICURaw.rolling(window=5, center=True, min_periods=2).mean()"
   ]
  },
  {
   "cell_type": "code",
   "execution_count": null,
   "metadata": {},
   "outputs": [],
   "source": [
    "st_stats.loc['NY', :].tail(30)"
   ]
  },
  {
   "cell_type": "code",
   "execution_count": null,
   "metadata": {},
   "outputs": [],
   "source": [
    "threshold = 525\n",
    "states = []\n",
    "dfs = []\n",
    "foo = st_stats.reset_index()\n",
    "foo = foo[foo.Date >= '2020-09-01'].copy()\n",
    "for st, df in foo.groupby('ST'):\n",
    "    df.HospPerM5 = df.HospPerM.rolling(window=5, center=True, min_periods=2).mean()\n",
    "    max_ = df.HospPerM.max()\n",
    "    latest = df.HospPerM.iloc[-1]\n",
    "    diff = ((max_ - latest) / max_) * 100.0\n",
    "    print(f\"{st}, {max_}, {latest}, {diff:.2f}\")\n",
    "    # if (max_ > threshold) or (st in ['NY', 'FL']):\n",
    "    if st in ['CA', 'NY', 'TX', 'FL', 'PA', 'AZ', 'NJ', 'IL', 'MA',]:\n",
    "        states.append(st)\n",
    "        dfs.append(df.copy())\n",
    "fam = pandas.concat(dfs)"
   ]
  },
  {
   "cell_type": "code",
   "execution_count": null,
   "metadata": {
    "scrolled": true
   },
   "outputs": [],
   "source": [
    "__ = pandas.pivot_table(fam, values = 'HospPerM5', index=['Date'],\n",
    "                        columns = 'ST').plot(title=\"Current Hospitalizations per Million (5-day smooth)\",\n",
    "                                             figsize=(15,5))"
   ]
  },
  {
   "cell_type": "code",
   "execution_count": null,
   "metadata": {
    "scrolled": false
   },
   "outputs": [],
   "source": [
    "# threshold = 525\n",
    "# st_names = ['AL', 'AZ', 'CT', 'FL', 'GA', 'IN', 'MA', 'MI', 'MO', 'MS', 'NC',\n",
    "#             'ND', 'NJ', 'NV', 'OH', 'PA', 'RI', 'SC', 'SD', 'TN', 'TX', 'VA']\n",
    "# states = []\n",
    "# dfs = []\n",
    "# foo = st_stats.reset_index().copy()\n",
    "# for st, df in foo.groupby('ST'):\n",
    "#     df.HospPerM5 = df.HospPerM.rolling(window=5, center=True, min_periods=2).mean()\n",
    "#     if st in st_names:\n",
    "#         states.append(st)\n",
    "#         dfs.append(df.copy())\n",
    "# fam = pandas.concat(dfs)\n",
    "\n",
    "# num_plots = max(len(st_names), 2)\n",
    "# fig, axes = plt.subplots(num_plots, figsize=(15, 5*num_plots))\n",
    "# for i, st in enumerate(st_names):\n",
    "#     data = fam[fam.ST == st].reset_index()[['Date', 'HospPerM5']].copy()\n",
    "#     data = data[data.Date >= '2020-11-01']\n",
    "#     __ = data.groupby('Date').sum().plot(\n",
    "#         ax=axes[i], title=st, ylim=0, legend=None, xlabel=None,\n",
    "#     )"
   ]
  },
  {
   "cell_type": "code",
   "execution_count": null,
   "metadata": {
    "scrolled": false
   },
   "outputs": [],
   "source": [
    "threshold = 525\n",
    "st_names = ['AL', 'AZ', 'CT', 'FL', 'GA', 'IN', 'MA', 'MI', 'MO', 'MS', 'NC',\n",
    "            'ND', 'NJ', 'NV', 'OH', 'PA', 'RI', 'SC', 'SD', 'TN', 'TX', 'VA']\n",
    "states = []\n",
    "dfs = []\n",
    "foo = st_stats.reset_index().copy()\n",
    "for st, df in foo.groupby('ST'):\n",
    "    df.HospPerM5 = df.HospPerM.rolling(window=5, center=True, min_periods=2).mean()\n",
    "    if st in st_names:\n",
    "        states.append(st)\n",
    "        dfs.append(df.copy())\n",
    "fam = pandas.concat(dfs)\n",
    "\n",
    "num_plots = len(st_names)\n",
    "data = fam[fam.Date >= '2020-11-01'].copy()\n",
    "#         ax=axes[i], title=st, ylim=0, legend=None, xlabel=None,\n",
    "fam = pandas.pivot_table(data, values = 'HospPerM5', index=['Date'],\n",
    "                     columns = 'ST').plot(title=\"Hospitalizations\",\n",
    "                                          subplots=True, layout=(num_plots, 1), ylim=0,\n",
    "                                         figsize=(15, num_plots*5))\n"
   ]
  },
  {
   "cell_type": "code",
   "execution_count": null,
   "metadata": {},
   "outputs": [],
   "source": []
  }
 ],
 "metadata": {
  "kernelspec": {
   "display_name": "Python 3",
   "language": "python",
   "name": "python3"
  },
  "language_info": {
   "codemirror_mode": {
    "name": "ipython",
    "version": 3
   },
   "file_extension": ".py",
   "mimetype": "text/x-python",
   "name": "python",
   "nbconvert_exporter": "python",
   "pygments_lexer": "ipython3",
   "version": "3.8.2"
  }
 },
 "nbformat": 4,
 "nbformat_minor": 4
}
