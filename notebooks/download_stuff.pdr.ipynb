{
 "cells": [
  {
   "cell_type": "code",
   "execution_count": null,
   "metadata": {},
   "outputs": [],
   "source": [
    "import sys, os\n",
    "import datetime\n",
    "import io\n",
    "import json\n",
    "import urllib\n",
    "import zipfile\n",
    "\n",
    "import pytz\n",
    "\n",
    "import numpy\n",
    "import pandas\n",
    "import requests\n",
    "\n",
    "# from common import download_zipped_df, download_path, load_oh_data\n",
    "from common2 import load_data, download_path"
   ]
  },
  {
   "cell_type": "code",
   "execution_count": null,
   "metadata": {},
   "outputs": [],
   "source": [
    "pandas.set_option('display.max_rows', 1000)"
   ]
  },
  {
   "cell_type": "code",
   "execution_count": null,
   "metadata": {},
   "outputs": [],
   "source": []
  },
  {
   "cell_type": "code",
   "execution_count": null,
   "metadata": {},
   "outputs": [],
   "source": [
    "uri = \"https://dshs.texas.gov/coronavirus/TexasCOVID19DailyCountyFatalityCountData.xlsx\"\n",
    "df = pandas.read_excel(uri, skiprows=2)\n",
    "# df = df[df['County Name'] == 'Total'].copy()\n",
    "df = df.iloc[-1:, :].copy()\n",
    "num_cols = len(df.columns)\n",
    "df = df.iloc[0, 1:]\n",
    "index = pandas.period_range('2020-03-07', periods=len(df), freq='D')\n",
    "df = pandas.DataFrame([float(x) for x in df.values], index=index).reset_index()\n",
    "df.columns = ['Date', 'Deaths']\n",
    "df.Deaths = df.Deaths.fillna(method='ffill').fillna(0.)\n",
    "df"
   ]
  },
  {
   "cell_type": "code",
   "execution_count": null,
   "metadata": {},
   "outputs": [],
   "source": []
  },
  {
   "cell_type": "code",
   "execution_count": null,
   "metadata": {},
   "outputs": [],
   "source": []
  },
  {
   "cell_type": "code",
   "execution_count": null,
   "metadata": {},
   "outputs": [],
   "source": []
  },
  {
   "cell_type": "code",
   "execution_count": null,
   "metadata": {},
   "outputs": [],
   "source": []
  },
  {
   "cell_type": "code",
   "execution_count": null,
   "metadata": {},
   "outputs": [],
   "source": [
    "uri = \"https://coronavirus.ohio.gov/static/dashboards/COVIDDeathData_CountyOfDeath.csv\"\n",
    "oh = pandas.read_csv(uri, low_memory=False)\n",
    "oh = oh[['Date Of Death', 'Death Due To Illness Count - County Of Death']].copy()\n",
    "oh.columns = ['Date', 'Daily']\n",
    "oh.Daily = [int(d) for d in oh.Daily]\n",
    "oh = oh[(oh.Daily > 0) & (oh.Daily < 100)].copy()\n",
    "oh.Date = [pandas.Period(x, freq='D') for x in oh.Date]\n",
    "df = oh.groupby('Date').sum()[['Daily']].sort_index()\n",
    "df['Deaths'] = df.Daily.cumsum()\n",
    "oh.Daily.sum(), oh.Date.dropna().max(), df.tail()"
   ]
  },
  {
   "cell_type": "code",
   "execution_count": null,
   "metadata": {
    "scrolled": true
   },
   "outputs": [],
   "source": [
    "df3 = oh.groupby('Date').sum()[['Daily']].sort_index()\n",
    "df3['Deaths'] = df3.Daily.cumsum()\n",
    "df3"
   ]
  },
  {
   "cell_type": "code",
   "execution_count": null,
   "metadata": {},
   "outputs": [],
   "source": []
  },
  {
   "cell_type": "code",
   "execution_count": null,
   "metadata": {},
   "outputs": [],
   "source": []
  },
  {
   "cell_type": "code",
   "execution_count": null,
   "metadata": {},
   "outputs": [],
   "source": []
  },
  {
   "cell_type": "code",
   "execution_count": null,
   "metadata": {},
   "outputs": [],
   "source": []
  },
  {
   "cell_type": "code",
   "execution_count": null,
   "metadata": {},
   "outputs": [],
   "source": [
    "uri = (\"https://results.mo.gov/t/COVID19/views/COVID-19DataforDownload/MetricsbyDateofDeath.csv\")\n",
    "raw = pandas.read_csv(uri).iloc[1:-1, :]\n",
    "mo = raw.copy()\n",
    "col = 'Measure Values' if 'Measure Values' in mo.columns else 'Confirmed Deaths'\n",
    "# print(mo.columns)\n",
    "mo = mo[['Dod', 'Measure Values']].copy()\n",
    "mo.columns = ['Date', 'Deaths']\n",
    "mo.Date = [pandas.Period(str(v), freq='D') for v in mo.Date]\n",
    "mo = mo[mo.Date >= pandas.Period('2020-01-01', freq='D')].set_index('Date').sort_index()\n",
    "mo.Deaths = [int(x) for x in mo.Deaths]\n",
    "mo.Deaths = mo.Deaths.cumsum()\n",
    "mo"
   ]
  },
  {
   "cell_type": "code",
   "execution_count": null,
   "metadata": {},
   "outputs": [],
   "source": [
    "raw"
   ]
  },
  {
   "cell_type": "code",
   "execution_count": null,
   "metadata": {},
   "outputs": [],
   "source": [
    "all_dates = pandas.period_range(start='2020-01-01', end=mo.index[-1], freq='D')\n",
    "mo = mo.reindex(all_dates, method='ffill').fillna(0.0).reset_index()\n",
    "mo.columns = ['Date', 'Deaths']"
   ]
  },
  {
   "cell_type": "code",
   "execution_count": null,
   "metadata": {},
   "outputs": [],
   "source": []
  },
  {
   "cell_type": "code",
   "execution_count": null,
   "metadata": {},
   "outputs": [],
   "source": [
    "uri = \"C:\\\\Users\\\\prusk\\\\Downloads\\\\Nevada Dashboard Extract2.xlsx\"\n",
    "nv = pandas.read_excel(uri, sheet_name='Deaths').iloc[:, [0, 1, 2]]\n",
    "nv"
   ]
  },
  {
   "cell_type": "code",
   "execution_count": null,
   "metadata": {},
   "outputs": [],
   "source": [
    "nv.columns = ['Date', 'Daily', 'Deaths']\n",
    "nv.Date = [pandas.Period(v, freq='D') for v in nv.Date]\n",
    "nv = nv.sort_values('Date')\n",
    "nv.tail(40)"
   ]
  },
  {
   "cell_type": "code",
   "execution_count": null,
   "metadata": {},
   "outputs": [],
   "source": []
  },
  {
   "cell_type": "code",
   "execution_count": null,
   "metadata": {},
   "outputs": [],
   "source": [
    "uri = (\"https://public.tableau.com/vizql/w/NCDHHS_COVID-19_DataDownload/v/DailyCasesandDeathsMetrics/vudcsv\"\n",
    "       \"/sessions/37B9DB62168E442FA0310335A1D650EA-0:0/views/13567890650596151931_671940180619205164?summary=true\")\n",
    "nc = pandas.read_csv('C:\\\\Users\\\\prusk\\\\Downloads\\\\TABLE_DAILY_CASE&DEATHS_METRICS_data.csv')\n",
    "\n",
    "# nc = nc.set_index('Date').sort_index()\n",
    "# nc['Deaths'] = nc['Measure Values'].fillna(0.0).cumsum()\n",
    "# nc = nc.reset_index()[['Date', 'Deaths']].copy()\n",
    "nc"
   ]
  },
  {
   "cell_type": "code",
   "execution_count": null,
   "metadata": {},
   "outputs": [],
   "source": []
  },
  {
   "cell_type": "code",
   "execution_count": null,
   "metadata": {},
   "outputs": [],
   "source": []
  },
  {
   "cell_type": "code",
   "execution_count": null,
   "metadata": {},
   "outputs": [],
   "source": []
  },
  {
   "cell_type": "code",
   "execution_count": null,
   "metadata": {},
   "outputs": [],
   "source": [
    "url = (\"https://services1.arcgis.com/CY1LXxl9zlJeBuRZ/ArcGIS/rest/services/\"\n",
    "       \"Florida_COVID_19_Deaths_by_Day/FeatureServer/0/query?\"\n",
    "       \"where=ObjectId>0&objectIds=&time=&resultType=standard&outFields=*&returnIdsOnly=false\"\n",
    "       \"&returnUniqueIdsOnly=false&returnCountOnly=false&returnDistinctValues=false&cacheHint=false\"\n",
    "       \"&orderByFields=&groupByFieldsForStatistics=&outStatistics=&having=&resultOffset=\"\n",
    "       \"&resultRecordCount=&sqlFormat=none&f=pjson&token=\")\n",
    "# User-Agent spoofing is required, if we use the default (\"python-requests/x.x.x\") the server returns\n",
    "# an empty 'features'!\n",
    "rows = requests.get(url, headers={'User-Agent': 'curl/7.64.0'}, verify=False).json()['features']\n"
   ]
  },
  {
   "cell_type": "code",
   "execution_count": null,
   "metadata": {},
   "outputs": [],
   "source": [
    "df = pandas.DataFrame([row['attributes'] for row in rows])\n",
    "df"
   ]
  },
  {
   "cell_type": "code",
   "execution_count": null,
   "metadata": {},
   "outputs": [],
   "source": []
  },
  {
   "cell_type": "code",
   "execution_count": null,
   "metadata": {},
   "outputs": [],
   "source": [
    "df['Date'] = [pandas.Period(datetime.datetime.fromtimestamp(d // 1000), freq='D') for d in df.Date1]\n",
    "df = df.sort_values('Date')\n",
    "df"
   ]
  },
  {
   "cell_type": "code",
   "execution_count": null,
   "metadata": {},
   "outputs": [],
   "source": []
  },
  {
   "cell_type": "code",
   "execution_count": null,
   "metadata": {},
   "outputs": [],
   "source": [
    "def make_date(r):\n",
    "    dt = datetime.date(int(r['Year']), int(r['Month']), int(r['Day']))\n",
    "    return pandas.Period(dt, freq='D')\n",
    "\n",
    "uri = (\"https://myhealthycommunity.dhss.delaware.gov/locations/state/download_covid_19_data/overview\")\n",
    "raw = pandas.read_csv(uri)\n",
    "\n",
    "df = raw[(raw['Date used'] == 'Date of death') & (raw.Unit == 'people')][['Year', 'Month', 'Day', 'Value']]\n",
    "df['Date'] = df.apply(make_date, axis=1)\n",
    "df = df[['Date', 'Value']]\n",
    "df.columns = ['Date', 'Deaths']\n",
    "df"
   ]
  },
  {
   "cell_type": "code",
   "execution_count": null,
   "metadata": {},
   "outputs": [],
   "source": [
    "spaz = df.sort_values('Date').copy()\n",
    "spaz.head(60)"
   ]
  },
  {
   "cell_type": "code",
   "execution_count": null,
   "metadata": {},
   "outputs": [],
   "source": []
  },
  {
   "cell_type": "code",
   "execution_count": null,
   "metadata": {},
   "outputs": [],
   "source": []
  },
  {
   "cell_type": "code",
   "execution_count": null,
   "metadata": {},
   "outputs": [],
   "source": [
    "earliest_date = pandas.Period('2020-03-01', freq='D')\n",
    "latest_date, meta, cdc_stats, ctp_stats, dod_stats = load_data('2020-03-01', None)"
   ]
  },
  {
   "cell_type": "code",
   "execution_count": null,
   "metadata": {},
   "outputs": [],
   "source": [
    "cdc_stats"
   ]
  },
  {
   "cell_type": "code",
   "execution_count": null,
   "metadata": {},
   "outputs": [],
   "source": [
    "def read_cdc_csv(uri, meta, earliest_date, latest_date):\n",
    "    df = pandas.read_csv(uri, parse_dates=['Week Ending Date'])\n",
    "    df = df[(df.Group == 'By Week') & ~df.State.isin(['United States', 'Puerto Rico'])]\n",
    "    df = df[['Week Ending Date', 'State', 'COVID-19 Deaths']].copy()\n",
    "    df.columns = ['Date', 'State', 'Weekly']\n",
    "    df.Date = [pandas.Period(str(v), freq='D') for v in df.Date]\n",
    "    df = df.sort_values(['State', 'Date'])\n",
    "    \n",
    "    all_dates = pandas.period_range(start=df.Date.min()-6, end=df.Date.max(), freq='D')\n",
    "\n",
    "    state_dfs = list()\n",
    "    for state, st_df in df.groupby('State'):\n",
    "        st_df = st_df.set_index('Date')\n",
    "        st_df.Weekly = st_df.Weekly.fillna(0.)\n",
    "        st_df['Daily'] = st_df.Weekly / 7.\n",
    "        st_df = st_df.reindex(all_dates)\n",
    "        st_df.State = state\n",
    "        st_df.Daily = st_df.Daily.fillna(method='bfill')\n",
    "        st_df = st_df.reset_index()\n",
    "        st_df.Daily = st_df.Daily.rolling(window=13, center=True, win_type='triang', min_periods=1).mean()\n",
    "        state_dfs.append(st_df)\n",
    "\n",
    "    df = pandas.concat(state_dfs)\n",
    "    df.columns = ['Date', 'State', 'Weekly', 'Daily']\n",
    "\n",
    "    if earliest_date:\n",
    "        df = df[df.Date >= earliest_date]\n",
    "    if latest_date:\n",
    "        df = df[df.Date <= latest_date]\n",
    "\n",
    "    # Pull in the statistics for states\n",
    "    df = df.set_index(['State', 'Date']).sort_index()\n",
    "    df = df.join(meta.set_index('State')[['ST']])\n",
    "\n",
    "    # Change to using two-letter state abbreviations\n",
    "    df = df.reset_index()[['ST', 'Date', 'Daily']].copy()\n",
    "\n",
    "    return df"
   ]
  },
  {
   "cell_type": "code",
   "execution_count": null,
   "metadata": {},
   "outputs": [],
   "source": [
    "foo = read_cdc_csv(download_path('cdc_dod_data.csv'), meta, earliest_date, latest_date)"
   ]
  },
  {
   "cell_type": "code",
   "execution_count": null,
   "metadata": {},
   "outputs": [],
   "source": [
    "_ = foo.groupby('Date').sum()[['Daily']].plot(figsize=(15,5), ylim=0)"
   ]
  },
  {
   "cell_type": "code",
   "execution_count": null,
   "metadata": {},
   "outputs": [],
   "source": [
    "foo.tail()"
   ]
  },
  {
   "cell_type": "code",
   "execution_count": null,
   "metadata": {},
   "outputs": [],
   "source": []
  },
  {
   "cell_type": "code",
   "execution_count": null,
   "metadata": {},
   "outputs": [],
   "source": []
  },
  {
   "cell_type": "code",
   "execution_count": null,
   "metadata": {},
   "outputs": [],
   "source": []
  },
  {
   "cell_type": "code",
   "execution_count": null,
   "metadata": {},
   "outputs": [],
   "source": [
    "uri = \"https://data.cdc.gov/api/views/r8kw-7aab/rows.csv?accessType=DOWNLOAD\"\n",
    "df = pandas.read_csv(uri, parse_dates=['Data as of', 'Start Date', 'End Date', 'Week Ending Date'])\n",
    "df = df[df.Group == 'By Week'][['Week Ending Date', 'State', 'COVID-19 Deaths']].copy()\n",
    "df.columns = ['Date', 'State', 'Weekly']\n",
    "df['Deaths'] = df.Weekly.cumsum()"
   ]
  },
  {
   "cell_type": "code",
   "execution_count": null,
   "metadata": {},
   "outputs": [],
   "source": [
    "df[df.State == 'United States'].Weekly.sum(), df[df.State != 'United States'].Weekly.sum()"
   ]
  },
  {
   "cell_type": "code",
   "execution_count": null,
   "metadata": {},
   "outputs": [],
   "source": [
    "# foo = states.loc['CA', :].loc['2020-07-25':, :][['NewG', 'Tot']].copy()\n",
    "# foo.columns = ['New', 'Current']\n",
    "# fam = foo.plot(\n",
    "#     title=\"New and Current Hospitalizations\", secondary_y='Current', figsize=(15,5), ylim=0,\n",
    "# )\n",
    "# axes = fam.get_figure().get_axes()\n",
    "# for i in range(len(axes)):\n",
    "#     axes[i].set_ylim(0)"
   ]
  },
  {
   "cell_type": "code",
   "execution_count": null,
   "metadata": {},
   "outputs": [],
   "source": []
  },
  {
   "cell_type": "code",
   "execution_count": null,
   "metadata": {},
   "outputs": [],
   "source": []
  },
  {
   "cell_type": "code",
   "execution_count": null,
   "metadata": {},
   "outputs": [],
   "source": []
  },
  {
   "cell_type": "code",
   "execution_count": null,
   "metadata": {},
   "outputs": [],
   "source": []
  },
  {
   "cell_type": "code",
   "execution_count": null,
   "metadata": {},
   "outputs": [],
   "source": []
  },
  {
   "cell_type": "code",
   "execution_count": null,
   "metadata": {},
   "outputs": [],
   "source": [
    "uri = (\"https://myhealthycommunity.dhss.delaware.gov/locations/state/download_covid_19_data/overview\")\n",
    "raw = pandas.read_csv(uri)\n",
    "\n",
    "def make_date(r):\n",
    "    dt = datetime.date(int(r['Year']), int(r['Month']), int(r['Day']))\n",
    "    return pandas.Period(dt, freq='D')\n",
    "\n",
    "df = raw[(raw['Date used'] == 'Date of death') & (raw.Unit == 'people')][['Year', 'Month', 'Day', 'Value']]\n",
    "df['Date'] = df.apply(make_date, axis=1)\n",
    "df = df[['Date', 'Value']]\n",
    "df.columns = ['Date', 'Deaths']\n",
    "df"
   ]
  },
  {
   "cell_type": "code",
   "execution_count": null,
   "metadata": {},
   "outputs": [],
   "source": []
  },
  {
   "cell_type": "code",
   "execution_count": null,
   "metadata": {},
   "outputs": [],
   "source": [
    "uri = (\"/Users/patrick/Downloads/cdc_hospital.csv\")\n",
    "raw = pandas.read_csv(uri, parse_dates=['date'])"
   ]
  },
  {
   "cell_type": "code",
   "execution_count": null,
   "metadata": {},
   "outputs": [],
   "source": [
    "raw.columns"
   ]
  },
  {
   "cell_type": "code",
   "execution_count": null,
   "metadata": {},
   "outputs": [],
   "source": [
    "df = raw[['state', 'date',\n",
    "          'previous_day_admission_adult_covid_confirmed',\n",
    "          'previous_day_admission_adult_covid_suspected',\n",
    "          'previous_day_admission_pediatric_covid_confirmed',\n",
    "          'previous_day_admission_pediatric_covid_suspected',\n",
    "          'total_adult_patients_hospitalized_confirmed_and_suspected_covid',\n",
    "          'total_pediatric_patients_hospitalized_confirmed_and_suspected_covid',\n",
    "         ]].copy()\n",
    "df.columns = ['State', 'Date',\n",
    "              'NewAConf', 'NewASusp', 'NewPConf', 'NewPSusp',\n",
    "              'TotA', 'TotP']\n",
    "df = df[df.Date >= '2020-07-25'].copy()\n",
    "df = df[~df.State.isin(['PR', 'VI'])]\n",
    "df['NewConf'] = df.NewAConf + df.NewPConf\n",
    "df['NewSusp'] = df.NewASusp + df.NewPSusp\n",
    "df['New'] = df.NewConf + df.NewSusp\n",
    "df['NewG'] = df.NewConf + (df.NewSusp * 0.2)\n",
    "df['Tot'] = df.TotA + df.TotP\n",
    "\n",
    "cols = ['NewConf', 'NewSusp', 'New', 'NewG', 'Tot']\n",
    "us = df.groupby('Date').sum()[cols].sort_index().copy()\n",
    "\n",
    "states = []\n",
    "for st, st_df in df.groupby('State'):\n",
    "    st_df = st_df.set_index('Date').sort_index().copy()\n",
    "    st_df.NewConf = st_df.NewConf.rolling(window=13, center=True, win_type='triang', min_periods=1).mean()\n",
    "    st_df.NewSusp = st_df.NewSusp.rolling(window=13, center=True, win_type='triang', min_periods=1).mean()\n",
    "    st_df.New = st_df.New.rolling(window=13, center=True, win_type='triang', min_periods=1).mean()\n",
    "    st_df.NewG = st_df.NewG.rolling(window=13, center=True, win_type='triang', min_periods=1).mean()\n",
    "    st_df.NewG = st_df.NewG.rolling(window=13, center=True, win_type='triang', min_periods=1).mean()\n",
    "    st_df.Tot = st_df.Tot.rolling(window=13, center=True, win_type='triang', min_periods=1).mean()\n",
    "    states.append(st_df.reset_index())\n",
    "states = pandas.concat(states).set_index(['State', 'Date']).sort_index()\n",
    "\n",
    "us.NewConf = us.NewConf.rolling(window=13, center=True, win_type='triang', min_periods=1).mean()\n",
    "us.NewSusp = us.NewSusp.rolling(window=13, center=True, win_type='triang', min_periods=1).mean()\n",
    "us.New = us.New.rolling(window=13, center=True, win_type='triang', min_periods=1).mean()\n",
    "us.NewG = us.NewG.rolling(window=13, center=True, win_type='triang', min_periods=1).mean()\n",
    "us.NewG = us.NewG.rolling(window=13, center=True, win_type='triang', min_periods=1).mean()\n",
    "us.Tot = us.Tot.rolling(window=13, center=True, win_type='triang', min_periods=1).mean()\n",
    "\n",
    "states"
   ]
  },
  {
   "cell_type": "code",
   "execution_count": null,
   "metadata": {},
   "outputs": [],
   "source": [
    "foo = states.loc['CA', :].loc['2020-07-25':, :][['NewG', 'Tot']].copy()\n",
    "foo.columns = ['New', 'Current']\n",
    "fam = foo.plot(\n",
    "    title=\"New and Current Hospitalizations\", secondary_y='Current', figsize=(15,5), ylim=0,\n",
    ")\n",
    "axes = fam.get_figure().get_axes()\n",
    "for i in range(len(axes)):\n",
    "    axes[i].set_ylim(0)"
   ]
  },
  {
   "cell_type": "code",
   "execution_count": null,
   "metadata": {},
   "outputs": [],
   "source": [
    "us.loc['2021-01-05':, :]"
   ]
  },
  {
   "cell_type": "code",
   "execution_count": null,
   "metadata": {},
   "outputs": [],
   "source": []
  },
  {
   "cell_type": "code",
   "execution_count": null,
   "metadata": {},
   "outputs": [],
   "source": []
  },
  {
   "cell_type": "code",
   "execution_count": null,
   "metadata": {},
   "outputs": [],
   "source": [
    "uri = (\"https://results.mo.gov/t/COVID19/views/COVID-19DataforDownload/MetricsbyDateofDeath.csv\")\n",
    "df = pandas.read_csv(uri).iloc[1:-1, :]\n",
    "df.tail(2)"
   ]
  },
  {
   "cell_type": "code",
   "execution_count": null,
   "metadata": {},
   "outputs": [],
   "source": [
    "col = 'Measure Values' if 'Measure Values' in mo.columns else 'Confirmed Deaths'\n",
    "# print(mo.columns)\n",
    "mo = mo[['Dod', 'Measure Values']].copy()\n",
    "mo.columns = ['Date', 'Deaths']\n",
    "mo.Date = [pandas.Period(str(v), freq='D') for v in mo.Date]\n",
    "mo = mo[mo.Date >= pandas.Period('2020-01-01', freq='D')].set_index('Date').sort_index()\n",
    "mo.Deaths = [int(x) for x in mo.Deaths]\n",
    "mo.Deaths = mo.Deaths.cumsum()\n",
    "mo"
   ]
  },
  {
   "cell_type": "code",
   "execution_count": null,
   "metadata": {},
   "outputs": [],
   "source": [
    "all_dates = pandas.period_range(start='2020-01-01', end=mo.index[-1], freq='D')\n",
    "mo = mo.reindex(all_dates, method='ffill').fillna(0.0).reset_index()\n",
    "mo.columns = ['Date', 'Deaths']"
   ]
  },
  {
   "cell_type": "code",
   "execution_count": null,
   "metadata": {},
   "outputs": [],
   "source": []
  },
  {
   "cell_type": "code",
   "execution_count": null,
   "metadata": {},
   "outputs": [],
   "source": []
  },
  {
   "cell_type": "code",
   "execution_count": null,
   "metadata": {},
   "outputs": [],
   "source": []
  },
  {
   "cell_type": "code",
   "execution_count": null,
   "metadata": {},
   "outputs": [],
   "source": []
  },
  {
   "cell_type": "code",
   "execution_count": null,
   "metadata": {},
   "outputs": [],
   "source": []
  },
  {
   "cell_type": "code",
   "execution_count": null,
   "metadata": {},
   "outputs": [],
   "source": [
    "uri = './DateOfDeath.xlsx'\n",
    "sc = pandas.read_excel(uri, sheet_name='South Carolina', parse_dates=['Date'])\n",
    "sc = sc[['Date', 'Deaths']].copy()\n",
    "sc"
   ]
  },
  {
   "cell_type": "code",
   "execution_count": null,
   "metadata": {},
   "outputs": [],
   "source": []
  },
  {
   "cell_type": "code",
   "execution_count": null,
   "metadata": {},
   "outputs": [],
   "source": []
  },
  {
   "cell_type": "code",
   "execution_count": null,
   "metadata": {},
   "outputs": [],
   "source": []
  },
  {
   "cell_type": "code",
   "execution_count": null,
   "metadata": {},
   "outputs": [],
   "source": [
    "uri = \"https://www.health.nd.gov/sites/www/files/documents/Files/MSS/coronavirus/charts-data/PublicUseData.csv\"\n",
    "df = pandas.read_csv(uri, parse_dates=['Date'])[['Date', 'Total Deaths']].groupby('Date').sum().sort_index()\n",
    "__ = df.plot(figsize=(15, 5))"
   ]
  },
  {
   "cell_type": "code",
   "execution_count": null,
   "metadata": {},
   "outputs": [],
   "source": [
    "df.head(30)"
   ]
  },
  {
   "cell_type": "code",
   "execution_count": null,
   "metadata": {},
   "outputs": [],
   "source": [
    "url = (\"https://services1.arcgis.com/CY1LXxl9zlJeBuRZ/ArcGIS/rest/services/\"\n",
    "       \"Florida_COVID_19_Deaths_by_Day/FeatureServer/0/query?\"\n",
    "       \"where=ObjectId>0&objectIds=&time=&resultType=standard&outFields=*&returnIdsOnly=false\"\n",
    "       \"&returnUniqueIdsOnly=false&returnCountOnly=false&returnDistinctValues=false&cacheHint=false\"\n",
    "       \"&orderByFields=&groupByFieldsForStatistics=&outStatistics=&having=&resultOffset=\"\n",
    "       \"&resultRecordCount=&sqlFormat=none&f=pjson&token=\")\n",
    "# User-Agent spoofing is required, if we use the default (\"python-requests/x.x.x\") the server returns\n",
    "# an empty 'features'!\n",
    "rows = requests.get(url, headers={'User-Agent': 'curl/7.64.0'}).json()['features']\n",
    "df = pandas.DataFrame([row['attributes'] for row in rows])\n",
    "df.Date = [pandas.Period(datetime.datetime.fromtimestamp(d // 1000), freq='D') for d in df.Date]\n",
    "df = df.sort_values('Date')\n"
   ]
  },
  {
   "cell_type": "code",
   "execution_count": null,
   "metadata": {},
   "outputs": [],
   "source": [
    "df.tail(30)"
   ]
  },
  {
   "cell_type": "code",
   "execution_count": null,
   "metadata": {},
   "outputs": [],
   "source": [
    "datetime.datetime.fromtimestamp(1609390800)"
   ]
  },
  {
   "cell_type": "code",
   "execution_count": null,
   "metadata": {},
   "outputs": [],
   "source": [
    "datetime.datetime.fromtimestamp(df.iloc[0, 0] // 1000)"
   ]
  },
  {
   "cell_type": "code",
   "execution_count": null,
   "metadata": {},
   "outputs": [],
   "source": []
  },
  {
   "cell_type": "code",
   "execution_count": null,
   "metadata": {},
   "outputs": [],
   "source": [
    "ET = pytz.timezone('America/New_York')"
   ]
  },
  {
   "cell_type": "code",
   "execution_count": null,
   "metadata": {},
   "outputs": [],
   "source": [
    "uri = download_path('Case_Data_Parallel.csv')\n",
    "fl = pandas.read_csv(uri, parse_dates=['Case1', 'EventDate', 'ChartDate'])\n",
    "fl"
   ]
  },
  {
   "cell_type": "code",
   "execution_count": null,
   "metadata": {},
   "outputs": [],
   "source": []
  },
  {
   "cell_type": "code",
   "execution_count": null,
   "metadata": {},
   "outputs": [],
   "source": [
    "uri = download_path('Case_Data_Parallel.csv')\n",
    "fl = pandas.read_csv(uri, parse_dates=['Case1', 'EventDate', 'ChartDate'])\n",
    "fl = fl[['Died', 'Case1', 'EventDate', 'ChartDate']].copy()\n",
    "fl"
   ]
  },
  {
   "cell_type": "code",
   "execution_count": null,
   "metadata": {},
   "outputs": [],
   "source": [
    "df = fl[fl.Died.isin(('Yes', 'Recent'))][['Case1', 'EventDate', 'ChartDate']].copy()\n",
    "df['Max'] = df.Case1.combine(df.EventDate.combine(df.ChartDate, max), max)\n",
    "df['Date'] = [pandas.Period(t.tz_convert(ET), freq='D') for t in df.Max]\n",
    "df['Spaz'] = 1.0\n",
    "df"
   ]
  },
  {
   "cell_type": "code",
   "execution_count": null,
   "metadata": {},
   "outputs": [],
   "source": [
    "df = df.groupby('Date').count().sort_index().cumsum()\n",
    "df.tail()"
   ]
  },
  {
   "cell_type": "code",
   "execution_count": null,
   "metadata": {},
   "outputs": [],
   "source": [
    "all_dates = pandas.period_range(start='2020-01-01', end=df.index[-1], freq='D')\n",
    "df = df.reindex(all_dates, method='ffill').fillna(0.0)[['Spaz']].reset_index()\n",
    "df.columns = ['Date', 'Deaths']"
   ]
  },
  {
   "cell_type": "code",
   "execution_count": null,
   "metadata": {},
   "outputs": [],
   "source": [
    "df['Daily'] = (df.Deaths - df.Deaths.shift())"
   ]
  },
  {
   "cell_type": "code",
   "execution_count": null,
   "metadata": {},
   "outputs": [],
   "source": [
    "df.tail(30)"
   ]
  },
  {
   "cell_type": "code",
   "execution_count": null,
   "metadata": {},
   "outputs": [],
   "source": []
  },
  {
   "cell_type": "code",
   "execution_count": null,
   "metadata": {},
   "outputs": [],
   "source": [
    "uri = (\"https://results.mo.gov/t/COVID19/views/COVID-19DataforDownload/MetricsbyDateofDeath.csv\")\n",
    "mo = pandas.read_csv(uri).iloc[1:-1, :]\n",
    "# print(mo.columns)\n",
    "mo = mo[['Dod', 'Measure Values']].copy()\n",
    "mo.columns = ['Date', 'Deaths']\n",
    "mo.Date = [pandas.Period(str(v), freq='D') for v in mo.Date]\n",
    "mo = mo[mo.Date >= pandas.Period('2020-01-01', freq='D')].set_index('Date').sort_index()\n",
    "mo.Deaths = [int(x) for x in mo.Deaths]\n",
    "mo.Deaths = mo.Deaths.cumsum()\n",
    "all_dates = pandas.period_range(start='2020-01-01', end=mo.index[-1], freq='D')\n",
    "mo = mo.reindex(all_dates, method='ffill').fillna(0.0).reset_index()\n",
    "mo.columns = ['Date', 'Deaths']"
   ]
  },
  {
   "cell_type": "code",
   "execution_count": null,
   "metadata": {},
   "outputs": [],
   "source": [
    "mo"
   ]
  },
  {
   "cell_type": "code",
   "execution_count": null,
   "metadata": {},
   "outputs": [],
   "source": [
    "uri = (\"https://results.mo.gov/t/COVID19/views/COVID-19DataforDownload/MetricsbyDateofDeath.csv\")\n",
    "mo = pandas.read_csv(uri).iloc[1:-1, :][['Dod', 'Confirmed Deaths']].copy()\n",
    "mo.columns = ['Date', 'Deaths']\n",
    "mo.Date = [pandas.Period(str(v), freq='D') for v in mo.Date]\n",
    "mo.Deaths = [int(x) for x in mo.Deaths]\n",
    "mo"
   ]
  },
  {
   "cell_type": "code",
   "execution_count": null,
   "metadata": {},
   "outputs": [],
   "source": [
    "mo.Deaths.sum()"
   ]
  },
  {
   "cell_type": "code",
   "execution_count": null,
   "metadata": {},
   "outputs": [],
   "source": [
    "uri = (\"https://results.mo.gov/t/COVID19/views/COVID-19DataforDownload/MetricsbyDateofDeath.csv\")\n",
    "pandas.read_csv(uri).iloc[-1:, :]"
   ]
  },
  {
   "cell_type": "code",
   "execution_count": null,
   "metadata": {},
   "outputs": [],
   "source": [
    "uri = download_path('CA_Deaths.csv')\n",
    "ca = pandas.read_csv(uri, parse_dates=['date'])\n",
    "ca.date = [pandas.Period(x, freq='D') for x in ca.date]\n",
    "ca.groupby('date').sum().tail(30)"
   ]
  },
  {
   "cell_type": "code",
   "execution_count": null,
   "metadata": {},
   "outputs": [],
   "source": []
  },
  {
   "cell_type": "code",
   "execution_count": null,
   "metadata": {},
   "outputs": [],
   "source": []
  },
  {
   "cell_type": "code",
   "execution_count": null,
   "metadata": {},
   "outputs": [],
   "source": [
    "uri = './DateOfDeath.xlsx'\n",
    "az = pandas.read_excel(uri, sheet_name='Arizona', parse_dates=['Date'])\n",
    "az = az[['Date', 'Deaths']].copy()\n",
    "az"
   ]
  },
  {
   "cell_type": "code",
   "execution_count": null,
   "metadata": {},
   "outputs": [],
   "source": []
  },
  {
   "cell_type": "code",
   "execution_count": null,
   "metadata": {},
   "outputs": [],
   "source": []
  },
  {
   "cell_type": "code",
   "execution_count": null,
   "metadata": {},
   "outputs": [],
   "source": []
  },
  {
   "cell_type": "code",
   "execution_count": null,
   "metadata": {},
   "outputs": [],
   "source": []
  },
  {
   "cell_type": "code",
   "execution_count": null,
   "metadata": {},
   "outputs": [],
   "source": []
  },
  {
   "cell_type": "code",
   "execution_count": null,
   "metadata": {},
   "outputs": [],
   "source": []
  },
  {
   "cell_type": "code",
   "execution_count": null,
   "metadata": {},
   "outputs": [],
   "source": [
    "uri = \"/Users/patrick/Downloads/COVID-19 Rhode Island Data.xlsx\"\n",
    "pandas.read_excel(uri, sheet_name='Trends', parse_dates=['Date'])[['Date', 'Date of death']].copy()"
   ]
  },
  {
   "cell_type": "code",
   "execution_count": null,
   "metadata": {},
   "outputs": [],
   "source": []
  },
  {
   "cell_type": "code",
   "execution_count": null,
   "metadata": {},
   "outputs": [],
   "source": []
  },
  {
   "cell_type": "code",
   "execution_count": null,
   "metadata": {},
   "outputs": [],
   "source": [
    "uri = (\"https://data.ct.gov/api/views/abag-bjkj/rows.csv?accessType=DOWNLOAD\")\n",
    "pandas.read_csv(uri, parse_dates=['Date of death'])[['Date of death', 'Total deaths']].sort_values('Date of death')\n"
   ]
  },
  {
   "cell_type": "code",
   "execution_count": null,
   "metadata": {},
   "outputs": [],
   "source": []
  },
  {
   "cell_type": "code",
   "execution_count": null,
   "metadata": {},
   "outputs": [],
   "source": []
  },
  {
   "cell_type": "code",
   "execution_count": null,
   "metadata": {},
   "outputs": [],
   "source": [
    "uri = (\"https://results.mo.gov/t/COVID19/views/COVID-19DataforDownload/MetricsbyDateofDeath.csv\")\n",
    "mo = pandas.read_csv(uri).iloc[1:-1, :][['Dod', 'Measure Values']].copy()\n",
    "mo.columns = ['Date', 'Daily']\n",
    "mo.Date = [pandas.Period(str(v), freq='D') for v in mo.Date]\n",
    "mo = mo[mo.Date >= pandas.Period('2020-01-01', freq='D')]\n",
    "mo.Daily = [int(x) for x in mo.Daily]\n",
    "mo['Deaths'] = mo.Daily.cumsum()\n",
    "mo.head()"
   ]
  },
  {
   "cell_type": "code",
   "execution_count": null,
   "metadata": {},
   "outputs": [],
   "source": []
  },
  {
   "cell_type": "code",
   "execution_count": null,
   "metadata": {},
   "outputs": [],
   "source": []
  },
  {
   "cell_type": "code",
   "execution_count": null,
   "metadata": {},
   "outputs": [],
   "source": [
    "uri = (\"https://data.virginia.gov/api/views/9d6i-p8gz/rows.csv?accessType=DOWNLOAD\")\n",
    "va = pandas.read_csv(uri, parse_dates=['Event Date'])[['Event Date', 'Number of Deaths']].copy()\n",
    "va = va.groupby('Event Date').sum().reset_index().sort_values('Event Date')\n",
    "va.columns = ['Date', 'Daily']\n",
    "va['Deaths'] = va.Daily.cumsum()\n",
    "va.tail(40)"
   ]
  },
  {
   "cell_type": "code",
   "execution_count": null,
   "metadata": {},
   "outputs": [],
   "source": []
  },
  {
   "cell_type": "code",
   "execution_count": null,
   "metadata": {},
   "outputs": [],
   "source": []
  },
  {
   "cell_type": "code",
   "execution_count": null,
   "metadata": {},
   "outputs": [],
   "source": []
  },
  {
   "cell_type": "code",
   "execution_count": null,
   "metadata": {},
   "outputs": [],
   "source": [
    "uri = \"/Users/patrick/Downloads/Nevada Dashboard Extract.xlsx\"\n",
    "nv = pandas.read_excel(uri, sheet_name='Deaths', skiprows=2).iloc[:, [0, 1, 2]].copy()\n",
    "nv.columns = ['Date', 'Daily', 'Deaths']\n",
    "unknown_deaths = nv[nv.Date == 'Unknown'].Daily.iloc[0]\n",
    "nv = nv[nv.Date != 'Unknown'].copy()\n",
    "nv.Date = [pandas.Period(v, freq='D') for v in nv.Date]\n",
    "nv = nv.sort_values('Date')\n",
    "total_deaths = nv.iloc[-1, -1]\n",
    "nv.Deaths = nv.Deaths * ((total_deaths + unknown_deaths) / total_deaths)\n",
    "nv.tail(40)"
   ]
  },
  {
   "cell_type": "code",
   "execution_count": null,
   "metadata": {},
   "outputs": [],
   "source": []
  },
  {
   "cell_type": "code",
   "execution_count": null,
   "metadata": {},
   "outputs": [],
   "source": []
  },
  {
   "cell_type": "code",
   "execution_count": null,
   "metadata": {},
   "outputs": [],
   "source": []
  },
  {
   "cell_type": "code",
   "execution_count": null,
   "metadata": {},
   "outputs": [],
   "source": [
    "uri = (\"https://opendata.arcgis.com/datasets/859602b5d427456f821de3830f89301c_11.csv?\"\n",
    "       \"outSR=%7B%22latestWkid%22%3A3857%2C%22wkid%22%3A102100%7D\")\n",
    "wi = pandas.read_csv(uri, parse_dates=['DATE'])[['DATE', 'DEATHS']].copy()\n",
    "wi.columns = ['Date', 'Deaths']\n",
    "wi.Date = [pandas.Period(v.date(), freq='D') for v in wi.Date]\n",
    "wi = wi.sort_values('Date')\n",
    "wi['Daily'] = wi.Deaths - wi.Deaths.shift()\n",
    "wi.tail(40)"
   ]
  },
  {
   "cell_type": "code",
   "execution_count": null,
   "metadata": {},
   "outputs": [],
   "source": []
  },
  {
   "cell_type": "code",
   "execution_count": null,
   "metadata": {},
   "outputs": [],
   "source": []
  },
  {
   "cell_type": "code",
   "execution_count": null,
   "metadata": {},
   "outputs": [],
   "source": [
    "uri = (\"https://hub.mph.in.gov/dataset/6bcfb11c-6b9e-44b2-be7f-a2910d28949a/resource/\"\n",
    "       \"7661f008-81b5-4ff2-8e46-f59ad5aad456/download/covid_report_death_date_agegrp.xlsx\")\n",
    "in_ = pandas.read_excel(uri, parse_dates=['date'])[['date', 'covid_deaths']].copy()\n",
    "in_ = in_.groupby('date').sum().reset_index()\n",
    "in_['Deaths'] = in_.covid_deaths.cumsum()\n",
    "in_.columns = ['Date', 'Daily', 'Deaths']\n",
    "in_.tail(40)"
   ]
  },
  {
   "cell_type": "code",
   "execution_count": null,
   "metadata": {},
   "outputs": [],
   "source": []
  },
  {
   "cell_type": "code",
   "execution_count": null,
   "metadata": {},
   "outputs": [],
   "source": []
  },
  {
   "cell_type": "code",
   "execution_count": null,
   "metadata": {},
   "outputs": [],
   "source": [
    "uri = (\"https://www.michigan.gov/documents/coronavirus/\"\n",
    "       \"Cases_and_Deaths_by_County_and_by_Date_of_Symptom_Onset_or_by_Date_of_Death2021-01-18_713236_7.xlsx\")\n",
    "mi = pandas.read_excel(uri, parse_dates=['Date'])\n",
    "mi"
   ]
  },
  {
   "cell_type": "code",
   "execution_count": null,
   "metadata": {},
   "outputs": [],
   "source": [
    "df = mi.groupby('Date').sum()[['Deaths.Cumulative']].reset_index()\n",
    "df.columns = ['Date', 'Deaths']\n",
    "df.tail(40)"
   ]
  },
  {
   "cell_type": "code",
   "execution_count": null,
   "metadata": {},
   "outputs": [],
   "source": []
  },
  {
   "cell_type": "code",
   "execution_count": null,
   "metadata": {},
   "outputs": [],
   "source": []
  },
  {
   "cell_type": "code",
   "execution_count": null,
   "metadata": {},
   "outputs": [],
   "source": [
    "uri = \"https://www.mass.gov/doc/covid-19-raw-data-january-19-2021/download\"\n",
    "ma = pandas.read_excel(uri)\n",
    "ma"
   ]
  },
  {
   "cell_type": "code",
   "execution_count": null,
   "metadata": {},
   "outputs": [],
   "source": []
  },
  {
   "cell_type": "code",
   "execution_count": null,
   "metadata": {},
   "outputs": [],
   "source": []
  },
  {
   "cell_type": "code",
   "execution_count": null,
   "metadata": {},
   "outputs": [],
   "source": [
    "uri = (\"https://www.tn.gov/content/dam/tn/health/documents/cedep/novel-coronavirus\"\n",
    "       \"/datasets/Public-Dataset-Daily-Case-Info.XLSX\")\n",
    "tn = pandas.read_excel(uri, parse_dates=['DATE'])[['DATE', 'TOTAL_DEATHS_BY_DOD']].copy()\n",
    "tn.columns = ['Date', 'Deaths']\n",
    "tn"
   ]
  },
  {
   "cell_type": "code",
   "execution_count": null,
   "metadata": {},
   "outputs": [],
   "source": []
  },
  {
   "cell_type": "code",
   "execution_count": null,
   "metadata": {},
   "outputs": [],
   "source": []
  },
  {
   "cell_type": "code",
   "execution_count": null,
   "metadata": {},
   "outputs": [],
   "source": []
  },
  {
   "cell_type": "code",
   "execution_count": null,
   "metadata": {},
   "outputs": [],
   "source": [
    "uri = (\"https://public.tableau.com/vizql/w/NCDHHS_COVID-19_DataDownload/v/DailyCasesandDeathsMetrics/vudcsv\"\n",
    "       \"/sessions/37B9DB62168E442FA0310335A1D650EA-0:0/views/13567890650596151931_671940180619205164?summary=true\")\n",
    "nc = pandas.read_csv('/Users/patrick/Downloads/TABLE_DAILY_CASE&DEATHS_METRICS_data.csv',\n",
    "                     encoding='utf_16', sep='\\t', parse_dates=['Date'])[['Date', 'Measure Values']]\n",
    "nc = nc.set_index('Date').sort_index()\n",
    "nc['Deaths'] = nc['Measure Values'].fillna(0.0).cumsum()\n",
    "nc = nc.reset_index()[['Date', 'Deaths']].copy()\n",
    "nc.tail(20)"
   ]
  },
  {
   "cell_type": "code",
   "execution_count": null,
   "metadata": {},
   "outputs": [],
   "source": [
    "nc"
   ]
  },
  {
   "cell_type": "code",
   "execution_count": null,
   "metadata": {},
   "outputs": [],
   "source": []
  },
  {
   "cell_type": "code",
   "execution_count": null,
   "metadata": {},
   "outputs": [],
   "source": []
  },
  {
   "cell_type": "code",
   "execution_count": null,
   "metadata": {},
   "outputs": [],
   "source": [
    "fl = pandas.read_csv('/Users/patrick/Downloads/Florida_COVID19_Case_Line_Data.csv', parse_dates=['EventDate'])"
   ]
  },
  {
   "cell_type": "code",
   "execution_count": null,
   "metadata": {},
   "outputs": [],
   "source": [
    "df = fl[['Died', 'EventDate']].copy()\n",
    "df = df[df.Died.isin(('Yes', 'Recent'))][['EventDate']].copy()\n",
    "df['Date'] = [pandas.Period(d.date(), freq='D') for d in df.EventDate]\n",
    "df = df.groupby('Date').count().sort_index().cumsum()\n",
    "all_dates = pandas.period_range(start='2020-01-01', end=df.index[-1], freq='D')\n",
    "df = df.reindex(all_dates, method='ffill').fillna(0.0).reset_index()\n",
    "df.columns = ['Date', 'Deaths']\n",
    "df.head()"
   ]
  },
  {
   "cell_type": "code",
   "execution_count": null,
   "metadata": {},
   "outputs": [],
   "source": [
    "df = load_fl_data()"
   ]
  },
  {
   "cell_type": "code",
   "execution_count": null,
   "metadata": {},
   "outputs": [],
   "source": [
    "df['Daily'] = (df.Deaths - df.Deaths.shift())\n",
    "df.tail(30)"
   ]
  },
  {
   "cell_type": "code",
   "execution_count": null,
   "metadata": {},
   "outputs": [],
   "source": []
  },
  {
   "cell_type": "code",
   "execution_count": null,
   "metadata": {},
   "outputs": [],
   "source": [
    "pandas.Period(df.iloc[0, 0].date(), freq='D')"
   ]
  },
  {
   "cell_type": "code",
   "execution_count": null,
   "metadata": {},
   "outputs": [],
   "source": [
    "uri = (\"https://services1.arcgis.com/CY1LXxl9zlJeBuRZ/arcgis/rest/services/\"\n",
    "       \"Florida_COVID19_Case_Line_Data_NEW/FeatureServer/0/query?\"\n",
    "       \"where=Died%20%3D%20%27YES%27%20OR%20Died%20%3D%20%27RECENT%27&\"\n",
    "       \"outFields=EventDate&returnGeometry=false&outSR=4326&f=json\")\n",
    "uri"
   ]
  },
  {
   "cell_type": "code",
   "execution_count": null,
   "metadata": {},
   "outputs": [],
   "source": [
    "response = urllib.request.urlopen(uri)\n",
    "json_bytes = response.read()\n",
    "json_data = json.loads(json_bytes)\n",
    "len(json_data['features'])"
   ]
  },
  {
   "cell_type": "code",
   "execution_count": null,
   "metadata": {},
   "outputs": [],
   "source": [
    "# 10/27/2020, 12:27 PM   is 1603816045000\n",
    "import datetime\n",
    "print(datetime.datetime.fromtimestamp(1603816045))"
   ]
  },
  {
   "cell_type": "code",
   "execution_count": null,
   "metadata": {},
   "outputs": [],
   "source": []
  },
  {
   "cell_type": "code",
   "execution_count": null,
   "metadata": {},
   "outputs": [],
   "source": [
    "uri = \"https://data.pa.gov/api/views/fbgu-sqgp/rows.csv?accessType=DOWNLOAD&bom=true&format=true\"\n",
    "df = pandas.read_csv(uri, parse_dates=['Date of Death'])\n",
    "df = df[df['County Name'] == 'Pennsylvania']\n",
    "df = df[['Date of Death', 'Total Deaths']].copy()\n",
    "df.columns = ['Date', 'Deaths']\n",
    "df = df.sort_values('Date')\n",
    "df.Date = [pandas.Period(str(v), freq='D') for v in df.Date]\n",
    "pre_dates = pandas.period_range('2020-03-01', periods=17, freq='D')\n",
    "df2 = pandas.DataFrame(0.0, index=pre_dates, columns=['Deaths']).reset_index()\n",
    "df2.columns = ['Date', 'Deaths']\n",
    "final = pandas.concat([df2, df]).sort_values('Date')\n",
    "final.tail(20)"
   ]
  },
  {
   "cell_type": "code",
   "execution_count": null,
   "metadata": {},
   "outputs": [],
   "source": []
  },
  {
   "cell_type": "code",
   "execution_count": null,
   "metadata": {},
   "outputs": [],
   "source": [
    "uri = \"https://dshs.texas.gov/coronavirus/TexasCOVID19DailyCountyFatalityCountData.xlsx\"\n",
    "df = pandas.read_excel(uri, skiprows=2)\n",
    "df = df[df['County Name'] == 'Total'].copy()\n",
    "num_cols = len(df.columns)\n",
    "df = df.iloc[0, 1:]\n",
    "index = pandas.period_range('2020-03-07', periods=len(df), freq='D')\n",
    "df = pandas.DataFrame(df.values, index=index).reset_index()\n",
    "df.columns = ['Date', 'Deaths']\n"
   ]
  },
  {
   "cell_type": "code",
   "execution_count": null,
   "metadata": {},
   "outputs": [],
   "source": []
  },
  {
   "cell_type": "code",
   "execution_count": null,
   "metadata": {},
   "outputs": [],
   "source": [
    "georgia_uri = \"https://ga-covid19.ondemand.sas.com/docs/ga_covid_data.zip\""
   ]
  },
  {
   "cell_type": "code",
   "execution_count": null,
   "metadata": {},
   "outputs": [],
   "source": [
    "df = download_zipped_df(georgia_uri, 'epicurve_symptom_date.csv', parse_dates=['symptom date'])"
   ]
  },
  {
   "cell_type": "code",
   "execution_count": null,
   "metadata": {},
   "outputs": [],
   "source": [
    "df = df[df.measure == 'state_total'][['symptom date', 'cases', 'deaths']].copy()\n",
    "df.columns = ['Date', 'Cases', 'Deaths']\n",
    "df = df.set_index('Date')\n",
    "df"
   ]
  },
  {
   "cell_type": "code",
   "execution_count": null,
   "metadata": {},
   "outputs": [],
   "source": [
    "raise ValueError()"
   ]
  },
  {
   "cell_type": "code",
   "execution_count": null,
   "metadata": {},
   "outputs": [],
   "source": [
    "dash_uri_pattern = \"https://www.mass.gov/doc/covid-19-dashboard-%s/download\"\n",
    "raw_uri_pattern = \"https://www.mass.gov/doc/covid-19-raw-data-%s/download\""
   ]
  },
  {
   "cell_type": "code",
   "execution_count": null,
   "metadata": {},
   "outputs": [],
   "source": [
    "dt = (datetime.datetime.now() - datetime.timedelta(hours=16)).date()\n",
    "dt = dt.strftime(\"%b-%d-%Y\").lower()\n",
    "dash_uri = dash_uri_pattern % dt\n",
    "raw_uri = raw_uri_pattern % dt\n",
    "print(dash_uri)\n",
    "print(raw_uri)\n"
   ]
  },
  {
   "cell_type": "code",
   "execution_count": null,
   "metadata": {},
   "outputs": [],
   "source": [
    "buffer = requests.get(raw_uri_pattern).content\n",
    "buffer[:10]"
   ]
  },
  {
   "cell_type": "code",
   "execution_count": null,
   "metadata": {},
   "outputs": [],
   "source": [
    "import io\n",
    "import urllib\n",
    "import zipfile\n",
    "\n",
    "# retrieve list of URLs from the webservers\n",
    "response = urllib.request.urlopen(raw_uri)\n",
    "zippedData = response.read()\n",
    "\n",
    "# myzipfile = zipfile.ZipFile(StringIO(zippedData))\n",
    "myzipfile = zipfile.ZipFile(io.BytesIO(zippedData))\n",
    "\n",
    "foofile = myzipfile.open('epicurve_symptom_date.csv')"
   ]
  },
  {
   "cell_type": "code",
   "execution_count": null,
   "metadata": {},
   "outputs": [],
   "source": [
    "df = pandas.read_csv(foofile, parse_dates=['symptom date'])\n",
    "df"
   ]
  },
  {
   "cell_type": "code",
   "execution_count": null,
   "metadata": {},
   "outputs": [],
   "source": [
    "df = df[df.measure == 'state_total'][['symptom date', 'cases', 'deaths']].copy()\n",
    "df.columns = ['Date', 'Cases', 'Deaths']\n",
    "df = df.set_index('Date')\n",
    "df"
   ]
  },
  {
   "cell_type": "code",
   "execution_count": null,
   "metadata": {},
   "outputs": [],
   "source": []
  }
 ],
 "metadata": {
  "kernelspec": {
   "display_name": "Python 3",
   "language": "python",
   "name": "python3"
  },
  "language_info": {
   "codemirror_mode": {
    "name": "ipython",
    "version": 3
   },
   "file_extension": ".py",
   "mimetype": "text/x-python",
   "name": "python",
   "nbconvert_exporter": "python",
   "pygments_lexer": "ipython3",
   "version": "3.9.0"
  }
 },
 "nbformat": 4,
 "nbformat_minor": 2
}
