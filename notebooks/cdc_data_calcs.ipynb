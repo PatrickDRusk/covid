{
 "cells": [
  {
   "cell_type": "markdown",
   "metadata": {},
   "source": [
    "# Calculating state-by-state implied infection numbers"
   ]
  },
  {
   "cell_type": "markdown",
   "metadata": {},
   "source": [
    "This notebook tries to compute what the full infection numbers in the past and present likely were/are.\n",
    "\n",
    "It does so in the past by blending variables for \"median days from infection to death\" and \"infection fatility rate\" (IFR) with smoothed death rates. In other words, days_to_death days before date D, there must have been roughly (deaths_on_date_D / IFR) infections to end up with a given number of deaths on date D.\n",
    "\n",
    "When looking at the most recent days_to_death days, it looks up what percentage of infections were confirmed on the last day calculated in the past, and applies that percentage to the new infections found since then. It normalizes a bit by the amount of testing done on each day to try to handle significant ramping up/down of testing during that time, but the recent projections are admittedly sketchy.\n",
    "\n",
    "As of December 2021, the data is entirely drawn from two CDC data sets:\n",
    "* Deaths (https://data.cdc.gov/api/views/r8kw-7aab/rows.csv?accessType=DOWNLOAD)\n",
    "* Hospitalizations (https://beta.healthdata.gov/api/views/g62h-syeh/rows.csv?accessType=DOWNLOAD)\n",
    "\n",
    "#### LOCALIZATION REQUIRED:\n",
    "\n",
    "Look at the `cdc_common.py` file and modify the `download_path()` function to provide a useful place to store some temporary files created in the process of running. It used to expect downloaded files to be there, but now just stores pickle files for caching data."
   ]
  },
  {
   "cell_type": "code",
   "execution_count": null,
   "metadata": {},
   "outputs": [],
   "source": [
    "%matplotlib inline\n",
    "import os\n",
    "import time\n",
    "from datetime import datetime\n",
    "\n",
    "import numpy\n",
    "import pandas\n",
    "import matplotlib\n",
    "import matplotlib.pyplot as plt\n",
    "# import scipy.stats\n",
    "\n",
    "import cdc_common\n",
    "from cdc_common import load_data, DOD_META, get_infections_df, download_path, load_hospital_stats\n",
    "\n",
    "# change the cell width\n",
    "from IPython.core.display import display, HTML\n",
    "display(HTML(\"<style>.container { width:100% !important; }</style>\"))\n",
    "\n",
    "pandas.set_option('display.max_rows', 1000)\n",
    "pandas.set_option('display.max_columns', 1000)\n",
    "pandas.set_option('display.width', 1000)"
   ]
  },
  {
   "cell_type": "code",
   "execution_count": null,
   "metadata": {},
   "outputs": [],
   "source": [
    "EARLIEST_DATE = pandas.Period('2020-03-01', freq='D')\n",
    "\n",
    "# Set a latest date when the most recent days have garbage (like on or after holidays)\n",
    "LATEST_DATE = pandas.Period('2020-12-23', freq='D')\n",
    "LATEST_DATE = pandas.Period('2021-12-08', freq='D')\n",
    "LATEST_DATE = None\n",
    "\n",
    "# Set a number of recent days to not display in the graphs for lack of future days to smooth them\n",
    "NON_DISPLAY_DAYS = 0"
   ]
  },
  {
   "cell_type": "code",
   "execution_count": null,
   "metadata": {
    "scrolled": false
   },
   "outputs": [],
   "source": [
    "latest_date, meta, all_stats, cdc_stats, hosp_stats = load_data(EARLIEST_DATE, LATEST_DATE)\n",
    "latest_displayed = latest_date - NON_DISPLAY_DAYS\n",
    "print(f\"Latest date = {str(latest_date)}; latest displayed = {str(latest_displayed)}\")"
   ]
  },
  {
   "cell_type": "code",
   "execution_count": null,
   "metadata": {},
   "outputs": [],
   "source": [
    "latest_displayed = latest_date - NON_DISPLAY_DAYS"
   ]
  },
  {
   "cell_type": "markdown",
   "metadata": {},
   "source": [
    "## Calc Estimated Infections"
   ]
  },
  {
   "cell_type": "code",
   "execution_count": null,
   "metadata": {},
   "outputs": [],
   "source": [
    "# Median number of days between being exposed and developing illness\n",
    "INCUBATION = 4\n",
    "\n",
    "# Number of days one is infectious (this isn't actually used yet)\n",
    "INFECTIOUS = 10\n",
    "\n",
    "# Median days in between exposure and death\n",
    "DEATH_LAG = 19"
   ]
  },
  {
   "cell_type": "code",
   "execution_count": null,
   "metadata": {},
   "outputs": [],
   "source": [
    "# Here is where you set variables for IFR assumptions\n",
    "\n",
    "# Note that this IFR represents a country-wide average on any given day, but the IFRs\n",
    "# are actually adjusted up/down based on median age and nursing home residents per capita\n",
    "\n",
    "# This set represents my worst case scenario (in my 95% CI interval)\n",
    "# Start by setting the inital and final IFRs\n",
    "IFR_S, IFR_E = 0.013, 0.006\n",
    "# Then set dates in between by which it linearly scales to various targets\n",
    "IFR_BREAKS = [['2020-04-30', 0.0095], ['2020-07-31', 0.007], ['2020-09-15', 0.006]]\n",
    "\n",
    "# This set is my optimistic scenario\n",
    "IFR_S, IFR_E = 0.01, 0.0025\n",
    "IFR_BREAKS = [['2020-04-30', 0.0075], ['2020-07-31', 0.0045], ['2020-09-15', 0.0025]]\n",
    "\n",
    "# This set is a highly optimistic scenario that matches the recent CDC data\n",
    "IFR_S, IFR_E = 0.009, 0.002\n",
    "IFR_BREAKS = [['2020-04-30', 0.007], ['2020-07-31', 0.003], ['2020-09-15', 0.002]]\n",
    "\n",
    "# This is my expected scenario\n",
    "IFR_S, IFR_E = 0.01, 0.005\n",
    "IFR_BREAKS = [['2020-04-30', 0.0085], ['2020-07-31', 0.005], ['2020-09-15', 0.004], ['2021-01-15', 0.004],\n",
    "              ['2021-06-01', 0.0025]]\n",
    "\n",
    "# This is my expected scenario\n",
    "IFR_S, IFR_E = 0.014, 0.004\n",
    "IFR_BREAKS = [['2020-04-30', 0.011], ['2020-07-31', 0.009], ['2020-09-15', 0.007], ['2021-01-15', 0.0055],\n",
    "              ['2021-06-01', 0.0045]]\n",
    "\n",
    "# This is my expected scenario\n",
    "IFR_S, IFR_E = 0.013, 0.003\n",
    "IFR_BREAKS = [['2020-04-30', 0.01], ['2020-07-31', 0.0085], ['2020-09-15', 0.007], ['2021-01-15', 0.0055],\n",
    "              ['2021-06-01', 0.004], ['2021-09-01', IFR_E]]\n",
    "\n",
    "# This is my expected scenario\n",
    "IFR_S, IFR_E = 0.013, 0.001\n",
    "IFR_BREAKS = [['2020-04-30', 0.01], ['2020-07-31', 0.0085], ['2020-09-15', 0.007], ['2021-01-15', 0.006],\n",
    "              ['2021-06-01', 0.0045], ['2021-09-01', 0.0035], ['2021-11-15', 0.0025], ['2021-12-10', 0.0015]]"
   ]
  },
  {
   "cell_type": "code",
   "execution_count": null,
   "metadata": {
    "scrolled": true
   },
   "outputs": [],
   "source": [
    "print(\"These are the factors applied against IFR state-by-state, based on median age and nursing home numbers:\")\n",
    "IFR_S_S, IFR_E_S = f'{100*IFR_S:.1f}%', f'{100*IFR_E:.2f}%'\n",
    "infected_states = get_infections_df(all_stats, meta, DEATH_LAG, IFR_S, IFR_E, IFR_BREAKS, INCUBATION, INFECTIOUS)\n",
    "EST_LINE = str(latest_date - (DEATH_LAG - 1))\n",
    "print(f\"Total infected by {latest_date}: {int(infected_states.NewInf.sum()):,}\")\n",
    "print(f\"Vertical line marking recent estimations set at {EST_LINE}\")"
   ]
  },
  {
   "cell_type": "code",
   "execution_count": null,
   "metadata": {},
   "outputs": [],
   "source": [
    "infected_states.tail()"
   ]
  },
  {
   "cell_type": "markdown",
   "metadata": {},
   "source": [
    "## Now for the charts"
   ]
  },
  {
   "cell_type": "code",
   "execution_count": null,
   "metadata": {},
   "outputs": [],
   "source": [
    "# Just nicking off the values we don't want to display here\n",
    "fazzy = infected_states.reset_index()\n",
    "fazzy = fazzy[fazzy.Date <= latest_displayed]\n",
    "fazzy = fazzy.set_index(['ST', 'Date'])\n",
    "infected_states = fazzy"
   ]
  },
  {
   "cell_type": "code",
   "execution_count": null,
   "metadata": {},
   "outputs": [],
   "source": [
    "fazzle = infected_states.reset_index()[['Date', 'NewHosp', 'Daily']].groupby('Date').sum()\n",
    "fazzle.columns = ['New Hospitalizations', 'Deaths']\n",
    "fazzle.loc[:'2020-07-31', 'New Hospitalizations'] = numpy.nan\n",
    "fazzle = fazzle.loc[:str(latest_date), :]\n",
    "fimble = fazzle.loc['2020-07-31':str(latest_date), :]\n",
    "fimble = fazzle.loc[:str(latest_date), :]\n",
    "fam = fimble.plot(\n",
    "    title=f\"New Hospitalizations vs. Daily Deaths\",\n",
    "    secondary_y='Deaths', figsize=(25,5), ylim=0)\n",
    "axes = fam.get_figure().get_axes()\n",
    "for i in range(len(axes)):\n",
    "    axes[i].set_ylim(0)\n",
    "# BIDEN_LINE = pandas.Period('2021-01-22', freq='D')\n",
    "# foo = fam.axvline(BIDEN_LINE, color=\"red\", linestyle=\"--\")"
   ]
  },
  {
   "cell_type": "code",
   "execution_count": null,
   "metadata": {},
   "outputs": [],
   "source": [
    "fazzle.iloc[15:, :]"
   ]
  },
  {
   "cell_type": "code",
   "execution_count": null,
   "metadata": {},
   "outputs": [],
   "source": [
    "fazzle['New Hospitalizations'].max(), fazzle.Deaths.max(), fazzle.Deaths.sum()"
   ]
  },
  {
   "cell_type": "code",
   "execution_count": null,
   "metadata": {},
   "outputs": [],
   "source": [
    "infected_states.columns"
   ]
  },
  {
   "cell_type": "code",
   "execution_count": null,
   "metadata": {},
   "outputs": [],
   "source": [
    "df = infected_states.reset_index()\n",
    "# df = df[df.Date < DT]\n",
    "print(f\"{df.NewInf.sum()}, {(df.NewInf.sum()/327_000_000)}\")"
   ]
  },
  {
   "cell_type": "code",
   "execution_count": null,
   "metadata": {},
   "outputs": [],
   "source": [
    "fizzle = infected_states.reset_index()[['Date', 'NewInf', 'Daily']].groupby('Date').sum().copy()\n",
    "fizzle.columns = ['New Infections', 'Deaths']\n",
    "fizzle = fizzle.loc['2021-11-12':, :]\n",
    "fam = fizzle.plot(\n",
    "    title=f\"New Infections vs. Daily Deaths\",\n",
    "    secondary_y='Deaths', figsize=(25,5), ylim=0)\n",
    "\n",
    "axes = fam.get_figure().get_axes()\n",
    "for i in range(len(axes)):\n",
    "    axes[i].set_ylim(0)"
   ]
  },
  {
   "cell_type": "code",
   "execution_count": null,
   "metadata": {
    "scrolled": true
   },
   "outputs": [],
   "source": [
    "fizzle.loc['2020-09-05':, :]"
   ]
  },
  {
   "cell_type": "code",
   "execution_count": null,
   "metadata": {
    "scrolled": false
   },
   "outputs": [],
   "source": [
    "fizzle = infected_states.reset_index()[['Date', 'CurrHosp', 'Daily']].groupby('Date').sum().copy()\n",
    "fizzle.columns = ['Hospitalizations', 'Deaths']\n",
    "fizzle.loc[:'2020-07-31', 'Hospitalizations'] = numpy.nan\n",
    "fam = fizzle.plot(\n",
    "    title=f\"Current Hospitalizations vs. Daily Deaths\",\n",
    "    secondary_y='Deaths', figsize=(25,5), ylim=0)\n",
    "\n",
    "axes = fam.get_figure().get_axes()\n",
    "for i in range(len(axes)):\n",
    "    axes[i].set_ylim(0)"
   ]
  },
  {
   "cell_type": "code",
   "execution_count": null,
   "metadata": {},
   "outputs": [],
   "source": [
    "fizzle"
   ]
  },
  {
   "cell_type": "code",
   "execution_count": null,
   "metadata": {
    "scrolled": false
   },
   "outputs": [],
   "source": [
    "# This is where I noodle around to investigate particular states of interest\n",
    "\n",
    "# This next line lists all 51 (DC included)\n",
    "st_names = list(infected_states.index.get_level_values(0).unique())\n",
    "st_names = ['CA', 'DC', 'MA', 'NM', 'NY', 'VA', ]\n",
    "grouper, group_name = 'CurrHosp', 'Current Hospitalizations'\n",
    "grouper, group_name = 'NHospPerM', 'New Hospitalizations/M'\n",
    "num_plots = max(len(st_names), 2)\n",
    "fig, axes = plt.subplots(num_plots, figsize=(25, 5*num_plots))\n",
    "for i, st in enumerate(st_names):\n",
    "    est_lag = DOD_META.get(st, (None, DEATH_LAG))[1]\n",
    "    est_line = str(latest_date - (est_lag - 1))\n",
    "    data = infected_states.loc[st, :].reset_index()[['Date', grouper, 'DPerM']].copy()\n",
    "    # data = infected_states.loc[st, :].reset_index()[['Date', 'CurrHosp']].copy()\n",
    "    data = data[data.Date >= '2020-08-01']\n",
    "    data.columns = ['Date', group_name, 'Deaths/M']\n",
    "    data = data.groupby('Date').sum()\n",
    "    data.loc[:'2020-07-31', group_name] = numpy.nan\n",
    "    # data.columns = ['Date', 'Hospitalizations']\n",
    "    fam = data.plot(\n",
    "        ax=axes[i], title=st, ylim=0, secondary_y='Deaths/M',\n",
    "    )\n",
    "    fam.axvline(est_line, color=\"red\", linestyle=\"--\")\n",
    "    # fam.axvline('2021-09-10', color=\"red\", linestyle=\"--\")\n",
    "\n",
    "axes = fam.get_figure().get_axes()\n",
    "for i in range(len(axes)):\n",
    "    axes[i].set_xlabel(None)\n",
    "    if i < len(axes)/2:\n",
    "        axes[i].set_ylim(0, 150)\n",
    "    else:\n",
    "        axes[i].set_ylim(0, 26)"
   ]
  },
  {
   "cell_type": "code",
   "execution_count": null,
   "metadata": {},
   "outputs": [],
   "source": []
  },
  {
   "cell_type": "code",
   "execution_count": null,
   "metadata": {
    "scrolled": true
   },
   "outputs": [],
   "source": [
    "# I usually will set this back about 10 days because I don't trust the estimated infections too much\n",
    "DT = str(latest_date - 10)\n",
    "term = 'NIPerM'\n",
    "divisor = 10000 # 10000 to convert NIPerM to total percentage ever infected\n",
    "ni = infected_states.reset_index()[['ST', 'Date', term]].copy()\n",
    "ni = ni[ni.Date < DT].copy()\n",
    "ni = (ni.groupby('ST').sum()[term].sort_values(ascending=False) / divisor)\n",
    "# for v in ni.sort_index().values:\n",
    "#     print(v/100)\n",
    "ni"
   ]
  },
  {
   "cell_type": "code",
   "execution_count": null,
   "metadata": {},
   "outputs": [],
   "source": [
    "infected_states.Daily.sum()"
   ]
  },
  {
   "cell_type": "code",
   "execution_count": null,
   "metadata": {},
   "outputs": [],
   "source": [
    "# raise ValueError()"
   ]
  },
  {
   "cell_type": "markdown",
   "metadata": {
    "slideshow": {
     "slide_type": "slide"
    }
   },
   "source": [
    "## Detritus"
   ]
  },
  {
   "cell_type": "code",
   "execution_count": null,
   "metadata": {},
   "outputs": [],
   "source": [
    "infected_states.reset_index().columns"
   ]
  },
  {
   "cell_type": "code",
   "execution_count": null,
   "metadata": {
    "scrolled": false
   },
   "outputs": [],
   "source": [
    "grouper, col, per_m, title, cutoff = 'Voting', 'NewHosp', 'NHospPerM', 'New Hospitalizations', '2020-08-15'\n",
    "grouper, col, per_m, title, cutoff = 'Region', 'Daily', 'DPerM', 'Daily Deaths', '2020-03-10'\n",
    "fam = infected_states\n",
    "# fam = fam[fam[grouper].isin(['NE', 'RedSouth'])]\n",
    "fam = fam.reset_index().groupby(['Date', grouper]).sum().loc[:, [col, 'Pop',]]\n",
    "fam[per_m] = fam[col] / fam.Pop\n",
    "fam = fam.loc[cutoff:, :]\n",
    "foo = pandas.pivot_table(fam, values=per_m, index=['Date'],\n",
    "                         columns=grouper).plot(title=f\"{title}/Million by {grouper}\",\n",
    "                                                 figsize=(25,5))\n",
    "fam = fam.reset_index().groupby(grouper).agg({col: 'sum', 'Pop': 'mean'})\n",
    "fam[per_m] = fam[col] / fam.Pop\n",
    "fam = fam.sort_values(['DPerM'], ascending=False)\n",
    "fam.columns = ['Total Deaths', 'Population', 'Deaths/Million']\n",
    "fam"
   ]
  },
  {
   "cell_type": "code",
   "execution_count": null,
   "metadata": {},
   "outputs": [],
   "source": [
    "fam = infected_states.reset_index()\n",
    "fam['Area'] = fam.ST.apply(lambda x: 'MA' if x == 'MA' else 'Rest')\n",
    "grouper, col, per_m, title, cutoff = 'Area', 'Daily', 'DPerM', 'Daily Deaths', '2020-03-10'\n",
    "fam = fam.groupby(['Date', grouper]).sum().loc[:, [col, 'Pop',]]\n",
    "fam[per_m] = fam[col] / fam.Pop\n",
    "fam = fam.loc[cutoff:, :]\n",
    "foo = pandas.pivot_table(fam, values=per_m, index=['Date'],\n",
    "                         columns=grouper).plot(title=f\"{title}/Million by {grouper}\",\n",
    "                                                 figsize=(25,5))\n",
    "fam = fam.reset_index().groupby(grouper).agg({col: 'sum', 'Pop': 'mean'})\n",
    "fam[per_m] = fam[col] / fam.Pop\n",
    "fam"
   ]
  },
  {
   "cell_type": "code",
   "execution_count": null,
   "metadata": {},
   "outputs": [],
   "source": [
    "infected_states.loc['DC', :].Daily.sum()"
   ]
  },
  {
   "cell_type": "code",
   "execution_count": null,
   "metadata": {},
   "outputs": [],
   "source": [
    "infected_states.loc['DC', :].loc['2021-12-01':'2021-12-31', ['Daily', 'NewHosp', 'CurrHosp', 'DPerM']].Daily.sum()"
   ]
  },
  {
   "cell_type": "code",
   "execution_count": null,
   "metadata": {},
   "outputs": [],
   "source": []
  },
  {
   "cell_type": "code",
   "execution_count": null,
   "metadata": {},
   "outputs": [],
   "source": [
    "infected_states.columns"
   ]
  },
  {
   "cell_type": "code",
   "execution_count": null,
   "metadata": {},
   "outputs": [],
   "source": [
    "infected_states.reset_index().groupby(['Date']).sum().ActInf.tail(20)"
   ]
  },
  {
   "cell_type": "code",
   "execution_count": null,
   "metadata": {},
   "outputs": [],
   "source": []
  },
  {
   "cell_type": "code",
   "execution_count": null,
   "metadata": {},
   "outputs": [],
   "source": [
    "download_path('data_download_file_reference_2020.csv')"
   ]
  },
  {
   "cell_type": "code",
   "execution_count": null,
   "metadata": {},
   "outputs": [],
   "source": [
    "# df20 = pandas.read_csv(download_path('data_download_file_reference_2020.csv'))\n",
    "# df20 = df20[df20.location_name == 'United States of America'][['date', 'inf_mean', 'inf_cuml_mean', 'cases_mean', 'cumulative_deaths', 'daily_deaths', 'cumulative_cases', ]].copy()\n",
    "# df20"
   ]
  },
  {
   "cell_type": "code",
   "execution_count": null,
   "metadata": {},
   "outputs": [],
   "source": [
    "# df21 = pandas.read_csv(download_path('data_download_file_reference_2021.csv'))\n",
    "# df21 = df21[df21.location_name == 'United States of America'][['date', 'inf_mean', 'inf_cuml_mean', 'cases_mean', 'cumulative_deaths', 'daily_deaths', 'cumulative_cases', ]].copy()\n",
    "# df21"
   ]
  },
  {
   "cell_type": "code",
   "execution_count": null,
   "metadata": {},
   "outputs": [],
   "source": [
    "# df20.inf_mean.sum() + df21.inf_mean.sum()"
   ]
  },
  {
   "cell_type": "code",
   "execution_count": null,
   "metadata": {},
   "outputs": [],
   "source": []
  },
  {
   "cell_type": "code",
   "execution_count": null,
   "metadata": {},
   "outputs": [],
   "source": [
    "int(3.409786 * 100_000_000)"
   ]
  },
  {
   "cell_type": "code",
   "execution_count": null,
   "metadata": {},
   "outputs": [],
   "source": []
  },
  {
   "cell_type": "code",
   "execution_count": null,
   "metadata": {
    "scrolled": true
   },
   "outputs": [],
   "source": [
    "grouper, col, per_m, title, cutoff = 'Area', 'Daily', 'DPerM', 'Daily Deaths', '2020-03-10'\n",
    "grouper, col, per_m, title, cutoff = 'Area', 'Daily', 'DPerM', 'Daily Deaths', '2021-02-01'\n",
    "for st in list(infected_states.index.get_level_values(0).unique()):\n",
    "    fam = infected_states.reset_index()\n",
    "    fam = fam[fam.Date >= cutoff].copy()\n",
    "    fam['Area'] = fam.ST.apply(lambda x: st if x == st else 'Rest')\n",
    "    fam = fam.groupby([grouper, 'Date']).sum().loc[:, [col, 'Pop',]]\n",
    "    fam[per_m] = fam[col] / fam.Pop\n",
    "    fam = fam.loc[cutoff:, ['DPerM']]\n",
    "    print(st, fam.loc[st, 'DPerM'].corr(fam.loc['Rest', 'DPerM']))"
   ]
  },
  {
   "cell_type": "code",
   "execution_count": null,
   "metadata": {},
   "outputs": [],
   "source": [
    "st = 'FL'\n",
    "fam = infected_states.reset_index()\n",
    "fam['Area'] = fam.ST.apply(lambda x: st if x == st else 'Rest')\n",
    "grouper, col, per_m, title, cutoff = 'Area', 'Daily', 'DPerM', 'Daily Deaths', '2020-03-15'\n",
    "fam = fam.groupby(['Date', grouper]).sum().loc[:, [col, 'Pop',]]\n",
    "fam[per_m] = fam[col] / fam.Pop\n",
    "fam = fam.loc[cutoff:, :]\n",
    "foo = pandas.pivot_table(fam, values=per_m, index=['Date'],\n",
    "                         columns=grouper).plot(title=f\"{title}/Million by {grouper}\",\n",
    "                                                 figsize=(25,5))\n",
    "fam = fam.reset_index().groupby(grouper).agg({col: 'sum', 'Pop': 'mean'})\n",
    "fam[per_m] = fam[col] / fam.Pop\n",
    "fam"
   ]
  },
  {
   "cell_type": "code",
   "execution_count": null,
   "metadata": {},
   "outputs": [],
   "source": [
    "infected_states[['Daily', 'NewConf']].reset_index().groupby('Date').sum()"
   ]
  },
  {
   "cell_type": "code",
   "execution_count": null,
   "metadata": {},
   "outputs": [],
   "source": [
    "cases = pandas.read_csv(download_path('cdc_cases.csv'), parse_dates=['submission_date'])\n",
    "cases = cases[['submission_date', 'state', 'new_case', 'pnew_case']].copy()\n",
    "cases.columns = ['Date', 'State', 'RawNew', 'RawProb']\n",
    "cases = cases[~cases.State.isin(['AS', 'FSM', 'GU', 'MP', 'PR', 'PW', 'RMI', 'VI',])]\n",
    "cases['Raw'] = cases.RawNew + cases.RawProb\n",
    "cases = cases.groupby('Date').sum()[['Raw']].sort_index().reset_index()\n",
    "cases.Date = [pandas.Period(x, freq='D') for x in cases.Date]\n",
    "cases = cases.set_index('Date')\n",
    "cases['Cases'] = cases.Raw.rolling(window=7, center=True, min_periods=1).mean()\n",
    "cases = cases[['Cases']].copy()\n",
    "deaths = infected_states[['Daily']].reset_index().groupby('Date').sum()\n",
    "deaths.columns = ['Deaths']\n",
    "foo = deaths.shift(-14)\n",
    "both = pandas.concat([cases, foo], axis=1)\n",
    "both['CFR'] = 100 * both.Deaths / both.Cases\n",
    "both = both[['Deaths', 'CFR']]\n",
    "# both = both.loc['2021-12-23':'2022-02-02', :].copy()\n",
    "# both = both.loc['2021-12-23':'2022-02-02', :].copy()\n",
    "both = both.loc['2021-04-15':, :].iloc[:-13, :].copy()\n",
    "fam = both.plot(\n",
    "    title=f\"US Deaths vs. CFR\",\n",
    "    secondary_y='CFR', figsize=(25,5), ylim=0)"
   ]
  },
  {
   "cell_type": "code",
   "execution_count": null,
   "metadata": {},
   "outputs": [],
   "source": [
    "both.corr()"
   ]
  },
  {
   "cell_type": "code",
   "execution_count": null,
   "metadata": {
    "scrolled": true
   },
   "outputs": [],
   "source": [
    "ma_df = pandas.read_excel('/mnt/c/Users/Patri/OneDrive/COVID/coronavirus.xlsx', sheet_name='MA', header=2).set_index('Date')\n",
    "ma_df = ma_df[['Ctriag7', 'New5', 'Cur5', 'ICU5', 'Int5', 'Dtriag5']].sort_index()\n",
    "ma_df.columns = ['Cases', 'NewHosp', 'CurHosp', 'ICU', 'Intub', 'Deaths']\n",
    "foo = ma_df.loc['2021-02-15':, :][['Cases', 'Deaths']].copy()\n",
    "foo['CFR'] = (foo.Deaths.shift(-14) * 100) / foo.Cases\n",
    "foo = foo.iloc[:-16, :][['Deaths', 'CFR']]\n",
    "fam = foo.plot(\n",
    "    title=f\"Massachusetts Deaths vs. CFR\",\n",
    "    secondary_y='CFR', figsize=(25,5), ylim=0)\n",
    "axes = fam.get_figure().get_axes()\n",
    "for i in range(len(axes)):\n",
    "    axes[i].set_ylim(0)"
   ]
  },
  {
   "cell_type": "code",
   "execution_count": null,
   "metadata": {},
   "outputs": [],
   "source": [
    "owid_orig = pandas.read_csv(download_path('owid-covid-data.csv'), parse_dates=['date'])\n",
    "owid_orig.head(3)"
   ]
  },
  {
   "cell_type": "code",
   "execution_count": null,
   "metadata": {},
   "outputs": [],
   "source": [
    "owid = owid_orig[owid_orig.iso_code == 'USA']\n",
    "owid = owid[['date', 'new_deaths']].copy()\n",
    "owid.date = [pandas.Period(d, freq='D') for d in owid.date]\n",
    "owid = owid.set_index('date').loc['2020-02-29':, :].copy()\n",
    "owid.columns = ['Reported']\n",
    "owid.Reported = owid.Reported.rolling(window=14, center=True, win_type='triang', min_periods=14).mean()\n",
    "owid = owid.dropna()\n",
    "owid"
   ]
  },
  {
   "cell_type": "code",
   "execution_count": null,
   "metadata": {},
   "outputs": [],
   "source": [
    "dod = infected_states[['Daily']].reset_index().groupby('Date').sum()\n",
    "# dod.index = [pandas.Period(d, freq='D') for d in dod.index]\n",
    "dod.columns = ['DoD']\n",
    "dod"
   ]
  },
  {
   "cell_type": "code",
   "execution_count": null,
   "metadata": {},
   "outputs": [],
   "source": [
    "for days in range(20):\n",
    "    d = dod.loc['2021-01-01':'2021-12-31', 'DoD']\n",
    "    r = owid.shift(-days).loc['2021-01-01':'2021-12-31', 'Reported']\n",
    "    print(f\"{days}: {d.corr(r)}\")"
   ]
  },
  {
   "cell_type": "code",
   "execution_count": null,
   "metadata": {},
   "outputs": [],
   "source": [
    "pandas.concat([owid, dod], axis=1)"
   ]
  },
  {
   "cell_type": "code",
   "execution_count": null,
   "metadata": {},
   "outputs": [],
   "source": [
    "dod.DoD.tail(13).sum()"
   ]
  },
  {
   "cell_type": "code",
   "execution_count": null,
   "metadata": {},
   "outputs": [],
   "source": [
    "ma_centiles = (ma_df / (ma_df.max() / 100)).loc['2020-04-06':, :]\n",
    "ma_centiles"
   ]
  },
  {
   "cell_type": "code",
   "execution_count": null,
   "metadata": {},
   "outputs": [],
   "source": [
    "ma_centiles.loc['2020-09-01':, :].plot(figsize=(25,5), ylim=0)"
   ]
  },
  {
   "cell_type": "code",
   "execution_count": null,
   "metadata": {},
   "outputs": [],
   "source": [
    "ma_centiles.loc['2022-03-01':, :].plot(figsize=(25,5), ylim=0)"
   ]
  },
  {
   "cell_type": "code",
   "execution_count": null,
   "metadata": {},
   "outputs": [],
   "source": [
    "ma_df.plot(figsize=(25,5), ylim=0, secondary_y=['Cases', 'CurHosp'])"
   ]
  },
  {
   "cell_type": "code",
   "execution_count": null,
   "metadata": {},
   "outputs": [],
   "source": []
  }
 ],
 "metadata": {
  "kernelspec": {
   "display_name": "Python 3",
   "language": "python",
   "name": "python3"
  },
  "language_info": {
   "codemirror_mode": {
    "name": "ipython",
    "version": 3
   },
   "file_extension": ".py",
   "mimetype": "text/x-python",
   "name": "python",
   "nbconvert_exporter": "python",
   "pygments_lexer": "ipython3",
   "version": "3.9.4"
  }
 },
 "nbformat": 4,
 "nbformat_minor": 2
}
