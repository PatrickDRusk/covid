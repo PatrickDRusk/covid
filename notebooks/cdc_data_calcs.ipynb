{
 "cells": [
  {
   "cell_type": "markdown",
   "metadata": {},
   "source": [
    "# Calculating state-by-state implied infection numbers"
   ]
  },
  {
   "cell_type": "markdown",
   "metadata": {},
   "source": [
    "This notebook tries to compute what the full infection numbers in the past and present likely were/are.\n",
    "\n",
    "It does so in the past by blending variables for \"median days from infection to death\" and \"infection fatility rate\" (IFR) with smoothed death rates. In other words, days_to_death days before date D, there must have been roughly (deaths_on_date_D / IFR) infections to end up with a given number of deaths on date D.\n",
    "\n",
    "When looking at the most recent days_to_death days, it looks up what percentage of infections were confirmed on the last day calculated in the past, and applies that percentage to the new infections found since then. It normalizes a bit by the amount of testing done on each day to try to handle significant ramping up/down of testing during that time, but the recent projections are admittedly sketchy.\n",
    "\n",
    "As of December 2021, the data is entirely drawn from two CDC data sets:\n",
    "* Deaths (https://data.cdc.gov/api/views/r8kw-7aab/rows.csv?accessType=DOWNLOAD)\n",
    "* Hospitalizations (https://beta.healthdata.gov/api/views/g62h-syeh/rows.csv?accessType=DOWNLOAD)\n",
    "\n",
    "#### LOCALIZATION REQUIRED:\n",
    "\n",
    "Look at the `cdc_common.py` file and modify the `download_path()` function to provide a useful place to store some temporary files created in the process of running. It used to expect downloaded files to be there, but now just stores pickle files for caching data."
   ]
  },
  {
   "cell_type": "code",
   "execution_count": null,
   "metadata": {},
   "outputs": [],
   "source": [
    "%matplotlib inline\n",
    "import numpy\n",
    "import pandas\n",
    "import matplotlib\n",
    "import matplotlib.pyplot as plt\n",
    "# import scipy.stats\n",
    "\n",
    "import cdc_common\n",
    "from cdc_common import load_data, DOD_META, get_infections_df, download_path, load_hospital_stats\n",
    "\n",
    "# change the cell width\n",
    "from IPython.core.display import display, HTML\n",
    "display(HTML(\"<style>.container { width:100% !important; }</style>\"))\n",
    "\n",
    "pandas.set_option('display.max_rows', 700)\n",
    "pandas.set_option('display.max_columns', 1000)\n",
    "pandas.set_option('display.width', 1000)"
   ]
  },
  {
   "cell_type": "code",
   "execution_count": null,
   "metadata": {},
   "outputs": [],
   "source": [
    "EARLIEST_DATE = pandas.Period('2020-03-01', freq='D')\n",
    "\n",
    "# Set a latest date when the most recent days have garbage (like on or after holidays)\n",
    "LATEST_DATE = pandas.Period('2020-12-23', freq='D')\n",
    "LATEST_DATE = None\n",
    "LATEST_DATE = pandas.Period('2021-12-08', freq='D')\n",
    "\n",
    "# Set a number of recent days to not display in the graphs for lack of future days to smooth them\n",
    "NON_DISPLAY_DAYS = 0"
   ]
  },
  {
   "cell_type": "code",
   "execution_count": null,
   "metadata": {
    "scrolled": true
   },
   "outputs": [],
   "source": [
    "latest_date, meta, all_stats, cdc_stats, hosp_stats = load_data(EARLIEST_DATE, LATEST_DATE)\n",
    "latest_displayed = latest_date - NON_DISPLAY_DAYS\n",
    "print(f\"Latest date = {str(latest_date)}; latest displayed = {str(latest_displayed)}\")"
   ]
  },
  {
   "cell_type": "code",
   "execution_count": null,
   "metadata": {},
   "outputs": [],
   "source": [
    "latest_displayed = latest_date - NON_DISPLAY_DAYS"
   ]
  },
  {
   "cell_type": "markdown",
   "metadata": {},
   "source": [
    "## Calc Estimated Infections"
   ]
  },
  {
   "cell_type": "code",
   "execution_count": null,
   "metadata": {},
   "outputs": [],
   "source": [
    "# Median number of days between being exposed and developing illness\n",
    "INCUBATION = 4\n",
    "\n",
    "# Number of days one is infectious (this isn't actually used yet)\n",
    "INFECTIOUS = 10\n",
    "\n",
    "# Median days in between exposure and death\n",
    "DEATH_LAG = 19"
   ]
  },
  {
   "cell_type": "code",
   "execution_count": null,
   "metadata": {},
   "outputs": [],
   "source": [
    "# Here is where you set variables for IFR assumptions\n",
    "\n",
    "# Note that this IFR represents a country-wide average on any given day, but the IFRs\n",
    "# are actually adjusted up/down based on median age and nursing home residents per capita\n",
    "\n",
    "# This set represents my worst case scenario (in my 95% CI interval)\n",
    "# Start by setting the inital and final IFRs\n",
    "IFR_S, IFR_E = 0.013, 0.006\n",
    "# Then set dates in between by which it linearly scales to various targets\n",
    "IFR_BREAKS = [['2020-04-30', 0.0095], ['2020-07-31', 0.007], ['2020-09-15', 0.006]]\n",
    "\n",
    "# This set is my optimistic scenario\n",
    "IFR_S, IFR_E = 0.01, 0.0025\n",
    "IFR_BREAKS = [['2020-04-30', 0.0075], ['2020-07-31', 0.0045], ['2020-09-15', 0.0025]]\n",
    "\n",
    "# This set is a highly optimistic scenario that matches the recent CDC data\n",
    "IFR_S, IFR_E = 0.009, 0.002\n",
    "IFR_BREAKS = [['2020-04-30', 0.007], ['2020-07-31', 0.003], ['2020-09-15', 0.002]]\n",
    "\n",
    "# This is my expected scenario\n",
    "IFR_S, IFR_E = 0.01, 0.005\n",
    "IFR_BREAKS = [['2020-04-30', 0.0085], ['2020-07-31', 0.005], ['2020-09-15', 0.004], ['2021-01-15', 0.004],\n",
    "              ['2021-06-01', 0.0025]]\n",
    "\n",
    "# This is my expected scenario\n",
    "IFR_S, IFR_E = 0.014, 0.004\n",
    "IFR_BREAKS = [['2020-04-30', 0.011], ['2020-07-31', 0.009], ['2020-09-15', 0.007], ['2021-01-15', 0.0055],\n",
    "              ['2021-06-01', 0.0045]]\n",
    "\n",
    "# This is my expected scenario\n",
    "IFR_S, IFR_E = 0.013, 0.003\n",
    "IFR_BREAKS = [['2020-04-30', 0.01], ['2020-07-31', 0.0085], ['2020-09-15', 0.007], ['2021-01-15', 0.0055],\n",
    "              ['2021-06-01', 0.004]]"
   ]
  },
  {
   "cell_type": "code",
   "execution_count": null,
   "metadata": {},
   "outputs": [],
   "source": [
    "print(\"These are the factors applied against IFR state-by-state, based on median age and nursing home numbers:\")\n",
    "IFR_S_S, IFR_E_S = f'{100*IFR_S:.1f}%', f'{100*IFR_E:.2f}%'\n",
    "infected_states = get_infections_df(all_stats, meta, DEATH_LAG, IFR_S, IFR_E, IFR_BREAKS, INCUBATION, INFECTIOUS)\n",
    "EST_LINE = str(latest_date - (DEATH_LAG - 1))\n",
    "print(f\"Total infected by {latest_date}: {int(infected_states.NewInf.sum()):,}\")\n",
    "print(f\"Vertical line marking recent estimations set at {EST_LINE}\")"
   ]
  },
  {
   "cell_type": "code",
   "execution_count": null,
   "metadata": {},
   "outputs": [],
   "source": [
    "infected_states.tail()"
   ]
  },
  {
   "cell_type": "code",
   "execution_count": null,
   "metadata": {},
   "outputs": [],
   "source": []
  },
  {
   "cell_type": "markdown",
   "metadata": {},
   "source": [
    "## Now for the charts"
   ]
  },
  {
   "cell_type": "code",
   "execution_count": null,
   "metadata": {},
   "outputs": [],
   "source": [
    "# Just nicking off the values we don't want to display here\n",
    "fazzy = infected_states.reset_index()\n",
    "fazzy = fazzy[fazzy.Date <= latest_displayed]\n",
    "fazzy = fazzy.set_index(['ST', 'Date'])\n",
    "infected_states = fazzy"
   ]
  },
  {
   "cell_type": "code",
   "execution_count": null,
   "metadata": {},
   "outputs": [],
   "source": [
    "fazzle = infected_states.reset_index()[['Date', 'CurrHosp', 'Daily']].groupby('Date').sum()\n",
    "fazzle.columns = ['Hospitalizations', 'Deaths']\n",
    "fazzle.loc[:'2020-07-31', 'Hospitalizations'] = numpy.nan\n",
    "fazzle = fazzle.loc[:str(latest_date), :]\n",
    "fam = fazzle.plot(\n",
    "    title=f\"Current Hospitalizations vs. Daily Deaths\",\n",
    "    secondary_y='Deaths', figsize=(16,5), ylim=0)\n",
    "axes = fam.get_figure().get_axes()\n",
    "for i in range(len(axes)):\n",
    "    axes[i].set_ylim(0)\n",
    "# BIDEN_LINE = pandas.Period('2021-01-22', freq='D')\n",
    "# foo = fam.axvline(BIDEN_LINE, color=\"red\", linestyle=\"--\")"
   ]
  },
  {
   "cell_type": "code",
   "execution_count": null,
   "metadata": {},
   "outputs": [],
   "source": [
    "fazzle"
   ]
  },
  {
   "cell_type": "code",
   "execution_count": null,
   "metadata": {},
   "outputs": [],
   "source": [
    "fazzle.Hospitalizations.max(), fazzle.Deaths.max(), fazzle.Deaths.sum()"
   ]
  },
  {
   "cell_type": "code",
   "execution_count": null,
   "metadata": {},
   "outputs": [],
   "source": [
    "infected_states.columns"
   ]
  },
  {
   "cell_type": "code",
   "execution_count": null,
   "metadata": {},
   "outputs": [],
   "source": [
    "fizzle = infected_states.reset_index()[['Date', 'NewInf', 'Daily']].groupby('Date').sum().copy()\n",
    "fizzle.columns = ['New Infections', 'Deaths']\n",
    "# fizzle = fizzle.loc['2020-08-01':, :]\n",
    "fam = fizzle.plot(\n",
    "    title=f\"New Infections vs. Daily Deaths\",\n",
    "    secondary_y='Deaths', figsize=(16,5), ylim=0)\n",
    "\n",
    "axes = fam.get_figure().get_axes()\n",
    "for i in range(len(axes)):\n",
    "    axes[i].set_ylim(0)"
   ]
  },
  {
   "cell_type": "code",
   "execution_count": null,
   "metadata": {
    "scrolled": true
   },
   "outputs": [],
   "source": [
    "fizzle.loc['2020-09-05':, :]"
   ]
  },
  {
   "cell_type": "code",
   "execution_count": null,
   "metadata": {
    "scrolled": true
   },
   "outputs": [],
   "source": [
    "fizzle = infected_states.reset_index()[['Date', 'CurrHosp', 'Daily']].groupby('Date').sum().copy()\n",
    "fizzle.columns = ['Hospitalizations', 'Deaths']\n",
    "fizzle.loc[:'2020-07-31', 'Hospitalizations'] = numpy.nan\n",
    "fam = fizzle.plot(\n",
    "    title=f\"Hospitalizations vs. Daily Deaths\",\n",
    "    secondary_y='Deaths', figsize=(16,5), ylim=0)\n",
    "\n",
    "axes = fam.get_figure().get_axes()\n",
    "for i in range(len(axes)):\n",
    "    axes[i].set_ylim(0)"
   ]
  },
  {
   "cell_type": "code",
   "execution_count": null,
   "metadata": {
    "scrolled": false
   },
   "outputs": [],
   "source": [
    "# This is where I noodle around to investigate particular states of interest\n",
    "\n",
    "# This next line lists all 51 (DC included)\n",
    "st_names = ['SD', 'ND', 'IA', 'TN']\n",
    "st_names = ['AZ', 'NM', 'PA', 'TX', 'VT',]\n",
    "st_names = ['AZ', 'PA', 'WV', 'NM', 'MS', 'KS', 'TN', 'SD', 'NV', 'AL',\n",
    "            'AR', 'RI', 'IL', 'IN', 'SC', 'MI', 'MA', 'CA', 'NJ', 'TX', ]\n",
    "st_names = ['CA', 'TX', 'PA', 'NY', 'FL', 'AZ', 'IL', 'GA', ]\n",
    "st_names = ['KS', 'MS', 'AL', 'AZ', 'PA', ]\n",
    "st_names = ['TX', 'PA', 'GA', 'MA', 'FL', 'NC', 'TN', ]\n",
    "st_names = ['AK', 'WV', 'ND', 'NM', 'SD']\n",
    "st_names = ['CA', 'NY', 'IL', 'LA', ]\n",
    "st_names = ['DC', 'DC',]\n",
    "st_names = ['CA', 'DC', 'NM', 'MA', 'VA', ]\n",
    "st_names = ['SD', 'ND', 'IA', 'TN']\n",
    "st_names = st_names[40:]\n",
    "st_names = ['NY', 'NJ', 'MA', 'RI', 'IL', 'MI']\n",
    "st_names = ['ID', 'HI', 'NM', 'AZ', 'NV', 'MS', 'AL', 'GA', 'TX', ]\n",
    "st_names = ['FL', 'MI']\n",
    "st_names = list(infected_states.index.get_level_values(0).unique())\n",
    "num_plots = max(len(st_names), 2)\n",
    "fig, axes = plt.subplots(num_plots, figsize=(15, 5*num_plots))\n",
    "for i, st in enumerate(st_names):\n",
    "    est_lag = DOD_META.get(st, (None, DEATH_LAG))[1]\n",
    "    est_line = str(latest_date - (est_lag - 1))\n",
    "    data = infected_states.loc[st, :].reset_index()[['Date', 'CurrHosp', 'DPerM']].copy()\n",
    "    # data = infected_states.loc[st, :].reset_index()[['Date', 'CurrHosp']].copy()\n",
    "    data = data[data.Date >= '2020-03-01']\n",
    "    data.columns = ['Date', 'Hospitalizations', 'Deaths/M']\n",
    "    data = data.groupby('Date').sum()\n",
    "    data.loc[:'2020-07-31', 'Hospitalizations'] = numpy.nan\n",
    "    # data.columns = ['Date', 'Hospitalizations']\n",
    "    fam = data.plot(\n",
    "        ax=axes[i], title=st, ylim=0, secondary_y='Deaths/M',\n",
    "    )\n",
    "    fam.axvline(est_line, color=\"red\", linestyle=\"--\")\n",
    "\n",
    "axes = fam.get_figure().get_axes()\n",
    "for i in range(len(axes)):\n",
    "    axes[i].set_ylim(0)\n",
    "    axes[i].set_xlabel(None)"
   ]
  },
  {
   "cell_type": "code",
   "execution_count": null,
   "metadata": {},
   "outputs": [],
   "source": [
    "df = infected_states.reset_index()\n",
    "# df = df[df.Date < DT]\n",
    "print(f\"{df.NewInf.sum()}, {(df.NewInf.sum()/327_000_000)}\")"
   ]
  },
  {
   "cell_type": "code",
   "execution_count": null,
   "metadata": {},
   "outputs": [],
   "source": [
    "# I usually will set this back about 10 days because I don't trust the estimated infections too much\n",
    "DT = '2021-12-01'\n",
    "term = 'NIPerM'\n",
    "divisor = 10000 # 10000 to convert NIPerM to total percentage ever infected\n",
    "ni = infected_states.reset_index()[['ST', 'Date', term]].copy()\n",
    "ni = ni[ni.Date < DT].copy()\n",
    "ni = (ni.groupby('ST').sum()[term].sort_values(ascending=False) / divisor)\n",
    "# for v in ni.sort_index().values:\n",
    "#     print(v/100)\n",
    "ni"
   ]
  },
  {
   "cell_type": "code",
   "execution_count": null,
   "metadata": {},
   "outputs": [],
   "source": [
    "infected_states.Daily.sum()"
   ]
  },
  {
   "cell_type": "code",
   "execution_count": null,
   "metadata": {},
   "outputs": [],
   "source": [
    "raise ValueError()"
   ]
  },
  {
   "cell_type": "code",
   "execution_count": null,
   "metadata": {},
   "outputs": [],
   "source": [
    "earliest_date = pandas.Period(str(EARLIEST_DATE), freq='D')\n",
    "latest_date = LATEST_DATE\n",
    "if not latest_date:\n",
    "    latest_date = (datetime.datetime.now() - datetime.timedelta(hours=19)).date()\n",
    "latest_date = pandas.Period(str(latest_date), freq='D')\n",
    "all_dates = pandas.period_range(start=earliest_date, end=latest_date, freq='D')\n",
    "\n",
    "uri = download_path(\"cdc_hospitalization_data.csv\")\n",
    "hosp_stats = load_hospital_stats(uri, meta, all_dates)\n",
    "hosp_stats.reset_index().groupby('Date').sum().tail(20)"
   ]
  },
  {
   "cell_type": "code",
   "execution_count": null,
   "metadata": {},
   "outputs": [],
   "source": [
    "spaz = infected_states.reset_index()[['Date', 'Daily']].groupby('Date').sum().copy()\n",
    "spaz.loc['2021-01-03':'2021-02-03'].sum()"
   ]
  },
  {
   "cell_type": "code",
   "execution_count": null,
   "metadata": {},
   "outputs": [],
   "source": [
    "infected_states.columns"
   ]
  },
  {
   "cell_type": "code",
   "execution_count": null,
   "metadata": {},
   "outputs": [],
   "source": [
    "inf = infected_states.loc['MA'].NewInf.sum()\n",
    "dead = infected_states.loc['MA'].Daily.sum()\n",
    "pop = infected_states.loc['MA'].Pop.mean() * 1000000\n",
    "vacc = (4_079_138 + 240_703)\n",
    "inf, dead, vacc, pop, (100 * (dead / inf)), (vacc / pop), (inf - dead) / pop, vacc / pop"
   ]
  },
  {
   "cell_type": "code",
   "execution_count": null,
   "metadata": {},
   "outputs": [],
   "source": [
    "((inf - dead) + vacc - (vacc * ((vacc / pop) * 0.8))) / pop, (vacc / pop) * 0.8"
   ]
  },
  {
   "cell_type": "code",
   "execution_count": null,
   "metadata": {},
   "outputs": [],
   "source": [
    "hosp_stats.reset_index().groupby('Date').sum()[['CurrHosp']].sort_index()"
   ]
  },
  {
   "cell_type": "code",
   "execution_count": null,
   "metadata": {},
   "outputs": [],
   "source": [
    "# list(infected_states.index.get_level_values(0).unique())"
   ]
  },
  {
   "cell_type": "code",
   "execution_count": null,
   "metadata": {
    "scrolled": true
   },
   "outputs": [],
   "source": [
    "num_plots = max(len(DOD_META), 2)\n",
    "fig, axes = plt.subplots(num_plots, figsize=(15, 5*num_plots))\n",
    "for i, (st, __, ignore_days, __) in enumerate(DOD_META):\n",
    "    data = infected_states.loc[st, :].reset_index()[['Date', 'CurrHosp', 'DPerM']].copy()\n",
    "    data = data[data.Date >= '2020-10-01']\n",
    "    data.columns = ['Date', 'Hospitalizations', 'Deaths/M']\n",
    "    fam = data.groupby('Date').sum().plot(\n",
    "        ax=axes[i], title=st, ylim=0, secondary_y='Deaths/M',\n",
    "    )\n",
    "    est_line = str(latest_date - ignore_days)\n",
    "    fam.axvline(est_line, color=\"red\", linestyle=\"--\")\n",
    "\n",
    "axes = fam.get_figure().get_axes()\n",
    "for i in range(len(axes)):\n",
    "    axes[i].set_ylim(0)\n",
    "    axes[i].set_xlabel(None)"
   ]
  },
  {
   "cell_type": "code",
   "execution_count": null,
   "metadata": {
    "scrolled": true
   },
   "outputs": [],
   "source": [
    "st_names = ['AR', 'CO', 'DC', 'DE', 'HI', 'IA', 'ID',\n",
    "            'KS', 'KY', 'MD', 'ME', 'MN', 'MT', 'NE', 'NH', 'NM',\n",
    "            'OK', 'OR', 'UT', 'VT', 'WA', 'WI', 'WV', 'WY']\n",
    "st_names = ['HI', 'MT', ]\n",
    "st_names = ['DE', 'KS', ]\n",
    "num_plots = max(len(st_names), 2)\n",
    "fig, axes = plt.subplots(num_plots, figsize=(15, 5*num_plots))\n",
    "for i, st in enumerate(st_names):\n",
    "    data = infected_states.loc[st, :].reset_index()[['Date', 'Hospital5', 'DPerM']].copy()\n",
    "    data = data[data.Date >= '2020-11-01']\n",
    "    data.columns = ['Date', 'Hospitalizations', 'Deaths/M']\n",
    "    fam = data.groupby('Date').sum().plot(\n",
    "        ax=axes[i], title=st, ylim=0, secondary_y='Deaths/M',\n",
    "    )\n",
    "    fam.axvline(EST_LINE, color=\"red\", linestyle=\"--\")\n",
    "\n",
    "axes = fam.get_figure().get_axes()\n",
    "for i in range(len(axes)):\n",
    "    axes[i].set_ylim(0)"
   ]
  },
  {
   "cell_type": "code",
   "execution_count": null,
   "metadata": {},
   "outputs": [],
   "source": [
    "df = infected_states.reset_index()\n",
    "# df = df[df.Date < DT]\n",
    "print(f\"{(df.NewInf.sum()/327_000_000)}\")"
   ]
  },
  {
   "cell_type": "code",
   "execution_count": null,
   "metadata": {
    "scrolled": false
   },
   "outputs": [],
   "source": [
    "# I usually will set this back about 10 days because I don't trust the estimated infections too much\n",
    "DT = '2021-02-20'\n",
    "term = 'NIPerM'\n",
    "divisor = 10000 # 10000 to convert NIPerM to total percentage ever infected\n",
    "ni = infected_states.reset_index()[['ST', 'Date', term]].copy()\n",
    "ni = ni[ni.Date < DT].copy()\n",
    "ni = (ni.groupby('ST').sum()[term].sort_values(ascending=False) / divisor)\n",
    "# for v in ni.sort_index().values:\n",
    "#     print(v/100)\n",
    "ni"
   ]
  },
  {
   "cell_type": "code",
   "execution_count": null,
   "metadata": {},
   "outputs": [],
   "source": [
    "# Stopping the processing of this notebook\n",
    "raise ValueError()"
   ]
  },
  {
   "cell_type": "markdown",
   "metadata": {
    "slideshow": {
     "slide_type": "slide"
    }
   },
   "source": [
    "## Detritus"
   ]
  },
  {
   "cell_type": "code",
   "execution_count": null,
   "metadata": {},
   "outputs": [],
   "source": [
    "infected_states.reset_index().columns"
   ]
  }
 ],
 "metadata": {
  "kernelspec": {
   "display_name": "Python 3",
   "language": "python",
   "name": "python3"
  },
  "language_info": {
   "codemirror_mode": {
    "name": "ipython",
    "version": 3
   },
   "file_extension": ".py",
   "mimetype": "text/x-python",
   "name": "python",
   "nbconvert_exporter": "python",
   "pygments_lexer": "ipython3",
   "version": "3.9.4"
  }
 },
 "nbformat": 4,
 "nbformat_minor": 2
}
