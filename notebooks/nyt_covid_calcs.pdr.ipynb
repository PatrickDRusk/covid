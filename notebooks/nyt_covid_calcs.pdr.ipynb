{
 "cells": [
  {
   "cell_type": "code",
   "execution_count": null,
   "metadata": {},
   "outputs": [],
   "source": [
    "%matplotlib inline\n",
    "import pandas\n",
    "import matplotlib\n",
    "import matplotlib.pyplot as plt\n",
    "\n",
    "from common import load_data"
   ]
  },
  {
   "cell_type": "code",
   "execution_count": null,
   "metadata": {},
   "outputs": [],
   "source": [
    "EARLIEST_DATE = pandas.Period('2020-03-12', freq='D')\n",
    "LATEST_DATE = pandas.Period('2020-08-15', freq='D')\n",
    "LATEST_DATE = None\n"
   ]
  },
  {
   "cell_type": "code",
   "execution_count": null,
   "metadata": {},
   "outputs": [],
   "source": [
    "latest_date, meta, nyt_stats, ct_stats = load_data(EARLIEST_DATE, LATEST_DATE)\n",
    "print(f\"Latest date = {str(latest_date)}\")"
   ]
  },
  {
   "cell_type": "markdown",
   "metadata": {},
   "source": [
    "### Group on a category from the state metadata and calculate stats from it"
   ]
  },
  {
   "cell_type": "code",
   "execution_count": null,
   "metadata": {},
   "outputs": [],
   "source": [
    "states = ['NY', 'MA', 'CA', 'AZ', 'TX', 'GA', 'FL']\n",
    "states = ['NY', 'MA', 'NJ', 'CT', 'RI', 'TX', 'FL']\n",
    "states = ['NY']\n",
    "states = ['NY', 'NJ', 'MA', 'TX', 'FL', 'AZ', 'GA']\n",
    "states = ['CA', 'TX', 'FL', 'AZ', 'GA']\n",
    "states = ['AL', 'FL', 'MS', 'NV', 'SC', 'TX']\n",
    "states = ['AL', 'AZ', 'CA', 'FL', 'LA', 'MS', 'NJ', 'NV', 'SC', 'TX']\n",
    "states = ['NJ']\n",
    "states = ['AL', 'AZ', 'CA', 'FL', 'GA', 'LA', 'MS', 'NJ', 'NV', 'SC', 'TX']\n",
    "states = ['AL', 'AZ', 'FL', 'GA', 'LA', 'MS', 'NV', 'SC', 'TX']\n",
    "states = None\n",
    "\n",
    "MIN_DATE = '2020-05-01'\n",
    "MIN_DATE = '2020-05-15'\n",
    "MIN_DATE = None\n",
    "\n",
    "# Choose either 'Vote2016', 'Gov', 'Region', or 'Voting'\n",
    "grouper = 'Vote2016'\n",
    "grouper = 'Country'\n",
    "grouper = 'Gov'\n",
    "grouper = 'ST'\n",
    "grouper = 'Voting'\n",
    "grouper = 'Region'\n",
    "\n",
    "if states and (grouper == 'ST'):\n",
    "    nyt_spaz = nyt_stats[nyt_stats.ST.isin(states)]\n",
    "    ct_spaz = ct_stats[ct_stats.ST.isin(states)]\n",
    "else:\n",
    "    nyt_spaz = nyt_stats.copy()\n",
    "    ct_spaz = ct_stats.copy()\n",
    "\n",
    "# nyt_stats = nyt_stats[nyt_stats.ST.isin(['NY', 'MA', 'CA', 'AZ', 'TX', 'GA', 'FL'])]\n",
    "# ct_stats = ct_stats[ct_stats.ST.isin(['NY', 'MA', 'CA', 'AZ', 'TX', 'GA', 'FL'])]\n",
    "# nyt_stats = nyt_stats[nyt_stats.ST.isin(['MA', 'CA', 'AZ', 'TX', 'GA', 'FL'])]\n",
    "# ct_stats = ct_stats[ct_stats.ST.isin(['MA', 'CA', 'AZ', 'TX', 'GA', 'FL'])]\n",
    "\n",
    "# Focus on testing and deaths, starting on a date when there are\n",
    "# relevant numbers for all states\n",
    "nyt = nyt_spaz[['State', 'Date', 'Deaths', grouper]]\n",
    "if grouper == 'ST':\n",
    "    ct = ct_spaz[['Date', 'Pos', 'Neg', grouper]]\n",
    "else:\n",
    "    ct = ct_spaz[['ST', 'Date', 'Pos', 'Neg', grouper]]\n",
    "\n",
    "if MIN_DATE:\n",
    "    nyt = nyt[nyt.Date >= MIN_DATE]\n",
    "    ct = ct[ct.Date >= MIN_DATE]\n",
    "\n",
    "# Group by date and grouper to sum up other columns by date/political party\n",
    "nyt = nyt.groupby(['Date', grouper]).sum().sort_index()\n",
    "ct = ct.groupby(['Date', grouper]).sum().sort_index()\n",
    "\n",
    "# Add a column with total population of states for each party\n",
    "nyt = nyt.join(meta[['Pop', grouper]].groupby(grouper).sum())\n",
    "ct = ct.join(meta[['Pop', grouper]].groupby(grouper).sum())\n",
    "\n",
    "# Calculate per-capita values\n",
    "nyt['DMill'] = nyt.Deaths / nyt.Pop\n",
    "ct['PctPos'] = ct.Pos / (ct.Pos + ct.Neg)\n",
    "\n",
    "# Calculate a few values based on 7-day smoothing\n",
    "shift_days = int(7*len(nyt.index.levels[1]))\n",
    "\n",
    "nyt['Daily'] = (nyt.Deaths - nyt.shift(shift_days//7).Deaths)\n",
    "nyt7 = nyt.shift(shift_days)[['Deaths']]\n",
    "nyt['Deaths7'] = (nyt.Deaths - nyt7.Deaths) / 7\n",
    "nyt['DMill7'] = (nyt.Deaths7 / nyt.Pop)\n",
    "\n",
    "ct7 = ct.shift(shift_days)[['Pos', 'Neg']]\n",
    "ct['NRatio'] = (ct.Neg - ct7.Neg) / (ct.Pos - ct7.Pos)\n",
    "\n",
    "# st.tail(6)\n",
    "nyt.tail(5)"
   ]
  },
  {
   "cell_type": "code",
   "execution_count": null,
   "metadata": {},
   "outputs": [],
   "source": []
  },
  {
   "cell_type": "markdown",
   "metadata": {},
   "source": [
    "## Now for the charts..."
   ]
  },
  {
   "cell_type": "code",
   "execution_count": null,
   "metadata": {},
   "outputs": [],
   "source": [
    "foo = pandas.pivot_table(ct, values = 'NRatio', index=['Date'],\n",
    "                         columns = grouper).plot(title=\"Neg/Pos Ratio (over prior week)\", figsize=(10,4))"
   ]
  },
  {
   "cell_type": "code",
   "execution_count": null,
   "metadata": {},
   "outputs": [],
   "source": [
    "foo = pandas.pivot_table(nyt, values = 'Deaths7', index=['Date'],\n",
    "                         columns = grouper).plot(title=\"Daily Deaths (weekly smoothing)\", figsize=(10,4))"
   ]
  },
  {
   "cell_type": "code",
   "execution_count": null,
   "metadata": {},
   "outputs": [],
   "source": [
    "nyt.tail()"
   ]
  },
  {
   "cell_type": "code",
   "execution_count": null,
   "metadata": {},
   "outputs": [],
   "source": [
    "foo = pandas.pivot_table(nyt, \n",
    "                         values = 'DMill7', index=['Date'],\n",
    "                         columns = grouper).plot(title=\"Daily Deaths Per Million (weekly smoothing)\",\n",
    "                                                 figsize=(10,5))"
   ]
  },
  {
   "cell_type": "code",
   "execution_count": null,
   "metadata": {},
   "outputs": [],
   "source": [
    "foo = pandas.pivot_table(nyt, values = 'Deaths', index=['Date'],\n",
    "                         columns = grouper).plot(title=\"Total Deaths\", figsize=(10,4))"
   ]
  },
  {
   "cell_type": "code",
   "execution_count": null,
   "metadata": {
    "scrolled": true
   },
   "outputs": [],
   "source": [
    "foo = pandas.pivot_table(nyt, values = 'DMill', index=['Date'],\n",
    "                         columns = grouper).plot(title=\"Cumulative Deaths/Million\", figsize=(10,4))"
   ]
  },
  {
   "cell_type": "code",
   "execution_count": null,
   "metadata": {},
   "outputs": [],
   "source": [
    "foo = pandas.pivot_table(ct, values = 'PctPos', index=['Date'],\n",
    "                         columns = grouper).plot(title=\"Cumulative Percent Tests Positive\", figsize=(10,4))"
   ]
  },
  {
   "cell_type": "code",
   "execution_count": null,
   "metadata": {},
   "outputs": [],
   "source": [
    "counties = pandas.read_csv('https://raw.githubusercontent.com/nytimes/covid-19-data/master/us-counties.csv')\n",
    "counties[counties.county == 'Los Angeles'].tail()"
   ]
  },
  {
   "cell_type": "code",
   "execution_count": null,
   "metadata": {},
   "outputs": [],
   "source": [
    "la = counties[counties.county == 'Hennepin'][['date', 'cases', 'deaths']]\n",
    "la.tail()"
   ]
  },
  {
   "cell_type": "code",
   "execution_count": null,
   "metadata": {},
   "outputs": [],
   "source": [
    "uri = 'https://raw.githubusercontent.com/nytimes/covid-19-data/master/us-counties.csv'\n",
    "foo = pandas.read_csv(uri)"
   ]
  },
  {
   "cell_type": "code",
   "execution_count": null,
   "metadata": {},
   "outputs": [],
   "source": [
    "fam = foo[foo.state == 'New York'][['date', 'county', 'cases', 'deaths']].copy()\n",
    "fam = fam[fam.county == 'New York City']\n",
    "fam.columns = ['Date', 'County', 'Cases', 'Deaths']\n",
    "fam.Date = [pandas.Period(str(v)) for v in fam.Date]\n",
    "fam = fam[fam.Date >= pandas.Period('2020-06-01', freq='D')]\n",
    "fam = fam.set_index('Date').sort_index()\n",
    "fam.tail()"
   ]
  },
  {
   "cell_type": "code",
   "execution_count": null,
   "metadata": {},
   "outputs": [],
   "source": [
    "# nyt_stats[nyt_stats.ST == 'GU']"
   ]
  },
  {
   "cell_type": "code",
   "execution_count": null,
   "metadata": {
    "scrolled": true
   },
   "outputs": [],
   "source": [
    "for d in nyt_stats.groupby('Date').sum().sort_index(ascending=False).Deaths.values:\n",
    "    print(d)"
   ]
  },
  {
   "cell_type": "code",
   "execution_count": null,
   "metadata": {
    "scrolled": true
   },
   "outputs": [],
   "source": [
    "def print_st(st):\n",
    "    for d in nyt_stats[nyt_stats.ST == st].sort_index(ascending=False).Deaths.values:\n",
    "        print(d)\n",
    "\n",
    "print_st('NY')"
   ]
  },
  {
   "cell_type": "code",
   "execution_count": null,
   "metadata": {},
   "outputs": [],
   "source": [
    "# nyt.tail(10)"
   ]
  },
  {
   "cell_type": "code",
   "execution_count": null,
   "metadata": {},
   "outputs": [],
   "source": [
    "nyt.loc['2020-07-22', :].sort_values('DMill7', ascending=False).head(20)"
   ]
  },
  {
   "cell_type": "code",
   "execution_count": null,
   "metadata": {},
   "outputs": [],
   "source": [
    "nyt_stats[nyt_stats.ST == 'NY'].head(28).tail(8)"
   ]
  },
  {
   "cell_type": "code",
   "execution_count": null,
   "metadata": {},
   "outputs": [],
   "source": []
  }
 ],
 "metadata": {
  "kernelspec": {
   "display_name": "Python 3",
   "language": "python",
   "name": "python3"
  },
  "language_info": {
   "codemirror_mode": {
    "name": "ipython",
    "version": 3
   },
   "file_extension": ".py",
   "mimetype": "text/x-python",
   "name": "python",
   "nbconvert_exporter": "python",
   "pygments_lexer": "ipython3",
   "version": "3.6.8"
  }
 },
 "nbformat": 4,
 "nbformat_minor": 2
}
