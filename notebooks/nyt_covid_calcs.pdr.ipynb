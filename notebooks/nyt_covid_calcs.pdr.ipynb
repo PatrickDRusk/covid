{
 "cells": [
  {
   "cell_type": "code",
   "execution_count": null,
   "metadata": {},
   "outputs": [],
   "source": [
    "%matplotlib inline\n",
    "import pandas\n",
    "import matplotlib\n",
    "import matplotlib.pyplot as plt\n",
    "\n",
    "from common2 import load_data, calc_state_stats, get_infections_df"
   ]
  },
  {
   "cell_type": "code",
   "execution_count": null,
   "metadata": {},
   "outputs": [],
   "source": [
    "EARLIEST_DATE = pandas.Period('2020-03-12', freq='D')\n",
    "LATEST_DATE = pandas.Period('2020-10-16', freq='D')\n",
    "LATEST_DATE = None"
   ]
  },
  {
   "cell_type": "code",
   "execution_count": null,
   "metadata": {},
   "outputs": [],
   "source": [
    "latest_date, meta, nyt_stats, ct_stats = load_data(EARLIEST_DATE, LATEST_DATE)\n",
    "print(f\"Latest date = {str(latest_date)}\")"
   ]
  },
  {
   "cell_type": "code",
   "execution_count": null,
   "metadata": {},
   "outputs": [],
   "source": [
    "ct1 = ct_stats.set_index(['ST', 'Date']).sort_index()[['Pos', 'Neg']]\n",
    "nyt1 = nyt_stats.set_index(['ST', 'Date']).sort_index()[['Deaths']]\n",
    "both = ct1.join(nyt1)\n",
    "meta_tmp = meta.set_index('ST')"
   ]
  },
  {
   "cell_type": "code",
   "execution_count": null,
   "metadata": {},
   "outputs": [],
   "source": [
    "states = [calc_state_stats(state, df, meta_tmp, latest_date)\n",
    "          for state, df in both.reset_index().groupby('ST')]\n",
    "states[-17].tail(2)"
   ]
  },
  {
   "cell_type": "code",
   "execution_count": null,
   "metadata": {},
   "outputs": [],
   "source": [
    "stats = pandas.concat(states).reset_index()\n",
    "stats.tail(2)"
   ]
  },
  {
   "cell_type": "markdown",
   "metadata": {},
   "source": [
    "### Group on a category from the state metadata and calculate stats from it"
   ]
  },
  {
   "cell_type": "code",
   "execution_count": null,
   "metadata": {},
   "outputs": [],
   "source": [
    "states_filter = ['NY', 'MA', 'CA', 'AZ', 'TX', 'GA', 'FL']\n",
    "states_filter = ['NY', 'MA', 'NJ', 'CT', 'RI', 'TX', 'FL']\n",
    "states_filter = ['NY']\n",
    "states_filter = ['NY', 'NJ', 'MA', 'TX', 'FL', 'AZ', 'GA']\n",
    "states_filter = ['CA', 'TX', 'FL', 'AZ', 'GA']\n",
    "states_filter = ['AL', 'FL', 'MS', 'NV', 'SC', 'TX']\n",
    "states_filter = ['AL', 'AZ', 'CA', 'FL', 'LA', 'MS', 'NJ', 'NV', 'SC', 'TX']\n",
    "states_filter = ['NJ']\n",
    "states_filter = ['AL', 'AZ', 'CA', 'FL', 'GA', 'LA', 'MS', 'NJ', 'NV', 'SC', 'TX']\n",
    "states_filter = ['AL', 'AZ', 'FL', 'GA', 'LA', 'MS', 'NV', 'SC', 'TX']\n",
    "states_filter = None\n",
    "\n",
    "MIN_DATE = '2020-05-01'\n",
    "MIN_DATE = '2020-05-15'\n",
    "MIN_DATE = None\n",
    "\n",
    "# Choose either 'Vote2016', 'Gov', 'Region', or 'Voting'\n",
    "grouper = 'Vote2016'\n",
    "grouper = 'Gov'\n",
    "grouper = 'ST'\n",
    "grouper = 'Voting'\n",
    "grouper = 'Country'\n",
    "grouper = 'Region'\n",
    "\n",
    "if states_filter and (grouper == 'ST'):\n",
    "    spaz = stats[stats.ST.isin(states_filter)].copy()\n",
    "else:\n",
    "    spaz = stats.copy()\n",
    "\n",
    "if MIN_DATE:\n",
    "    spaz = spaz[spaz.Date >= MIN_DATE]\n",
    "\n",
    "# Focus on testing and deaths, starting on a date when there are\n",
    "# relevant numbers for all states\n",
    "nyt = spaz[['State', 'Date', 'Deaths', grouper]]\n",
    "if grouper == 'ST':\n",
    "    ct = spaz[['Date', 'Pos', 'Neg', grouper]]\n",
    "else:\n",
    "    ct = spaz[['ST', 'Date', 'Pos', 'Neg', grouper]]\n",
    "\n",
    "# Group by date and grouper to sum up other columns by date/political party\n",
    "nyt = nyt.groupby(['Date', grouper]).sum().sort_index()\n",
    "ct = ct.groupby(['Date', grouper]).sum().sort_index()\n",
    "\n",
    "# Add a column with total population of states for each party\n",
    "nyt = nyt.join(meta[['Pop', grouper]].groupby(grouper).sum())\n",
    "ct = ct.join(meta[['Pop', grouper]].groupby(grouper).sum())\n",
    "\n",
    "# Calculate per-capita values\n",
    "nyt['DMill'] = nyt.Deaths / nyt.Pop\n",
    "ct['PctPos'] = ct.Pos / (ct.Pos + ct.Neg)\n",
    "\n",
    "# Calculate a few values based on 7-day smoothing\n",
    "shift_days = int(7*len(nyt.index.levels[1]))\n",
    "\n",
    "nyt['Daily'] = (nyt.Deaths - nyt.shift(shift_days//7).Deaths)\n",
    "nyt7 = nyt.shift(shift_days)[['Deaths']]\n",
    "nyt['Deaths7'] = (nyt.Deaths - nyt7.Deaths) / 7\n",
    "nyt['DMill7'] = (nyt.Deaths7 / nyt.Pop)\n",
    "\n",
    "ct7 = ct.shift(shift_days)[['Pos', 'Neg']]\n",
    "ct['NRatio'] = (ct.Neg - ct7.Neg) / (ct.Pos - ct7.Pos)\n",
    "\n",
    "# st.tail(6)\n",
    "nyt.tail(5)"
   ]
  },
  {
   "cell_type": "code",
   "execution_count": null,
   "metadata": {},
   "outputs": [],
   "source": []
  },
  {
   "cell_type": "markdown",
   "metadata": {},
   "source": [
    "## Now for the charts..."
   ]
  },
  {
   "cell_type": "code",
   "execution_count": null,
   "metadata": {},
   "outputs": [],
   "source": [
    "foo = pandas.pivot_table(ct, values = 'NRatio', index=['Date'],\n",
    "                         columns = grouper).plot(title=\"Neg/Pos Ratio (over prior week)\",\n",
    "                                                 figsize=(15,5))"
   ]
  },
  {
   "cell_type": "code",
   "execution_count": null,
   "metadata": {},
   "outputs": [],
   "source": [
    "foo = pandas.pivot_table(nyt, values = 'Deaths7', index=['Date'],\n",
    "                         columns = grouper).plot(title=\"Daily Deaths (weekly smoothing)\",\n",
    "                                                 figsize=(15,5))"
   ]
  },
  {
   "cell_type": "code",
   "execution_count": null,
   "metadata": {},
   "outputs": [],
   "source": [
    "foo = pandas.pivot_table(nyt, values = 'DMill7', index=['Date'],\n",
    "                         columns = grouper).plot(title=\"Daily Deaths Per Million (weekly smoothing)\",\n",
    "                                                 figsize=(15,5))"
   ]
  },
  {
   "cell_type": "code",
   "execution_count": null,
   "metadata": {
    "scrolled": true
   },
   "outputs": [],
   "source": [
    "foo = pandas.pivot_table(nyt.loc['2020-06-01':, :], \n",
    "                         values = 'DMill7', index=['Date'],\n",
    "                         columns = grouper).plot(title=\"Daily Deaths Per Million (weekly smoothing)\",\n",
    "                                                 figsize=(15,5))"
   ]
  },
  {
   "cell_type": "code",
   "execution_count": null,
   "metadata": {},
   "outputs": [],
   "source": [
    "foo = pandas.pivot_table(nyt, values = 'Deaths', index=['Date'],\n",
    "                         columns = grouper).plot(title=\"Total Deaths\", figsize=(15,5))"
   ]
  },
  {
   "cell_type": "code",
   "execution_count": null,
   "metadata": {
    "scrolled": true
   },
   "outputs": [],
   "source": [
    "foo = pandas.pivot_table(nyt, values = 'DMill', index=['Date'],\n",
    "                         columns = grouper).plot(title=\"Cumulative Deaths/Million\",\n",
    "                                                 figsize=(15,5))"
   ]
  },
  {
   "cell_type": "code",
   "execution_count": null,
   "metadata": {},
   "outputs": [],
   "source": [
    "foo = pandas.pivot_table(ct, values = 'PctPos', index=['Date'],\n",
    "                         columns = grouper).plot(title=\"Cumulative Percent Tests Positive\",\n",
    "                                                 figsize=(15,5))"
   ]
  },
  {
   "cell_type": "code",
   "execution_count": null,
   "metadata": {
    "scrolled": true
   },
   "outputs": [],
   "source": [
    "for d in stats.groupby('Date').sum().sort_index(ascending=False).Deaths.values:\n",
    "    print(d)"
   ]
  },
  {
   "cell_type": "code",
   "execution_count": null,
   "metadata": {
    "scrolled": true
   },
   "outputs": [],
   "source": [
    "def print_st(st):\n",
    "    for d in stats[stats.ST == st].sort_index(ascending=False).Deaths.values:\n",
    "        print(d)\n",
    "\n",
    "print_st('NY')"
   ]
  },
  {
   "cell_type": "code",
   "execution_count": null,
   "metadata": {},
   "outputs": [],
   "source": [
    "raise ValueError()"
   ]
  },
  {
   "cell_type": "code",
   "execution_count": null,
   "metadata": {},
   "outputs": [],
   "source": [
    "counties = pandas.read_csv('https://raw.githubusercontent.com/nytimes/covid-19-data/master/us-counties.csv')\n",
    "counties[counties.county == 'Los Angeles'].tail()"
   ]
  },
  {
   "cell_type": "code",
   "execution_count": null,
   "metadata": {},
   "outputs": [],
   "source": [
    "la = counties[counties.county == 'Hennepin'][['date', 'cases', 'deaths']]\n",
    "la.tail()"
   ]
  },
  {
   "cell_type": "code",
   "execution_count": null,
   "metadata": {},
   "outputs": [],
   "source": [
    "uri = 'https://raw.githubusercontent.com/nytimes/covid-19-data/master/us-counties.csv'\n",
    "foo = pandas.read_csv(uri)"
   ]
  },
  {
   "cell_type": "code",
   "execution_count": null,
   "metadata": {},
   "outputs": [],
   "source": [
    "fam = foo[foo.state == 'New York'][['date', 'county', 'cases', 'deaths']].copy()\n",
    "fam = fam[fam.county == 'New York City']\n",
    "fam.columns = ['Date', 'County', 'Cases', 'Deaths']\n",
    "fam.Date = [pandas.Period(str(v)) for v in fam.Date]\n",
    "fam = fam[fam.Date >= pandas.Period('2020-06-01', freq='D')]\n",
    "fam = fam.set_index('Date').sort_index()\n",
    "fam.tail()"
   ]
  },
  {
   "cell_type": "code",
   "execution_count": null,
   "metadata": {},
   "outputs": [],
   "source": [
    "SMOOTH_CONFIGS = dict(\n",
    "    Standard=\n",
    "        dict(\n",
    "            DaysOfWeek = ('W-SUN', 'W-MON'),\n",
    "            Holidays = (\n",
    "                '05-23-2020', '05-26-2020', '05-27-2020',  # Memorial Day\n",
    "                '07-03-2020', '07-04-2020', # Independence Day\n",
    "                '09-05-2020', '09-08-2020', '09-09-2020',  # Labor Day\n",
    "            )\n",
    "        )\n",
    ")\n",
    "SMOOTH_DATES = dict()\n",
    "sd = str(EARLIEST_DATE)\n",
    "ed = str(latest_date)\n",
    "for k, cfg in SMOOTH_CONFIGS.items():\n",
    "    dates = pandas.DatetimeIndex([], freq='D')\n",
    "    for dow in cfg['DaysOfWeek']:\n",
    "        dates = dates.union(pandas.date_range(start=sd, end=ed, freq=dow))\n",
    "    holidays = cfg.get('Holidays', [])\n",
    "    if len(holidays):\n",
    "        dates = dates.union(pandas.DatetimeIndex(holidays))\n",
    "    SMOOTH_DATES[k] = dates\n",
    "SMOOTH_DATES"
   ]
  },
  {
   "cell_type": "code",
   "execution_count": null,
   "metadata": {},
   "outputs": [],
   "source": [
    "dates = pandas.DatetimeIndex(('2020-01-01', '2020-03-23'))\n",
    "dates"
   ]
  },
  {
   "cell_type": "code",
   "execution_count": null,
   "metadata": {},
   "outputs": [],
   "source": [
    "list(dates[:-1])"
   ]
  },
  {
   "cell_type": "code",
   "execution_count": null,
   "metadata": {},
   "outputs": [],
   "source": [
    "stats.set_index('Date').loc['2020-09-20', ['State', 'Deaths']].sort_values('State').head()"
   ]
  },
  {
   "cell_type": "code",
   "execution_count": null,
   "metadata": {},
   "outputs": [],
   "source": []
  }
 ],
 "metadata": {
  "kernelspec": {
   "display_name": "Python 3",
   "language": "python",
   "name": "python3"
  },
  "language_info": {
   "codemirror_mode": {
    "name": "ipython",
    "version": 3
   },
   "file_extension": ".py",
   "mimetype": "text/x-python",
   "name": "python",
   "nbconvert_exporter": "python",
   "pygments_lexer": "ipython3",
   "version": "3.8.2"
  }
 },
 "nbformat": 4,
 "nbformat_minor": 2
}
