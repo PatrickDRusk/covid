{
 "cells": [
  {
   "cell_type": "markdown",
   "metadata": {},
   "source": [
    "# Calculating implied infection numbers"
   ]
  },
  {
   "cell_type": "markdown",
   "metadata": {},
   "source": [
    "This notebook tries to compute what the full infection numbers in the past and present likely were/are.\n",
    "\n",
    "It does so in the past by blending variables for \"median days from infection to death\" and \"infection fatility rate\" (IFR) with smoothed death rates. In other words, days_to_death days before date D, there must have been roughly (deaths_on_date_D / IFR) infections to end up with a given number of deaths on date D.\n",
    "\n",
    "It does in the present to looking at what percentage of infections were confirmed on the last day calculated in the past, and applying that percentage to the new infections found since then. That doesn't quite take into account if there is a significant ramping of testing during that time, but it should be close enough.\n",
    "\n",
    "The principal source of death data is files from the NY Times, supplemented by a more accurate DateOfDeath.csv from Massachusetts. The source of testing data is The COVID Tracking Project, maintained by The Atlantic."
   ]
  },
  {
   "cell_type": "markdown",
   "metadata": {},
   "source": [
    "NOTE: Prior to running this notebook, you should retrieve the latest DateOfDeath.csv file by:\n",
    "\n",
    "1. going to https://www.mass.gov/info-details/covid-19-response-reporting,\n",
    "2. downloading the raw data zip from the line saying \"Raw data used to create the dashboard is available here:\"\n",
    "3. copying the DateofDeath.csv in that file to the same directory as the notebook\n",
    "\n",
    "Yeah, that could be automated. Just haven't done it yet..."
   ]
  },
  {
   "cell_type": "code",
   "execution_count": null,
   "metadata": {},
   "outputs": [],
   "source": [
    "%matplotlib inline\n",
    "import numpy\n",
    "import pandas\n",
    "import matplotlib\n",
    "import matplotlib.pyplot as plt\n",
    "\n",
    "from common import load_data"
   ]
  },
  {
   "cell_type": "code",
   "execution_count": null,
   "metadata": {},
   "outputs": [],
   "source": [
    "# Earliest date that there is sufficient data for all states, including MA\n",
    "EARLIEST_DATE = pandas.Period('2020-03-10', freq='D')\n",
    "LATEST_DATE = None\n",
    "LATEST_DATE = pandas.Period('2020-07-31', freq='D')\n"
   ]
  },
  {
   "cell_type": "code",
   "execution_count": null,
   "metadata": {},
   "outputs": [],
   "source": [
    "meta, nyt_stats, ct_stats = load_data(EARLIEST_DATE, LATEST_DATE)"
   ]
  },
  {
   "cell_type": "markdown",
   "metadata": {},
   "source": [
    "### Group on date and calculate new stats"
   ]
  },
  {
   "cell_type": "code",
   "execution_count": null,
   "metadata": {},
   "outputs": [],
   "source": [
    "nyt = nyt_stats.groupby('Date').sum().sort_index()[['Deaths']].copy()\n",
    "ct = ct_stats.groupby('Date').sum().sort_index()[['Pos', 'Neg']].copy()\n",
    "\n",
    "# Calculate per-capita values\n",
    "ct['PctPos'] = ct.Pos / (ct.Pos + ct.Neg)\n",
    "\n",
    "# Calculate daily deaths and smoothed (avg of trailing 7 days) deaths\n",
    "nyt['Daily'] = (nyt.Deaths - nyt.shift().Deaths)\n",
    "nyt['Deaths7'] = (nyt.Deaths - nyt.shift(7).Deaths) / 7\n",
    "\n",
    "# Calculate confirmed tests based on smoothed weekly data\n",
    "ct7 = ct.shift(7)[['Pos', 'Neg']]\n",
    "ct['NRatio'] = (ct.Neg - ct7.Neg) / (ct.Pos - ct7.Pos)\n",
    "ct['DailyConfirms'] = (ct.Pos - ct7.Pos) / 7\n",
    "\n",
    "ct.tail()"
   ]
  },
  {
   "cell_type": "markdown",
   "metadata": {
    "slideshow": {
     "slide_type": "slide"
    }
   },
   "source": [
    "## Now for the charts..."
   ]
  },
  {
   "cell_type": "code",
   "execution_count": null,
   "metadata": {},
   "outputs": [],
   "source": [
    "def get_infections_df(scenarios):\n",
    "    data = {}\n",
    "    for name, death_lag, ifr_high, ifr_low in scenarios:\n",
    "        # Calculate the IFR to apply for each day\n",
    "        ifr = pandas.Series(numpy.linspace(ifr_high, ifr_low, len(nyt)), index=nyt.index)\n",
    "        # Calculate the infections in the past\n",
    "        infections = nyt.shift(-death_lag).Deaths7 / ifr\n",
    "        \n",
    "        # Find out the ratio of infections that were detected on the last date in the past\n",
    "        last_date = infections.index[-(death_lag+1)]\n",
    "        last_ratio = infections.loc[last_date] / ct.loc[last_date, 'DailyConfirms']\n",
    "        \n",
    "        # Apply that ratio to the dates since that date\n",
    "        infections.iloc[-death_lag:] = ct.DailyConfirms.iloc[-death_lag:] * last_ratio\n",
    "\n",
    "        print(1 / last_ratio)\n",
    "        data[name] = infections\n",
    "\n",
    "    return pandas.DataFrame(data)"
   ]
  },
  {
   "cell_type": "code",
   "execution_count": null,
   "metadata": {},
   "outputs": [],
   "source": [
    "SCENARIOS = (('20', 20, 0.01, 0.01), ('18', 18, 0.01, 0.01), ('16', 16, 0.01, 0.01), )\n",
    "\n",
    "df = get_infections_df(SCENARIOS)\n",
    "foo = df.plot(title=\"New Infections Estimates, varying average days to death, IFR = 1.0%\", figsize=(10,5))"
   ]
  },
  {
   "cell_type": "code",
   "execution_count": null,
   "metadata": {},
   "outputs": [],
   "source": [
    "SCENARIOS = (('1.3%', 18, 0.013, 0.013), ('1.0%', 18, 0.01, 0.01), ('0.7%', 18, 0.007, 0.007), )\n",
    "\n",
    "df = get_infections_df(SCENARIOS)\n",
    "foo = df.plot(title=\"New Infections Estimates, varying IFR, days to death = 18\", figsize=(10,5))"
   ]
  },
  {
   "cell_type": "code",
   "execution_count": null,
   "metadata": {},
   "outputs": [],
   "source": [
    "SCENARIOS = (('1.2% - 0.8%', 18, 0.012, 0.008), ('1.0% - 0.7%', 18, 0.01, 0.007), ('0.9% - 0.6%', 18, 0.009, 0.006), )\n",
    "\n",
    "df = get_infections_df(SCENARIOS)\n",
    "foo = df.plot(title=\"Infection Estimations, improving IFR, days to death = 18\", figsize=(10,5))"
   ]
  },
  {
   "cell_type": "code",
   "execution_count": null,
   "metadata": {},
   "outputs": [],
   "source": [
    "SCENARIOS = (('1.2% - 0.6%', 19, 0.011, 0.006), )\n",
    "\n",
    "df = get_infections_df(SCENARIOS)\n",
    "foo = df.plot(title=\"Infection Estimations, my hunch, 19 median days to death\", figsize=(10,5))"
   ]
  },
  {
   "cell_type": "code",
   "execution_count": null,
   "metadata": {},
   "outputs": [],
   "source": [
    "df.sum()"
   ]
  },
  {
   "cell_type": "code",
   "execution_count": null,
   "metadata": {},
   "outputs": [],
   "source": [
    "df.tail()"
   ]
  },
  {
   "cell_type": "code",
   "execution_count": null,
   "metadata": {},
   "outputs": [],
   "source": [
    "SCENARIOS = (('1.2% - 0.5%', 21, 0.012, 0.005), )\n",
    "\n",
    "df = get_infections_df(SCENARIOS)\n",
    "foo = df.plot(title=\"Worst case? 21 days to death, improving IFR\", figsize=(10,5))"
   ]
  },
  {
   "cell_type": "code",
   "execution_count": null,
   "metadata": {},
   "outputs": [],
   "source": []
  }
 ],
 "metadata": {
  "kernelspec": {
   "display_name": "Python 3",
   "language": "python",
   "name": "python3"
  },
  "language_info": {
   "codemirror_mode": {
    "name": "ipython",
    "version": 3
   },
   "file_extension": ".py",
   "mimetype": "text/x-python",
   "name": "python",
   "nbconvert_exporter": "python",
   "pygments_lexer": "ipython3",
   "version": "3.6.8"
  }
 },
 "nbformat": 4,
 "nbformat_minor": 2
}
